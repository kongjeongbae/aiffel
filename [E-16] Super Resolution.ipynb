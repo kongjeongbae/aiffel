{
 "cells": [
  {
   "cell_type": "markdown",
   "id": "married-arizona",
   "metadata": {},
   "source": [
    "# 라이브러리 로드"
   ]
  },
  {
   "cell_type": "code",
   "execution_count": 1,
   "id": "catholic-crawford",
   "metadata": {},
   "outputs": [],
   "source": [
    "import os\n",
    "\n",
    "\n",
    "import tensorflow as tf\n",
    "import tensorflow_datasets as tfds\n",
    "import cv2\n",
    "import imageio\n",
    "from PIL import Image\n",
    "\n",
    "from skimage import data\n",
    "from skimage.data import coffee, rocket, astronaut, chelsea\n",
    "from skimage.metrics import peak_signal_noise_ratio, structural_similarity\n",
    "import numpy as np\n",
    "\n",
    "from tensorflow.keras import Input, Model, layers\n",
    "from tensorflow.python.keras import applications\n",
    "from tensorflow.keras import losses, metrics, optimizers\n",
    "\n",
    "import matplotlib.pyplot as plt"
   ]
  },
  {
   "cell_type": "code",
   "execution_count": 2,
   "id": "actual-stuart",
   "metadata": {
    "scrolled": true
   },
   "outputs": [
    {
     "data": {
      "text/plain": [
       "{'train': <PrefetchDataset shapes: {hr: (None, None, 3), lr: (None, None, 3)}, types: {hr: tf.uint8, lr: tf.uint8}>,\n",
       " 'validation': <PrefetchDataset shapes: {hr: (None, None, 3), lr: (None, None, 3)}, types: {hr: tf.uint8, lr: tf.uint8}>}"
      ]
     },
     "execution_count": 2,
     "metadata": {},
     "output_type": "execute_result"
    }
   ],
   "source": [
    "tfds.load(\"div2k/bicubic_x4\")"
   ]
  },
  {
   "cell_type": "markdown",
   "id": "verified-christopher",
   "metadata": {},
   "source": [
    "# Bicubic interpolation, SRGAN 비교"
   ]
  },
  {
   "cell_type": "code",
   "execution_count": 3,
   "id": "promotional-course",
   "metadata": {},
   "outputs": [],
   "source": [
    "model_path = os.getenv('HOME')+'/aiffel/super_resolution/srgan_G.h5'\n",
    "model = tf.keras.models.load_model(model_path, compile=False)"
   ]
  },
  {
   "cell_type": "code",
   "execution_count": 4,
   "id": "controlling-emphasis",
   "metadata": {},
   "outputs": [],
   "source": [
    "class SuperResolution:\n",
    "    def __init__(self, image, model, show=True):\n",
    "        self.show = show\n",
    "        self.srgan = model\n",
    "        self.image = self.resize_image(image)\n",
    "        self.interpolation_image = self.make_interpolation(self.image)\n",
    "        self.srgan_image = self.make_srgan(self.interpolation_image)\n",
    "        self.show_srgan()\n",
    "    \n",
    "    \n",
    "    def resize_image(self, image):\n",
    "        w = (image.shape[0] // 4) * 4\n",
    "        h = (image.shape[1] // 4) * 4\n",
    "        return cv2.resize(image, dsize=(h, w))\n",
    "    \n",
    "    \n",
    "    def interpolation_xn(self, image, n):\n",
    "        img_shape = image.shape\n",
    "        downsample = cv2.resize(\n",
    "            image,\n",
    "            dsize=(img_shape[1]//n, img_shape[0]//n)\n",
    "        )\n",
    "        upsample = cv2.resize(\n",
    "            downsample,\n",
    "            dsize=(img_shape[1], img_shape[0]),\n",
    "            interpolation=cv2.INTER_CUBIC\n",
    "        )\n",
    "        return upsample\n",
    "\n",
    "    \n",
    "    def make_interpolation(self, image):\n",
    "        image4 = self.interpolation_xn(image, 4)\n",
    "\n",
    "        images = [image, image4]\n",
    "        titles = [\"HR\", \"x4\"]\n",
    "        \n",
    "        psnr = [round(peak_signal_noise_ratio(image, i), 3) for i in images]\n",
    "        ssim = [round(structural_similarity(image, i, multichannel=True), 3) for i in images]\n",
    "        \n",
    "        if self.show:\n",
    "            plt.figure(figsize=(16,10))\n",
    "            for i in range(2):\n",
    "                plt.subplot(2,1,i+1)\n",
    "                plt.imshow(images[i])\n",
    "                plt.title(titles[i] + f\" [{psnr[i]}/{ssim[i]}]\", fontsize=20)\n",
    "        \n",
    "        return images[-1]\n",
    "    \n",
    "    \n",
    "    def make_srgan(self, image):\n",
    "        downsample = cv2.resize(image, dsize=(image.shape[1]//4, image.shape[0]//4))\n",
    "        image = tf.cast(downsample[np.newaxis, ...], tf.float32)\n",
    "        sr = self.srgan.predict(image)\n",
    "        sr = tf.clip_by_value(sr, 0, 255)\n",
    "        sr = tf.round(sr)\n",
    "        sr = tf.cast(sr, tf.uint8)\n",
    "        return np.array(sr)[0]\n",
    "    \n",
    "    \n",
    "    def show_srgan(self):\n",
    "        plt.figure(figsize=(16,10))\n",
    "        origin = self.image\n",
    "        img = self.srgan_image\n",
    "        psnr = round(peak_signal_noise_ratio(origin, img), 3)\n",
    "        ssim = round(structural_similarity(origin, img, multichannel=True), 3)\n",
    "        if self.show:\n",
    "            plt.subplot(2,1,1)\n",
    "            plt.imshow(img)\n",
    "            plt.title(\"SRGAN x4\"  + f\" [{psnr}/{ssim}]\", fontsize=20)\n",
    "            "
   ]
  },
  {
   "cell_type": "markdown",
   "id": "arctic-subsection",
   "metadata": {},
   "source": [
    "## 저해상도 이미지 복원"
   ]
  },
  {
   "cell_type": "code",
   "execution_count": 6,
   "id": "compressed-bulgaria",
   "metadata": {
    "scrolled": false
   },
   "outputs": [],
   "source": [
    "cat = chelsea()\n",
    "sr = SuperResolution(cat, model)"
   ]
  },
  {
   "cell_type": "markdown",
   "id": "isolated-element",
   "metadata": {},
   "source": [
    "<img src=\"https://i.ibb.co/5cPwZVK/2021-11-25-17-00-15.png\" width=400></img>"
   ]
  },
  {
   "cell_type": "code",
   "execution_count": 7,
   "id": "enormous-shelter",
   "metadata": {},
   "outputs": [],
   "source": [
    "coffee_img = coffee()\n",
    "sr = SuperResolution(coffee_img, model)"
   ]
  },
  {
   "cell_type": "markdown",
   "id": "adolescent-briefs",
   "metadata": {},
   "source": [
    "<img src=\"https://i.ibb.co/3mC4SZn/2021-11-25-17-00-11.png\" width=400></img>"
   ]
  },
  {
   "cell_type": "code",
   "execution_count": 10,
   "id": "crazy-wedding",
   "metadata": {},
   "outputs": [],
   "source": [
    "rocket_img = rocket()\n",
    "sr = SuperResolution(rocket_img, model)"
   ]
  },
  {
   "cell_type": "markdown",
   "id": "acquired-finance",
   "metadata": {},
   "source": [
    "<img src=\"https://i.ibb.co/D420qXG/2021-11-25-17-00-07.png\" width=400></img>"
   ]
  },
  {
   "cell_type": "code",
   "execution_count": 11,
   "id": "associate-inventory",
   "metadata": {},
   "outputs": [],
   "source": [
    "astronaut_img = astronaut()\n",
    "sr = SuperResolution(astronaut_img, model)"
   ]
  },
  {
   "cell_type": "markdown",
   "id": "worthy-colony",
   "metadata": {},
   "source": [
    "<img src=\"https://i.ibb.co/zhpn5py/2021-11-25-17-00-03.png\" width=300></img>"
   ]
  },
  {
   "cell_type": "markdown",
   "id": "afraid-better",
   "metadata": {},
   "source": [
    "## 고해상도 이미지 복원"
   ]
  },
  {
   "cell_type": "code",
   "execution_count": 12,
   "id": "comic-quick",
   "metadata": {},
   "outputs": [],
   "source": [
    "newyork = np.asarray(Image.open('newyork.jpg'))\n",
    "sr = SuperResolution(newyork, model)"
   ]
  },
  {
   "cell_type": "markdown",
   "id": "minor-opportunity",
   "metadata": {},
   "source": [
    "<img src=\"https://i.ibb.co/7zyMNxN/2021-11-25-18-13-34.png\" width=300></img>"
   ]
  },
  {
   "cell_type": "code",
   "execution_count": 13,
   "id": "lyric-samba",
   "metadata": {},
   "outputs": [],
   "source": [
    "waterfall = np.asarray(Image.open('duomo.jpg'))\n",
    "sr = SuperResolution(waterfall, model)"
   ]
  },
  {
   "cell_type": "markdown",
   "id": "continued-glance",
   "metadata": {},
   "source": [
    "<img src=\"https://i.ibb.co/QcbVbp4/2021-11-25-18-13-19.png\" width=300></img>"
   ]
  },
  {
   "cell_type": "markdown",
   "id": "diverse-ghana",
   "metadata": {},
   "source": [
    "# 저해상도 gif 동영상, 고해상도 변환"
   ]
  },
  {
   "cell_type": "code",
   "execution_count": 19,
   "id": "variable-howard",
   "metadata": {},
   "outputs": [],
   "source": [
    "class GIFConvert:\n",
    "    def __init__(self, gif_path, model):\n",
    "        self.gif_path = gif_path\n",
    "        self.model = model\n",
    "        self.gif = cv2.VideoCapture(gif_path)\n",
    "        self.frames = self.make_frames()\n",
    "        self.bicubics, self.srgan = self.make_new_gifs()\n",
    "        self.save_gifs()\n",
    "    \n",
    "    def make_frames(self):\n",
    "        frames = []\n",
    "        while True:\n",
    "            check, frame = self.gif.read()\n",
    "            if check:\n",
    "                frame = cv2.cvtColor(frame, cv2.COLOR_BGR2RGB)\n",
    "                frames.append(frame)\n",
    "            else:\n",
    "                break\n",
    "        return frames\n",
    "    \n",
    "    def make_new_gifs(self):\n",
    "        bicubics_images = []\n",
    "        srgan_images = []\n",
    "\n",
    "        for frame in self.frames:\n",
    "            sr = SuperResolution(frame, self.model, show=False)\n",
    "            bicubics_images.append(sr.interpolation_image)\n",
    "            srgan_images.append(sr.srgan_image)\n",
    "        return bicubics_images, srgan_images\n",
    "    \n",
    "    def save_gifs(self):\n",
    "        imageio.mimsave(\"원본.gif\", self.frames)        \n",
    "        imageio.mimsave(\"저해상도.gif\", self.bicubics)\n",
    "        imageio.mimsave(\"SRGAN 복원.gif\", self.srgan)"
   ]
  },
  {
   "cell_type": "code",
   "execution_count": 20,
   "id": "together-geology",
   "metadata": {
    "scrolled": true
   },
   "outputs": [],
   "source": [
    "converter = GIFConvert(\"book_lr.gif\", model)"
   ]
  },
  {
   "cell_type": "markdown",
   "id": "cleared-expression",
   "metadata": {},
   "source": [
    "<h4>원본</h4>\n",
    "<img src=\"https://i.ibb.co/Mf2wxtJ/image.gif\" width=\"380\">\n",
    "<h4>Interpolation 복원</h4>\n",
    "<img src=\"https://i.ibb.co/g4wMBCQ/image.gif\" width=\"380\">\n",
    "<h4>SRGAN 복원</h4>\n",
    "<img src=\"https://i.ibb.co/55C4WC5/SRGAN.gif\" width=\"380\">\n"
   ]
  },
  {
   "cell_type": "markdown",
   "id": "immediate-hypothesis",
   "metadata": {},
   "source": [
    "- 고해상도 이미지로 훈련된 모델이라서 그런지 동일한 사진은 아니지만 해상도가 높은 사진에서 더 좋은 성능을 보임을 확인할 수 있었습니다."
   ]
  }
 ],
 "metadata": {
  "kernelspec": {
   "display_name": "Python 3",
   "language": "python",
   "name": "python3"
  },
  "language_info": {
   "codemirror_mode": {
    "name": "ipython",
    "version": 3
   },
   "file_extension": ".py",
   "mimetype": "text/x-python",
   "name": "python",
   "nbconvert_exporter": "python",
   "pygments_lexer": "ipython3",
   "version": "3.7.9"
  }
 },
 "nbformat": 4,
 "nbformat_minor": 5
}
