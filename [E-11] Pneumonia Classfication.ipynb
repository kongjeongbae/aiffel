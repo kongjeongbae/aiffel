{
 "cells": [
  {
   "cell_type": "markdown",
   "id": "located-litigation",
   "metadata": {},
   "source": [
    "# 라이브러리 로드"
   ]
  },
  {
   "cell_type": "code",
   "execution_count": null,
   "id": "imperial-prince",
   "metadata": {},
   "outputs": [],
   "source": [
    "import os, re\n",
    "import random, math\n",
    "import shutil\n",
    "import warnings \n",
    "warnings.filterwarnings(action='ignore')\n",
    "\n",
    "from sklearn.model_selection import train_test_split\n",
    "import matplotlib.pyplot as plt\n",
    "import matplotlib.image as mpimg\n",
    "\n",
    "import numpy as np\n",
    "from PIL import Image"
   ]
  },
  {
   "cell_type": "code",
   "execution_count": null,
   "id": "premier-macedonia",
   "metadata": {},
   "outputs": [],
   "source": [
    "import torch\n",
    "import torch.nn as nn\n",
    "import torch.nn.functional as F\n",
    "import torch.optim as optim\n",
    "from torch.utils.data import Dataset, DataLoader\n",
    "from torchvision import transforms"
   ]
  },
  {
   "cell_type": "code",
   "execution_count": null,
   "id": "ambient-ottawa",
   "metadata": {},
   "outputs": [],
   "source": [
    "device = torch.device(\"cuda:0\" if torch.cuda.is_available() else \"cpu\")"
   ]
  },
  {
   "cell_type": "markdown",
   "id": "foreign-domestic",
   "metadata": {},
   "source": [
    "# 하이퍼 파라미터"
   ]
  },
  {
   "cell_type": "code",
   "execution_count": null,
   "id": "second-diameter",
   "metadata": {},
   "outputs": [],
   "source": [
    "IMG_SIZE = 300"
   ]
  },
  {
   "cell_type": "markdown",
   "id": "acoustic-henry",
   "metadata": {},
   "source": [
    "# 데이터 준비"
   ]
  },
  {
   "cell_type": "code",
   "execution_count": null,
   "id": "disciplinary-avatar",
   "metadata": {},
   "outputs": [],
   "source": [
    "normal, disease = [], []\n",
    "\n",
    "normal += [f'chest_xray/data/train/NORMAL/{f}' for f in os.listdir('chest_xray/data/train/NORMAL')]\n",
    "normal += [f'chest_xray/data/val/NORMAL/{f}' for f in os.listdir('chest_xray/data/val/NORMAL')]\n",
    "disease += [f'chest_xray/data/train/PNEUMONIA/{f}' for f in os.listdir('chest_xray/data/train/PNEUMONIA')]\n",
    "disease += [f'chest_xray/data/val/PNEUMONIA/{f}' for f in os.listdir('chest_xray/data/val/PNEUMONIA')]"
   ]
  },
  {
   "cell_type": "code",
   "execution_count": null,
   "id": "architectural-biology",
   "metadata": {},
   "outputs": [],
   "source": [
    "x = normal + disease\n",
    "y = [0] * len(normal) + [1] * len(disease)\n",
    "train_x, val_x, train_y, val_y = train_test_split(x, y, test_size=0.1, random_state=32)"
   ]
  },
  {
   "cell_type": "code",
   "execution_count": null,
   "id": "sharp-pickup",
   "metadata": {},
   "outputs": [],
   "source": [
    "test_x, test_y = [], []\n",
    "test_x += [f'chest_xray/data/test/NORMAL/{f}' for f in os.listdir('chest_xray/data/test/NORMAL')]\n",
    "test_y += [0] * len(test_x)\n",
    "test_x += [f'chest_xray/data/test/PNEUMONIA/{f}' for f in os.listdir('chest_xray/data/test/PNEUMONIA')]\n",
    "test_y += [1] * (len(test_x) - len(test_y))"
   ]
  },
  {
   "cell_type": "markdown",
   "id": "cloudy-concord",
   "metadata": {},
   "source": [
    "# 데이터셋 준비\n"
   ]
  },
  {
   "cell_type": "code",
   "execution_count": null,
   "id": "collaborative-times",
   "metadata": {},
   "outputs": [],
   "source": [
    "class ImageDataset(Dataset):\n",
    "    def __init__(self, files, labels, typ='train'):\n",
    "        self.files = files\n",
    "        self.labels = labels\n",
    "        self.transform = transforms.Compose([\n",
    "            transforms.ToTensor(),\n",
    "            transforms.Resize((IMG_SIZE, IMG_SIZE))\n",
    "        ])\n",
    "        self.typ = typ\n",
    "    \n",
    "    def __len__(self):\n",
    "        return len(self.labels)\n",
    "\n",
    "    def __getitem__(self, idx):\n",
    "        file, label = self.files[idx], self.labels[idx]\n",
    "        image = Image.open(file).convert('L')\n",
    "        image = np.array(image) / 255.\n",
    "        image = self.transform(image)\n",
    "        return image, label"
   ]
  },
  {
   "cell_type": "code",
   "execution_count": null,
   "id": "seventh-laptop",
   "metadata": {},
   "outputs": [],
   "source": [
    "train_set = ImageDataset(train_x, train_y, 'train')\n",
    "train_dataloader = DataLoader(train_set, batch_size=32, shuffle=True)\n",
    "\n",
    "val_set = ImageDataset(val_x, val_y, 'val')\n",
    "val_dataloader = DataLoader(val_set, batch_size=32, shuffle=True)\n",
    "\n",
    "test_set = ImageDataset(test_x, test_y, 'test')\n",
    "test_dataloader = DataLoader(test_set, batch_size=32, shuffle=False)"
   ]
  },
  {
   "cell_type": "code",
   "execution_count": null,
   "id": "authorized-tumor",
   "metadata": {},
   "outputs": [],
   "source": [
    "train_features, train_labels = next(iter(train_dataloader))\n",
    "print(f\"Feature batch shape: {train_features.size()}\")\n",
    "print(f\"Labels batch shape: {train_labels.size()}\")\n",
    "img = train_features[0].squeeze()\n",
    "label = train_labels[0]\n",
    "plt.imshow(img, cmap=\"gray\")\n",
    "plt.show()\n",
    "print(f\"Label: {label}\")"
   ]
  },
  {
   "cell_type": "markdown",
   "id": "second-contents",
   "metadata": {},
   "source": [
    "## 모델 정의"
   ]
  },
  {
   "cell_type": "code",
   "execution_count": null,
   "id": "rural-entertainment",
   "metadata": {},
   "outputs": [],
   "source": [
    "class Pneumonia(nn.Module):\n",
    "    def __init__(self):\n",
    "        super().__init__()\n",
    "        \n",
    "        self.block0 = self.make_block(1, 32, 3)\n",
    "        self.block1 = self.make_block(32, 64, 3)\n",
    "        self.block2 = self.make_block(64, 128, 3)\n",
    "        self.block3 = self.make_block(128, 256)\n",
    "        self.block4 = self.make_block(256, 512)\n",
    "        self.block5 = self.make_block(512, 512)\n",
    "        self.fc1 = nn.Linear(8192, 4096)\n",
    "        self.fc2 = nn.Linear(4096, 1024)\n",
    "        self.fc3 = nn.Linear(1024, 1)\n",
    "        self.sigmoid = nn.Sigmoid()\n",
    "        \n",
    "    def make_block(self, in_c, out_c, kernel_size=2, stride=1):\n",
    "        out = nn.Sequential(\n",
    "            nn.Conv2d(in_c, out_c, kernel_size, stride, padding='same'),\n",
    "            nn.ReLU(),\n",
    "            nn.BatchNorm2d(out_c),\n",
    "            nn.MaxPool2d(2, 2)\n",
    "        )\n",
    "        return out\n",
    "        \n",
    "        \n",
    "    def forward(self, x):\n",
    "        b, c, h, w = x.size()\n",
    "        x = self.block0(x)\n",
    "        x = self.block1(x)\n",
    "        x = self.block2(x)\n",
    "        x = self.block3(x)\n",
    "        x = self.block4(x)\n",
    "        x = self.block5(x)\n",
    "        x = torch.flatten(x, 1)\n",
    "        x = F.dropout(F.relu(self.fc1(x)), 0.2)\n",
    "        x = F.dropout(F.relu(self.fc2(x)), 0.2)\n",
    "        out = self.sigmoid(self.fc3(x))\n",
    "        return out\n",
    "\n",
    "model = Pneumonia()\n",
    "model = model.to(device)   "
   ]
  },
  {
   "cell_type": "markdown",
   "id": "surgical-objective",
   "metadata": {},
   "source": [
    "## Loss, Optimizer, Metric 정의"
   ]
  },
  {
   "cell_type": "code",
   "execution_count": null,
   "id": "published-subdivision",
   "metadata": {},
   "outputs": [],
   "source": [
    "criterion = nn.BCELoss(reduction='mean')\n",
    "optimizer = optim.Adam(model.parameters(), lr=0.001)\n",
    "\n",
    "def evaluate(data_loader, name=''):\n",
    "    correct = 0\n",
    "    total = 0\n",
    "\n",
    "    with torch.no_grad():\n",
    "        for data in data_loader:\n",
    "            inputs, labels = data\n",
    "            inputs, labels = inputs.to(device).float(), labels.to(device).float()\n",
    "            outputs = model(inputs)\n",
    "            predicted = torch.round(outputs.data).flatten()\n",
    "            total += labels.size(0)\n",
    "            correct += (predicted == labels).sum().item()\n",
    "            \n",
    "    acc = round((100 * correct / total), 2)\n",
    "    print(f'Accuracy of {name} images: {acc} %')"
   ]
  },
  {
   "cell_type": "markdown",
   "id": "floating-forward",
   "metadata": {},
   "source": [
    "## 모델 훈련"
   ]
  },
  {
   "cell_type": "code",
   "execution_count": null,
   "id": "miniature-picnic",
   "metadata": {
    "scrolled": false
   },
   "outputs": [],
   "source": [
    "for epoch in range(5):\n",
    "    running_loss = 0.0\n",
    "    print(f'{epoch+1}번째 epoch')\n",
    "    for i, data in enumerate(train_dataloader):\n",
    "        dataset_size = len(train_dataloader)\n",
    "        inputs, labels = data\n",
    "        inputs = inputs.float()\n",
    "        labels = labels.unsqueeze(1).float()\n",
    "        inputs, labels = inputs.to(device), labels.to(device)\n",
    "        optimizer.zero_grad()\n",
    "\n",
    "        outputs = model(inputs)\n",
    "        \n",
    "        loss = criterion(outputs, labels)\n",
    "        loss.backward()\n",
    "        optimizer.step()\n",
    "\n",
    "        running_loss += loss.item()\n",
    "        if i % 10 == 9:\n",
    "            print(f'batch {i+1} / {dataset_size} - loss: {running_loss / 10}')\n",
    "            running_loss = 0\n",
    "    print()\n",
    "    evaluate(val_dataloader, 'val')\n",
    "\n",
    "print('Finished Training')"
   ]
  },
  {
   "cell_type": "markdown",
   "id": "measured-tattoo",
   "metadata": {},
   "source": [
    "## Test set 결과 확인"
   ]
  },
  {
   "cell_type": "code",
   "execution_count": null,
   "id": "successful-cradle",
   "metadata": {},
   "outputs": [],
   "source": [
    "evaluate(test_dataloader, 'test')"
   ]
  },
  {
   "cell_type": "code",
   "execution_count": null,
   "id": "whole-bobby",
   "metadata": {},
   "outputs": [],
   "source": []
  }
 ],
 "metadata": {
  "kernelspec": {
   "display_name": "Python 3",
   "language": "python",
   "name": "python3"
  },
  "language_info": {
   "codemirror_mode": {
    "name": "ipython",
    "version": 3
   },
   "file_extension": ".py",
   "mimetype": "text/x-python",
   "name": "python",
   "nbconvert_exporter": "python",
   "pygments_lexer": "ipython3",
   "version": "3.7.9"
  }
 },
 "nbformat": 4,
 "nbformat_minor": 5
}
