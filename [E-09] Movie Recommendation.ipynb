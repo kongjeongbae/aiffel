{
 "cells": [
  {
   "cell_type": "markdown",
   "id": "major-salon",
   "metadata": {},
   "source": [
    "## 1. 데이터 준비와 전처리"
   ]
  },
  {
   "cell_type": "code",
   "execution_count": 1,
   "id": "frequent-arrest",
   "metadata": {},
   "outputs": [],
   "source": [
    "import os\n",
    "\n",
    "from implicit.als import AlternatingLeastSquares\n",
    "import pandas as pd\n",
    "import numpy as np\n",
    "from scipy.sparse import csr_matrix"
   ]
  },
  {
   "cell_type": "code",
   "execution_count": 2,
   "id": "developing-freeze",
   "metadata": {},
   "outputs": [],
   "source": [
    "os.environ['OPENBLAS_NUM_THREADS']='1'\n",
    "os.environ['KMP_DUPLICATE_LIB_OK']='True'\n",
    "os.environ['MKL_NUM_THREADS']='1'"
   ]
  },
  {
   "cell_type": "code",
   "execution_count": 3,
   "id": "southern-casting",
   "metadata": {},
   "outputs": [
    {
     "data": {
      "text/html": [
       "<div>\n",
       "<style scoped>\n",
       "    .dataframe tbody tr th:only-of-type {\n",
       "        vertical-align: middle;\n",
       "    }\n",
       "\n",
       "    .dataframe tbody tr th {\n",
       "        vertical-align: top;\n",
       "    }\n",
       "\n",
       "    .dataframe thead th {\n",
       "        text-align: right;\n",
       "    }\n",
       "</style>\n",
       "<table border=\"1\" class=\"dataframe\">\n",
       "  <thead>\n",
       "    <tr style=\"text-align: right;\">\n",
       "      <th></th>\n",
       "      <th>user_id</th>\n",
       "      <th>movie_id</th>\n",
       "      <th>ratings</th>\n",
       "      <th>timestamp</th>\n",
       "    </tr>\n",
       "  </thead>\n",
       "  <tbody>\n",
       "    <tr>\n",
       "      <th>0</th>\n",
       "      <td>1</td>\n",
       "      <td>1192</td>\n",
       "      <td>5</td>\n",
       "      <td>978300760</td>\n",
       "    </tr>\n",
       "    <tr>\n",
       "      <th>1</th>\n",
       "      <td>1</td>\n",
       "      <td>660</td>\n",
       "      <td>3</td>\n",
       "      <td>978302109</td>\n",
       "    </tr>\n",
       "    <tr>\n",
       "      <th>2</th>\n",
       "      <td>1</td>\n",
       "      <td>913</td>\n",
       "      <td>3</td>\n",
       "      <td>978301968</td>\n",
       "    </tr>\n",
       "    <tr>\n",
       "      <th>3</th>\n",
       "      <td>1</td>\n",
       "      <td>3407</td>\n",
       "      <td>4</td>\n",
       "      <td>978300275</td>\n",
       "    </tr>\n",
       "    <tr>\n",
       "      <th>4</th>\n",
       "      <td>1</td>\n",
       "      <td>2354</td>\n",
       "      <td>5</td>\n",
       "      <td>978824291</td>\n",
       "    </tr>\n",
       "  </tbody>\n",
       "</table>\n",
       "</div>"
      ],
      "text/plain": [
       "   user_id  movie_id  ratings  timestamp\n",
       "0        1      1192        5  978300760\n",
       "1        1       660        3  978302109\n",
       "2        1       913        3  978301968\n",
       "3        1      3407        4  978300275\n",
       "4        1      2354        5  978824291"
      ]
     },
     "execution_count": 3,
     "metadata": {},
     "output_type": "execute_result"
    }
   ],
   "source": [
    "rating_file_path = 'recommendata_iu/data/ml-1m/ratings.dat'\n",
    "ratings_cols = ['user_id', 'movie_id', 'ratings', 'timestamp']\n",
    "ratings = pd.read_csv(rating_file_path, sep='::', names=ratings_cols, engine='python', encoding = \"ISO-8859-1\")\n",
    "ratings['movie_id'] = ratings['movie_id'] - 1\n",
    "orginal_data_size = len(ratings)\n",
    "ratings.head()"
   ]
  },
  {
   "cell_type": "code",
   "execution_count": 4,
   "id": "streaming-motor",
   "metadata": {},
   "outputs": [
    {
     "name": "stdout",
     "output_type": "stream",
     "text": [
      "기존 데이터셋 크기: 1000209\n",
      "ratings가 3이상인 데이터셋 크기: 836478\n",
      "비율: 83.63%\n"
     ]
    }
   ],
   "source": [
    "ratings = ratings[ratings['ratings']>=3]\n",
    "ratings = ratings.rename(columns={'ratings':'counts'})\n",
    "ratings = ratings.reset_index(drop=True)\n",
    "filtered_data_size = len(ratings)\n",
    "\n",
    "print(f'기존 데이터셋 크기: {orginal_data_size}')\n",
    "print(f'ratings가 3이상인 데이터셋 크기: {filtered_data_size}')\n",
    "print(f'비율: {filtered_data_size / orginal_data_size:.2%}')"
   ]
  },
  {
   "cell_type": "code",
   "execution_count": 5,
   "id": "variable-polyester",
   "metadata": {},
   "outputs": [
    {
     "data": {
      "text/html": [
       "<div>\n",
       "<style scoped>\n",
       "    .dataframe tbody tr th:only-of-type {\n",
       "        vertical-align: middle;\n",
       "    }\n",
       "\n",
       "    .dataframe tbody tr th {\n",
       "        vertical-align: top;\n",
       "    }\n",
       "\n",
       "    .dataframe thead th {\n",
       "        text-align: right;\n",
       "    }\n",
       "</style>\n",
       "<table border=\"1\" class=\"dataframe\">\n",
       "  <thead>\n",
       "    <tr style=\"text-align: right;\">\n",
       "      <th></th>\n",
       "      <th>movie_id</th>\n",
       "      <th>title</th>\n",
       "      <th>genre</th>\n",
       "    </tr>\n",
       "  </thead>\n",
       "  <tbody>\n",
       "    <tr>\n",
       "      <th>0</th>\n",
       "      <td>0</td>\n",
       "      <td>Toy Story (1995)</td>\n",
       "      <td>Animation|Children's|Comedy</td>\n",
       "    </tr>\n",
       "    <tr>\n",
       "      <th>1</th>\n",
       "      <td>1</td>\n",
       "      <td>Jumanji (1995)</td>\n",
       "      <td>Adventure|Children's|Fantasy</td>\n",
       "    </tr>\n",
       "    <tr>\n",
       "      <th>2</th>\n",
       "      <td>2</td>\n",
       "      <td>Grumpier Old Men (1995)</td>\n",
       "      <td>Comedy|Romance</td>\n",
       "    </tr>\n",
       "    <tr>\n",
       "      <th>3</th>\n",
       "      <td>3</td>\n",
       "      <td>Waiting to Exhale (1995)</td>\n",
       "      <td>Comedy|Drama</td>\n",
       "    </tr>\n",
       "    <tr>\n",
       "      <th>4</th>\n",
       "      <td>4</td>\n",
       "      <td>Father of the Bride Part II (1995)</td>\n",
       "      <td>Comedy</td>\n",
       "    </tr>\n",
       "  </tbody>\n",
       "</table>\n",
       "</div>"
      ],
      "text/plain": [
       "   movie_id                               title                         genre\n",
       "0         0                    Toy Story (1995)   Animation|Children's|Comedy\n",
       "1         1                      Jumanji (1995)  Adventure|Children's|Fantasy\n",
       "2         2             Grumpier Old Men (1995)                Comedy|Romance\n",
       "3         3            Waiting to Exhale (1995)                  Comedy|Drama\n",
       "4         4  Father of the Bride Part II (1995)                        Comedy"
      ]
     },
     "execution_count": 5,
     "metadata": {},
     "output_type": "execute_result"
    }
   ],
   "source": [
    "movie_file_path = 'recommendata_iu/data/ml-1m/movies.dat'\n",
    "cols = ['movie_id', 'title', 'genre'] \n",
    "movies = pd.read_csv(movie_file_path, sep='::', names=cols, engine='python', encoding='ISO-8859-1')\n",
    "movies['movie_id'] = movies['movie_id'] - 1\n",
    "movies.head()"
   ]
  },
  {
   "cell_type": "code",
   "execution_count": 6,
   "id": "quiet-farming",
   "metadata": {},
   "outputs": [],
   "source": [
    "movie_to_idx = {v: i for i, v in enumerate(movies['title'].to_list())}\n",
    "idx_to_movie = {i: v for i, v in enumerate(movies['title'].to_list())}"
   ]
  },
  {
   "cell_type": "markdown",
   "id": "south-nature",
   "metadata": {},
   "source": [
    "## 2. 데이터 확인"
   ]
  },
  {
   "cell_type": "code",
   "execution_count": 7,
   "id": "mathematical-exception",
   "metadata": {},
   "outputs": [
    {
     "data": {
      "text/plain": [
       "6039"
      ]
     },
     "execution_count": 7,
     "metadata": {},
     "output_type": "execute_result"
    }
   ],
   "source": [
    "ratings.user_id.nunique()"
   ]
  },
  {
   "cell_type": "code",
   "execution_count": 8,
   "id": "outside-hammer",
   "metadata": {},
   "outputs": [
    {
     "data": {
      "text/plain": [
       "3628"
      ]
     },
     "execution_count": 8,
     "metadata": {},
     "output_type": "execute_result"
    }
   ],
   "source": [
    "ratings.movie_id.nunique()"
   ]
  },
  {
   "cell_type": "code",
   "execution_count": 9,
   "id": "shaped-france",
   "metadata": {},
   "outputs": [],
   "source": [
    "mean_ratings = ratings.groupby('movie_id')['counts'].mean().reset_index().sort_values('counts', ascending=False).head(50)\n",
    "mean_ratings.merge(movies, how='left')"
   ]
  },
  {
   "cell_type": "markdown",
   "id": "constant-roman",
   "metadata": {},
   "source": [
    "<img src=https://i.ibb.co/7Wgk1xC/2021-11-02-13-55-46.png width=500></img>"
   ]
  },
  {
   "cell_type": "markdown",
   "id": "streaming-universal",
   "metadata": {},
   "source": [
    "## 3. 본인의 선호 영화 5개 추가"
   ]
  },
  {
   "cell_type": "code",
   "execution_count": 10,
   "id": "regional-nickname",
   "metadata": {},
   "outputs": [
    {
     "data": {
      "text/html": [
       "<div>\n",
       "<style scoped>\n",
       "    .dataframe tbody tr th:only-of-type {\n",
       "        vertical-align: middle;\n",
       "    }\n",
       "\n",
       "    .dataframe tbody tr th {\n",
       "        vertical-align: top;\n",
       "    }\n",
       "\n",
       "    .dataframe thead th {\n",
       "        text-align: right;\n",
       "    }\n",
       "</style>\n",
       "<table border=\"1\" class=\"dataframe\">\n",
       "  <thead>\n",
       "    <tr style=\"text-align: right;\">\n",
       "      <th></th>\n",
       "      <th>user_id</th>\n",
       "      <th>movie_id</th>\n",
       "      <th>counts</th>\n",
       "      <th>timestamp</th>\n",
       "    </tr>\n",
       "  </thead>\n",
       "  <tbody>\n",
       "    <tr>\n",
       "      <th>0</th>\n",
       "      <td>0</td>\n",
       "      <td>1830</td>\n",
       "      <td>5</td>\n",
       "      <td>978300019</td>\n",
       "    </tr>\n",
       "    <tr>\n",
       "      <th>1</th>\n",
       "      <td>0</td>\n",
       "      <td>1553</td>\n",
       "      <td>5</td>\n",
       "      <td>978300019</td>\n",
       "    </tr>\n",
       "    <tr>\n",
       "      <th>2</th>\n",
       "      <td>0</td>\n",
       "      <td>3233</td>\n",
       "      <td>5</td>\n",
       "      <td>978300019</td>\n",
       "    </tr>\n",
       "    <tr>\n",
       "      <th>3</th>\n",
       "      <td>0</td>\n",
       "      <td>3866</td>\n",
       "      <td>5</td>\n",
       "      <td>978300019</td>\n",
       "    </tr>\n",
       "    <tr>\n",
       "      <th>4</th>\n",
       "      <td>0</td>\n",
       "      <td>1148</td>\n",
       "      <td>5</td>\n",
       "      <td>978300019</td>\n",
       "    </tr>\n",
       "  </tbody>\n",
       "</table>\n",
       "</div>"
      ],
      "text/plain": [
       "   user_id  movie_id  counts  timestamp\n",
       "0        0      1830       5  978300019\n",
       "1        0      1553       5  978300019\n",
       "2        0      3233       5  978300019\n",
       "3        0      3866       5  978300019\n",
       "4        0      1148       5  978300019"
      ]
     },
     "execution_count": 10,
     "metadata": {},
     "output_type": "execute_result"
    }
   ],
   "source": [
    "my_rating = pd.DataFrame({\n",
    "    'user_id': [0] * 5,\n",
    "    'movie_id': [1830, 1553, 3233, 3866, 1148],\n",
    "    'counts': [5] * 5,\n",
    "    'timestamp': [978300019] * 5\n",
    "})\n",
    "my_rating"
   ]
  },
  {
   "cell_type": "code",
   "execution_count": 11,
   "id": "secondary-belly",
   "metadata": {},
   "outputs": [],
   "source": [
    "ratings = pd.concat([ratings, my_rating]).sort_values('user_id').reset_index(drop=True)"
   ]
  },
  {
   "cell_type": "code",
   "execution_count": 12,
   "id": "outside-class",
   "metadata": {
    "scrolled": true
   },
   "outputs": [
    {
     "data": {
      "text/html": [
       "<div>\n",
       "<style scoped>\n",
       "    .dataframe tbody tr th:only-of-type {\n",
       "        vertical-align: middle;\n",
       "    }\n",
       "\n",
       "    .dataframe tbody tr th {\n",
       "        vertical-align: top;\n",
       "    }\n",
       "\n",
       "    .dataframe thead th {\n",
       "        text-align: right;\n",
       "    }\n",
       "</style>\n",
       "<table border=\"1\" class=\"dataframe\">\n",
       "  <thead>\n",
       "    <tr style=\"text-align: right;\">\n",
       "      <th></th>\n",
       "      <th>user_id</th>\n",
       "      <th>movie_id</th>\n",
       "      <th>counts</th>\n",
       "      <th>timestamp</th>\n",
       "    </tr>\n",
       "  </thead>\n",
       "  <tbody>\n",
       "    <tr>\n",
       "      <th>0</th>\n",
       "      <td>0</td>\n",
       "      <td>1148</td>\n",
       "      <td>5</td>\n",
       "      <td>978300019</td>\n",
       "    </tr>\n",
       "    <tr>\n",
       "      <th>1</th>\n",
       "      <td>0</td>\n",
       "      <td>3233</td>\n",
       "      <td>5</td>\n",
       "      <td>978300019</td>\n",
       "    </tr>\n",
       "    <tr>\n",
       "      <th>2</th>\n",
       "      <td>0</td>\n",
       "      <td>1553</td>\n",
       "      <td>5</td>\n",
       "      <td>978300019</td>\n",
       "    </tr>\n",
       "    <tr>\n",
       "      <th>3</th>\n",
       "      <td>0</td>\n",
       "      <td>1830</td>\n",
       "      <td>5</td>\n",
       "      <td>978300019</td>\n",
       "    </tr>\n",
       "    <tr>\n",
       "      <th>4</th>\n",
       "      <td>0</td>\n",
       "      <td>3866</td>\n",
       "      <td>5</td>\n",
       "      <td>978300019</td>\n",
       "    </tr>\n",
       "    <tr>\n",
       "      <th>5</th>\n",
       "      <td>1</td>\n",
       "      <td>3185</td>\n",
       "      <td>4</td>\n",
       "      <td>978300019</td>\n",
       "    </tr>\n",
       "    <tr>\n",
       "      <th>6</th>\n",
       "      <td>1</td>\n",
       "      <td>1565</td>\n",
       "      <td>4</td>\n",
       "      <td>978824330</td>\n",
       "    </tr>\n",
       "    <tr>\n",
       "      <th>7</th>\n",
       "      <td>1</td>\n",
       "      <td>587</td>\n",
       "      <td>4</td>\n",
       "      <td>978824268</td>\n",
       "    </tr>\n",
       "    <tr>\n",
       "      <th>8</th>\n",
       "      <td>1</td>\n",
       "      <td>1906</td>\n",
       "      <td>4</td>\n",
       "      <td>978824330</td>\n",
       "    </tr>\n",
       "    <tr>\n",
       "      <th>9</th>\n",
       "      <td>1</td>\n",
       "      <td>782</td>\n",
       "      <td>4</td>\n",
       "      <td>978824291</td>\n",
       "    </tr>\n",
       "  </tbody>\n",
       "</table>\n",
       "</div>"
      ],
      "text/plain": [
       "   user_id  movie_id  counts  timestamp\n",
       "0        0      1148       5  978300019\n",
       "1        0      3233       5  978300019\n",
       "2        0      1553       5  978300019\n",
       "3        0      1830       5  978300019\n",
       "4        0      3866       5  978300019\n",
       "5        1      3185       4  978300019\n",
       "6        1      1565       4  978824330\n",
       "7        1       587       4  978824268\n",
       "8        1      1906       4  978824330\n",
       "9        1       782       4  978824291"
      ]
     },
     "execution_count": 12,
     "metadata": {},
     "output_type": "execute_result"
    }
   ],
   "source": [
    "ratings.head(10)"
   ]
  },
  {
   "cell_type": "markdown",
   "id": "golden-lounge",
   "metadata": {},
   "source": [
    "## 4. CSR Matrix 제작"
   ]
  },
  {
   "cell_type": "code",
   "execution_count": 13,
   "id": "ordered-complaint",
   "metadata": {},
   "outputs": [
    {
     "data": {
      "text/plain": [
       "<6041x3952 sparse matrix of type '<class 'numpy.longlong'>'\n",
       "\twith 836483 stored elements in Compressed Sparse Row format>"
      ]
     },
     "execution_count": 13,
     "metadata": {},
     "output_type": "execute_result"
    }
   ],
   "source": [
    "user_size = ratings['user_id'].nunique()\n",
    "movie_size = ratings['movie_id'].nunique()\n",
    "\n",
    "csr_data = csr_matrix((ratings['counts'], (ratings['user_id'], ratings['movie_id'])))\n",
    "csr_data"
   ]
  },
  {
   "cell_type": "markdown",
   "id": "unknown-clark",
   "metadata": {},
   "source": [
    "## 5. AlternatingLeastSquares 모델 제작"
   ]
  },
  {
   "cell_type": "code",
   "execution_count": 14,
   "id": "final-aviation",
   "metadata": {},
   "outputs": [],
   "source": [
    "als_model = AlternatingLeastSquares(factors=300, regularization=0.01, use_gpu=False, iterations=15, dtype=np.float32)"
   ]
  },
  {
   "cell_type": "code",
   "execution_count": 15,
   "id": "prostate-heart",
   "metadata": {},
   "outputs": [
    {
     "data": {
      "text/plain": [
       "<3952x6041 sparse matrix of type '<class 'numpy.longlong'>'\n",
       "\twith 836483 stored elements in Compressed Sparse Column format>"
      ]
     },
     "execution_count": 15,
     "metadata": {},
     "output_type": "execute_result"
    }
   ],
   "source": [
    "csr_data_T = csr_data.T\n",
    "csr_data_T"
   ]
  },
  {
   "cell_type": "code",
   "execution_count": 16,
   "id": "alleged-czech",
   "metadata": {},
   "outputs": [
    {
     "data": {
      "application/vnd.jupyter.widget-view+json": {
       "model_id": "8369d6be157b4849a5d7d271861dc840",
       "version_major": 2,
       "version_minor": 0
      },
      "text/plain": [
       "  0%|          | 0/15 [00:00<?, ?it/s]"
      ]
     },
     "metadata": {},
     "output_type": "display_data"
    }
   ],
   "source": [
    "# 모델 훈련\n",
    "als_model.fit(csr_data_T)"
   ]
  },
  {
   "cell_type": "markdown",
   "id": "administrative-chair",
   "metadata": {},
   "source": [
    "## 6. 모델 결과 확인"
   ]
  },
  {
   "cell_type": "code",
   "execution_count": 17,
   "id": "numeric-yellow",
   "metadata": {},
   "outputs": [],
   "source": [
    "# 본인의 user_id: 0\n",
    "# 5점 준 영화 id: 1830, 1553, 3233, 3866, 1148\n",
    "\n",
    "user_vector, movie_vector = als_model.user_factors[0], als_model.item_factors[1830]"
   ]
  },
  {
   "cell_type": "code",
   "execution_count": 18,
   "id": "innovative-necessity",
   "metadata": {},
   "outputs": [
    {
     "data": {
      "text/plain": [
       "0.35905445"
      ]
     },
     "execution_count": 18,
     "metadata": {},
     "output_type": "execute_result"
    }
   ],
   "source": [
    "np.dot(user_vector, movie_vector)"
   ]
  },
  {
   "cell_type": "markdown",
   "id": "italic-opportunity",
   "metadata": {},
   "source": [
    "## 7. 본인 선호 영화와 비슷한 영화 확인"
   ]
  },
  {
   "cell_type": "code",
   "execution_count": 19,
   "id": "synthetic-bailey",
   "metadata": {
    "scrolled": true
   },
   "outputs": [
    {
     "data": {
      "text/plain": [
       "[(1830, 1.0000001),\n",
       " (172, 0.57680625),\n",
       " (2548, 0.5687094),\n",
       " (2447, 0.5615835),\n",
       " (518, 0.5547224),\n",
       " (1881, 0.5481378),\n",
       " (2497, 0.546938),\n",
       " (378, 0.5436844),\n",
       " (1761, 0.54175556),\n",
       " (201, 0.5393514),\n",
       " (65, 0.53839),\n",
       " (545, 0.53838646),\n",
       " (1749, 0.53719586),\n",
       " (2806, 0.5371352),\n",
       " (1861, 0.5361654)]"
      ]
     },
     "execution_count": 19,
     "metadata": {},
     "output_type": "execute_result"
    }
   ],
   "source": [
    "similar_artist = als_model.similar_items(1830, N=15)\n",
    "similar_artist_ids = [idx for idx, similar in similar_artist]\n",
    "similar_artist"
   ]
  },
  {
   "cell_type": "code",
   "execution_count": 20,
   "id": "prime-satisfaction",
   "metadata": {},
   "outputs": [
    {
     "data": {
      "text/html": [
       "<div>\n",
       "<style scoped>\n",
       "    .dataframe tbody tr th:only-of-type {\n",
       "        vertical-align: middle;\n",
       "    }\n",
       "\n",
       "    .dataframe tbody tr th {\n",
       "        vertical-align: top;\n",
       "    }\n",
       "\n",
       "    .dataframe thead th {\n",
       "        text-align: right;\n",
       "    }\n",
       "</style>\n",
       "<table border=\"1\" class=\"dataframe\">\n",
       "  <thead>\n",
       "    <tr style=\"text-align: right;\">\n",
       "      <th></th>\n",
       "      <th>movie_id</th>\n",
       "      <th>title</th>\n",
       "      <th>genre</th>\n",
       "    </tr>\n",
       "  </thead>\n",
       "  <tbody>\n",
       "    <tr>\n",
       "      <th>65</th>\n",
       "      <td>65</td>\n",
       "      <td>Lawnmower Man 2: Beyond Cyberspace (1996)</td>\n",
       "      <td>Sci-Fi|Thriller</td>\n",
       "    </tr>\n",
       "    <tr>\n",
       "      <th>171</th>\n",
       "      <td>172</td>\n",
       "      <td>Judge Dredd (1995)</td>\n",
       "      <td>Action|Adventure|Sci-Fi</td>\n",
       "    </tr>\n",
       "    <tr>\n",
       "      <th>200</th>\n",
       "      <td>201</td>\n",
       "      <td>Total Eclipse (1995)</td>\n",
       "      <td>Drama|Romance</td>\n",
       "    </tr>\n",
       "    <tr>\n",
       "      <th>375</th>\n",
       "      <td>378</td>\n",
       "      <td>Timecop (1994)</td>\n",
       "      <td>Action|Sci-Fi</td>\n",
       "    </tr>\n",
       "    <tr>\n",
       "      <th>515</th>\n",
       "      <td>518</td>\n",
       "      <td>Robocop 3 (1993)</td>\n",
       "      <td>Sci-Fi|Thriller</td>\n",
       "    </tr>\n",
       "    <tr>\n",
       "      <th>542</th>\n",
       "      <td>545</td>\n",
       "      <td>Super Mario Bros. (1993)</td>\n",
       "      <td>Action|Adventure|Children's|Sci-Fi</td>\n",
       "    </tr>\n",
       "    <tr>\n",
       "      <th>1698</th>\n",
       "      <td>1749</td>\n",
       "      <td>Star Kid (1997)</td>\n",
       "      <td>Adventure|Children's|Fantasy|Sci-Fi</td>\n",
       "    </tr>\n",
       "    <tr>\n",
       "      <th>1708</th>\n",
       "      <td>1761</td>\n",
       "      <td>Deep Rising (1998)</td>\n",
       "      <td>Action|Horror|Sci-Fi</td>\n",
       "    </tr>\n",
       "    <tr>\n",
       "      <th>1763</th>\n",
       "      <td>1830</td>\n",
       "      <td>Lost in Space (1998)</td>\n",
       "      <td>Action|Sci-Fi|Thriller</td>\n",
       "    </tr>\n",
       "    <tr>\n",
       "      <th>1793</th>\n",
       "      <td>1861</td>\n",
       "      <td>Species II (1998)</td>\n",
       "      <td>Horror|Sci-Fi</td>\n",
       "    </tr>\n",
       "    <tr>\n",
       "      <th>1813</th>\n",
       "      <td>1881</td>\n",
       "      <td>Godzilla (1998)</td>\n",
       "      <td>Action|Sci-Fi</td>\n",
       "    </tr>\n",
       "    <tr>\n",
       "      <th>2379</th>\n",
       "      <td>2447</td>\n",
       "      <td>Virus (1999)</td>\n",
       "      <td>Horror|Sci-Fi</td>\n",
       "    </tr>\n",
       "    <tr>\n",
       "      <th>2429</th>\n",
       "      <td>2497</td>\n",
       "      <td>My Favorite Martian (1999)</td>\n",
       "      <td>Comedy|Sci-Fi</td>\n",
       "    </tr>\n",
       "    <tr>\n",
       "      <th>2480</th>\n",
       "      <td>2548</td>\n",
       "      <td>Wing Commander (1999)</td>\n",
       "      <td>Action|Sci-Fi</td>\n",
       "    </tr>\n",
       "    <tr>\n",
       "      <th>2738</th>\n",
       "      <td>2806</td>\n",
       "      <td>Universal Soldier: The Return (1999)</td>\n",
       "      <td>Action|Sci-Fi</td>\n",
       "    </tr>\n",
       "  </tbody>\n",
       "</table>\n",
       "</div>"
      ],
      "text/plain": [
       "      movie_id                                      title  \\\n",
       "65          65  Lawnmower Man 2: Beyond Cyberspace (1996)   \n",
       "171        172                         Judge Dredd (1995)   \n",
       "200        201                       Total Eclipse (1995)   \n",
       "375        378                             Timecop (1994)   \n",
       "515        518                           Robocop 3 (1993)   \n",
       "542        545                   Super Mario Bros. (1993)   \n",
       "1698      1749                            Star Kid (1997)   \n",
       "1708      1761                         Deep Rising (1998)   \n",
       "1763      1830                       Lost in Space (1998)   \n",
       "1793      1861                          Species II (1998)   \n",
       "1813      1881                            Godzilla (1998)   \n",
       "2379      2447                               Virus (1999)   \n",
       "2429      2497                 My Favorite Martian (1999)   \n",
       "2480      2548                      Wing Commander (1999)   \n",
       "2738      2806       Universal Soldier: The Return (1999)   \n",
       "\n",
       "                                    genre  \n",
       "65                        Sci-Fi|Thriller  \n",
       "171               Action|Adventure|Sci-Fi  \n",
       "200                         Drama|Romance  \n",
       "375                         Action|Sci-Fi  \n",
       "515                       Sci-Fi|Thriller  \n",
       "542    Action|Adventure|Children's|Sci-Fi  \n",
       "1698  Adventure|Children's|Fantasy|Sci-Fi  \n",
       "1708                 Action|Horror|Sci-Fi  \n",
       "1763               Action|Sci-Fi|Thriller  \n",
       "1793                        Horror|Sci-Fi  \n",
       "1813                        Action|Sci-Fi  \n",
       "2379                        Horror|Sci-Fi  \n",
       "2429                        Comedy|Sci-Fi  \n",
       "2480                        Action|Sci-Fi  \n",
       "2738                        Action|Sci-Fi  "
      ]
     },
     "execution_count": 20,
     "metadata": {},
     "output_type": "execute_result"
    }
   ],
   "source": [
    "movies[movies['movie_id'].isin(similar_artist_ids)]"
   ]
  },
  {
   "cell_type": "markdown",
   "id": "parallel-butler",
   "metadata": {},
   "source": [
    "## 8. 추천 영화 결과 확인"
   ]
  },
  {
   "cell_type": "code",
   "execution_count": 21,
   "id": "discrete-apache",
   "metadata": {},
   "outputs": [],
   "source": [
    "movie_recommended = als_model.recommend(0, csr_data, N=10, filter_already_liked_items=True)\n",
    "movie_recommended_ids = [i for i, j in movie_recommended]"
   ]
  },
  {
   "cell_type": "code",
   "execution_count": 22,
   "id": "federal-suffering",
   "metadata": {},
   "outputs": [
    {
     "data": {
      "text/plain": [
       "[(1543, 0.12709127),\n",
       " (2011, 0.11605163),\n",
       " (2733, 0.10832901),\n",
       " (1390, 0.10739152),\n",
       " (1357, 0.102593586),\n",
       " (159, 0.09697036),\n",
       " (306, 0.09637075),\n",
       " (1916, 0.0951787),\n",
       " (1249, 0.09472855),\n",
       " (3696, 0.09435858)]"
      ]
     },
     "execution_count": 22,
     "metadata": {},
     "output_type": "execute_result"
    }
   ],
   "source": [
    "movie_recommended"
   ]
  },
  {
   "cell_type": "code",
   "execution_count": 23,
   "id": "surgical-practice",
   "metadata": {},
   "outputs": [
    {
     "data": {
      "text/html": [
       "<div>\n",
       "<style scoped>\n",
       "    .dataframe tbody tr th:only-of-type {\n",
       "        vertical-align: middle;\n",
       "    }\n",
       "\n",
       "    .dataframe tbody tr th {\n",
       "        vertical-align: top;\n",
       "    }\n",
       "\n",
       "    .dataframe thead th {\n",
       "        text-align: right;\n",
       "    }\n",
       "</style>\n",
       "<table border=\"1\" class=\"dataframe\">\n",
       "  <thead>\n",
       "    <tr style=\"text-align: right;\">\n",
       "      <th></th>\n",
       "      <th>movie_id</th>\n",
       "      <th>title</th>\n",
       "      <th>genre</th>\n",
       "    </tr>\n",
       "  </thead>\n",
       "  <tbody>\n",
       "    <tr>\n",
       "      <th>158</th>\n",
       "      <td>159</td>\n",
       "      <td>Congo (1995)</td>\n",
       "      <td>Action|Adventure|Mystery|Sci-Fi</td>\n",
       "    </tr>\n",
       "    <tr>\n",
       "      <th>304</th>\n",
       "      <td>306</td>\n",
       "      <td>Three Colors: Blue (1993)</td>\n",
       "      <td>Drama</td>\n",
       "    </tr>\n",
       "    <tr>\n",
       "      <th>1230</th>\n",
       "      <td>1249</td>\n",
       "      <td>Bridge on the River Kwai, The (1957)</td>\n",
       "      <td>Drama|War</td>\n",
       "    </tr>\n",
       "    <tr>\n",
       "      <th>1337</th>\n",
       "      <td>1357</td>\n",
       "      <td>Sling Blade (1996)</td>\n",
       "      <td>Drama|Thriller</td>\n",
       "    </tr>\n",
       "    <tr>\n",
       "      <th>1370</th>\n",
       "      <td>1390</td>\n",
       "      <td>Mars Attacks! (1996)</td>\n",
       "      <td>Action|Comedy|Sci-Fi|War</td>\n",
       "    </tr>\n",
       "    <tr>\n",
       "      <th>1505</th>\n",
       "      <td>1543</td>\n",
       "      <td>Lost World: Jurassic Park, The (1997)</td>\n",
       "      <td>Action|Adventure|Sci-Fi|Thriller</td>\n",
       "    </tr>\n",
       "    <tr>\n",
       "      <th>1848</th>\n",
       "      <td>1916</td>\n",
       "      <td>Armageddon (1998)</td>\n",
       "      <td>Action|Adventure|Sci-Fi|Thriller</td>\n",
       "    </tr>\n",
       "    <tr>\n",
       "      <th>1943</th>\n",
       "      <td>2011</td>\n",
       "      <td>Back to the Future Part III (1990)</td>\n",
       "      <td>Comedy|Sci-Fi|Western</td>\n",
       "    </tr>\n",
       "    <tr>\n",
       "      <th>2665</th>\n",
       "      <td>2733</td>\n",
       "      <td>Mosquito Coast, The (1986)</td>\n",
       "      <td>Drama</td>\n",
       "    </tr>\n",
       "    <tr>\n",
       "      <th>3628</th>\n",
       "      <td>3696</td>\n",
       "      <td>Predator 2 (1990)</td>\n",
       "      <td>Action|Sci-Fi|Thriller</td>\n",
       "    </tr>\n",
       "  </tbody>\n",
       "</table>\n",
       "</div>"
      ],
      "text/plain": [
       "      movie_id                                  title  \\\n",
       "158        159                           Congo (1995)   \n",
       "304        306              Three Colors: Blue (1993)   \n",
       "1230      1249   Bridge on the River Kwai, The (1957)   \n",
       "1337      1357                     Sling Blade (1996)   \n",
       "1370      1390                   Mars Attacks! (1996)   \n",
       "1505      1543  Lost World: Jurassic Park, The (1997)   \n",
       "1848      1916                      Armageddon (1998)   \n",
       "1943      2011     Back to the Future Part III (1990)   \n",
       "2665      2733             Mosquito Coast, The (1986)   \n",
       "3628      3696                      Predator 2 (1990)   \n",
       "\n",
       "                                 genre  \n",
       "158    Action|Adventure|Mystery|Sci-Fi  \n",
       "304                              Drama  \n",
       "1230                         Drama|War  \n",
       "1337                    Drama|Thriller  \n",
       "1370          Action|Comedy|Sci-Fi|War  \n",
       "1505  Action|Adventure|Sci-Fi|Thriller  \n",
       "1848  Action|Adventure|Sci-Fi|Thriller  \n",
       "1943             Comedy|Sci-Fi|Western  \n",
       "2665                             Drama  \n",
       "3628            Action|Sci-Fi|Thriller  "
      ]
     },
     "execution_count": 23,
     "metadata": {},
     "output_type": "execute_result"
    }
   ],
   "source": [
    "movies[movies['movie_id'].isin(movie_recommended_ids)]"
   ]
  },
  {
   "cell_type": "code",
   "execution_count": 24,
   "id": "geological-aggregate",
   "metadata": {},
   "outputs": [
    {
     "data": {
      "text/plain": [
       "[(1830, 0.0830016605862105),\n",
       " (1148, 0.011603697250216833),\n",
       " (3866, 0.003661105268089537),\n",
       " (3233, 0.00017358405459113322),\n",
       " (1553, -0.022825420784722314)]"
      ]
     },
     "execution_count": 24,
     "metadata": {},
     "output_type": "execute_result"
    }
   ],
   "source": [
    "explain = als_model.explain(0, csr_data, itemid=2700)\n",
    "explain[1]"
   ]
  }
 ],
 "metadata": {
  "kernelspec": {
   "display_name": "Python 3",
   "language": "python",
   "name": "python3"
  },
  "language_info": {
   "codemirror_mode": {
    "name": "ipython",
    "version": 3
   },
   "file_extension": ".py",
   "mimetype": "text/x-python",
   "name": "python",
   "nbconvert_exporter": "python",
   "pygments_lexer": "ipython3",
   "version": "3.7.9"
  }
 },
 "nbformat": 4,
 "nbformat_minor": 5
}
