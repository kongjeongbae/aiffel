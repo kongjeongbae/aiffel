{
 "cells": [
  {
   "cell_type": "markdown",
   "id": "2788b8de",
   "metadata": {
    "toc": true
   },
   "source": [
    "<h1>Table of Contents<span class=\"tocSkip\"></span></h1>\n",
    "<div class=\"toc\"><ul class=\"toc-item\"><li><span><a href=\"#라이브러리-로드\" data-toc-modified-id=\"라이브러리-로드-1\">라이브러리 로드</a></span></li><li><span><a href=\"#데이터-준비\" data-toc-modified-id=\"데이터-준비-2\">데이터 준비</a></span><ul class=\"toc-item\"><li><span><a href=\"#데이터셋-저장\" data-toc-modified-id=\"데이터셋-저장-2.1\">데이터셋 저장</a></span></li><li><span><a href=\"#폴더-생성-및-압축-해제\" data-toc-modified-id=\"폴더-생성-및-압축-해제-2.2\">폴더 생성 및 압축 해제</a></span></li><li><span><a href=\"#이미지-resize-함수-정의\" data-toc-modified-id=\"이미지-resize-함수-정의-2.3\">이미지 resize 함수 정의</a></span></li><li><span><a href=\"#Train-dataset-리사이즈\" data-toc-modified-id=\"Train-dataset-리사이즈-2.4\">Train dataset 리사이즈</a></span></li><li><span><a href=\"#Test-dataset-리사이즈\" data-toc-modified-id=\"Test-dataset-리사이즈-2.5\">Test dataset 리사이즈</a></span></li><li><span><a href=\"#tf.dataset-만들기\" data-toc-modified-id=\"tf.dataset-만들기-2.6\">tf.dataset 만들기</a></span></li></ul></li><li><span><a href=\"#모델-정의\" data-toc-modified-id=\"모델-정의-3\">모델 정의</a></span><ul class=\"toc-item\"><li><span><a href=\"#모델-훈련\" data-toc-modified-id=\"모델-훈련-3.1\">모델 훈련</a></span></li><li><span><a href=\"#모델-평가-및-결론\" data-toc-modified-id=\"모델-평가-및-결론-3.2\">모델 평가 및 결론</a></span></li></ul></li><li><span><a href=\"#모델-개선\" data-toc-modified-id=\"모델-개선-4\">모델 개선</a></span><ul class=\"toc-item\"><li><span><a href=\"#새로운-데이터셋-생성\" data-toc-modified-id=\"새로운-데이터셋-생성-4.1\">새로운 데이터셋 생성</a></span></li><li><span><a href=\"#transparent-and-resize\" data-toc-modified-id=\"transparent-and-resize-4.2\">transparent and resize</a></span><ul class=\"toc-item\"><li><span><a href=\"#이미지-투명하게-만들기\" data-toc-modified-id=\"이미지-투명하게-만들기-4.2.1\">이미지 투명하게 만들기</a></span></li><li><span><a href=\"#배경-이미지-png로-저장하기\" data-toc-modified-id=\"배경-이미지-png로-저장하기-4.2.2\">배경 이미지 png로 저장하기</a></span></li><li><span><a href=\"#이미지-경로-저장\" data-toc-modified-id=\"이미지-경로-저장-4.2.3\">이미지 경로 저장</a></span></li><li><span><a href=\"#resize,-rotate,-flip-함수-작성\" data-toc-modified-id=\"resize,-rotate,-flip-함수-작성-4.2.4\">resize, rotate, flip 함수 작성</a></span></li></ul></li><li><span><a href=\"#tf.dataset-만들기\" data-toc-modified-id=\"tf.dataset-만들기-4.3\">tf.dataset 만들기</a></span><ul class=\"toc-item\"><li><span><a href=\"#만들어진-데이터셋-예시\" data-toc-modified-id=\"만들어진-데이터셋-예시-4.3.1\">만들어진 데이터셋 예시</a></span></li><li><span><a href=\"#Train,-Valid-set-나누기\" data-toc-modified-id=\"Train,-Valid-set-나누기-4.3.2\">Train, Valid set 나누기</a></span></li></ul></li><li><span><a href=\"#모델-정의\" data-toc-modified-id=\"모델-정의-4.4\">모델 정의</a></span><ul class=\"toc-item\"><li><span><a href=\"#Resnet101-Pretrained-모델-사용\" data-toc-modified-id=\"Resnet101-Pretrained-모델-사용-4.4.1\">Resnet101 Pretrained 모델 사용</a></span></li></ul></li><li><span><a href=\"#결론\" data-toc-modified-id=\"결론-4.5\">결론</a></span></li></ul></li></ul></div>"
   ]
  },
  {
   "cell_type": "markdown",
   "id": "69d0bcf1",
   "metadata": {},
   "source": [
    "# 라이브러리 로드"
   ]
  },
  {
   "cell_type": "code",
   "execution_count": null,
   "id": "2769dec0",
   "metadata": {
    "ExecuteTime": {
     "end_time": "2021-09-27T16:41:28.793364Z",
     "start_time": "2021-09-27T16:41:27.680019Z"
    }
   },
   "outputs": [],
   "source": [
    "import glob\n",
    "import os\n",
    "from pathlib import Path\n",
    "\n",
    "import tensorflow as tf\n",
    "from tensorflow import keras\n",
    "import numpy as np\n",
    "import pandas as pd\n",
    "from PIL import Image\n",
    "import matplotlib.pyplot as plt\n",
    "from IPython.display import Image as display\n",
    "\n",
    "AUTOTUNE = tf.data.AUTOTUNE\n",
    "cwd = Path(os.getcwd())"
   ]
  },
  {
   "cell_type": "code",
   "execution_count": null,
   "id": "a565c73a",
   "metadata": {
    "ExecuteTime": {
     "end_time": "2021-09-27T16:41:28.796251Z",
     "start_time": "2021-09-27T16:41:28.794522Z"
    }
   },
   "outputs": [],
   "source": [
    "classes = ['scissor', 'rock', 'paper']"
   ]
  },
  {
   "cell_type": "markdown",
   "id": "2c9f2cc1",
   "metadata": {},
   "source": [
    "# 데이터 준비"
   ]
  },
  {
   "cell_type": "markdown",
   "id": "713b9486",
   "metadata": {},
   "source": [
    "https://teachablemachine.withgoogle.com/\n",
    "  \n",
    "위 사이트에 들어가서 데이터를 준비하면 됩니다.  \n",
    "예시 사진은 아래와 같습니다."
   ]
  },
  {
   "cell_type": "code",
   "execution_count": null,
   "id": "e47ca970",
   "metadata": {
    "ExecuteTime": {
     "end_time": "2021-09-27T16:41:28.839248Z",
     "start_time": "2021-09-27T16:41:28.797330Z"
    }
   },
   "outputs": [],
   "source": [
    "display(\"src/01/1.png\", width=\"500\", height=\"300\")"
   ]
  },
  {
   "cell_type": "markdown",
   "id": "130f7590",
   "metadata": {},
   "source": [
    "## 데이터셋 저장\n",
    "`data/01` 경로 안에 paper.zip, scissor.zip, rock.zip 파일을 준비합니다."
   ]
  },
  {
   "cell_type": "code",
   "execution_count": null,
   "id": "2de6c7fd",
   "metadata": {
    "ExecuteTime": {
     "end_time": "2021-09-27T16:41:30.234773Z",
     "start_time": "2021-09-27T16:41:30.231646Z"
    }
   },
   "outputs": [],
   "source": [
    "display(\"src/01/2.png\", width=\"300\", height=\"100\")"
   ]
  },
  {
   "cell_type": "markdown",
   "id": "372f2928",
   "metadata": {},
   "source": [
    "## 폴더 생성 및 압축 해제"
   ]
  },
  {
   "cell_type": "code",
   "execution_count": null,
   "id": "24ab3337",
   "metadata": {
    "ExecuteTime": {
     "start_time": "2021-09-27T16:40:36.481Z"
    },
    "scrolled": true
   },
   "outputs": [],
   "source": [
    "!mkdir data/01/paper\n",
    "!mkdir data/01/scissor\n",
    "!mkdir data/01/rock\n",
    "\n",
    "!unzip data/01/paper.zip -d data/01/paper\n",
    "!unzip data/01/scissor.zip -d data/01/scissor\n",
    "!unzip data/01/rock.zip -d data/01/rock"
   ]
  },
  {
   "cell_type": "markdown",
   "id": "1b6757a4",
   "metadata": {},
   "source": [
    "## 이미지 resize 함수 정의"
   ]
  },
  {
   "cell_type": "code",
   "execution_count": null,
   "id": "7412811c",
   "metadata": {
    "ExecuteTime": {
     "end_time": "2021-09-27T16:41:31.474483Z",
     "start_time": "2021-09-27T16:41:31.471426Z"
    },
    "code_folding": []
   },
   "outputs": [],
   "source": [
    "def resize_images(img_path, save_path, target_size=(28,28)):\n",
    "    if not os.path.isdir(save_path):\n",
    "        os.makedirs(save_path)\n",
    "    \n",
    "    images= list(img_path.glob(\"*.jpg\"))\n",
    "    \n",
    "    print(len(images), \" images to be resized.\")\n",
    "\n",
    "    for img in images:\n",
    "        filename = os.path.basename(img)\n",
    "        old_img=Image.open(img)\n",
    "        new_img=old_img.resize(target_size, Image.ANTIALIAS)\n",
    "        new_img.save(save_path / filename, \"JPEG\")\n",
    "\n",
    "    print(len(images), \" images resized.\")   \n"
   ]
  },
  {
   "cell_type": "markdown",
   "id": "abef83e7",
   "metadata": {},
   "source": [
    "## Train dataset 리사이즈"
   ]
  },
  {
   "cell_type": "code",
   "execution_count": null,
   "id": "ecbb99e3",
   "metadata": {},
   "outputs": [],
   "source": [
    "for class_ in classes:\n",
    "    origin_img_path = cwd / 'data/01' / class_\n",
    "    save_path = cwd / 'data/01/resize' / class_\n",
    "    resize_images(origin_img_path, save_path)\n",
    "    print(class_, '작업완료', '\\n')"
   ]
  },
  {
   "cell_type": "markdown",
   "id": "67d7f53d",
   "metadata": {},
   "source": [
    "## Test dataset 리사이즈"
   ]
  },
  {
   "cell_type": "code",
   "execution_count": null,
   "id": "941b95d5",
   "metadata": {},
   "outputs": [],
   "source": [
    "for class_ in classes:\n",
    "    cwd = Path(os.getcwd())\n",
    "    origin_img_path = cwd / 'data/01/test' / class_\n",
    "    save_path = cwd / 'data/01/resize/test' / class_\n",
    "    resize_images(origin_img_path, save_path)\n",
    "    print(class_, '작업완료', '\\n')"
   ]
  },
  {
   "cell_type": "markdown",
   "id": "5458683e",
   "metadata": {},
   "source": [
    "## tf.dataset 만들기"
   ]
  },
  {
   "cell_type": "code",
   "execution_count": null,
   "id": "685eb27e",
   "metadata": {
    "ExecuteTime": {
     "end_time": "2021-09-27T16:41:32.969175Z",
     "start_time": "2021-09-27T16:41:32.966323Z"
    }
   },
   "outputs": [],
   "source": [
    "def get_label(file_path):\n",
    "    parts = tf.strings.split(file_path, os.path.sep)\n",
    "    one_hot = parts[-2] == classes\n",
    "    return tf.argmax(one_hot)\n",
    "\n",
    "def decode_img(img):\n",
    "    img = tf.io.decode_jpeg(img, channels=3)\n",
    "    return img\n",
    "\n",
    "def process_path(file_path):\n",
    "    label = get_label(file_path)\n",
    "    img = tf.io.read_file(file_path)\n",
    "    img = decode_img(img)\n",
    "    return img, label\n"
   ]
  },
  {
   "cell_type": "code",
   "execution_count": null,
   "id": "8332430b",
   "metadata": {
    "ExecuteTime": {
     "end_time": "2021-09-27T16:41:33.700505Z",
     "start_time": "2021-09-27T16:41:33.173975Z"
    }
   },
   "outputs": [],
   "source": [
    "paths = []\n",
    "for class_ in classes:\n",
    "    data_path = cwd / 'data/01/resize' / class_\n",
    "    paths += list(data_path.glob(\"*.jpg\"))\n",
    "paths = [str(_) for _ in paths]\n",
    "list_ds = tf.data.Dataset.list_files(paths, shuffle=False)\n",
    "train_ds = list_ds.map(process_path, num_parallel_calls=AUTOTUNE).shuffle(300).batch(32)"
   ]
  },
  {
   "cell_type": "code",
   "execution_count": null,
   "id": "f735eb57",
   "metadata": {
    "ExecuteTime": {
     "end_time": "2021-09-27T16:41:33.729225Z",
     "start_time": "2021-09-27T16:41:33.701500Z"
    }
   },
   "outputs": [],
   "source": [
    "test_paths = []\n",
    "for class_ in classes:\n",
    "    data_path = cwd / 'data/01/resize/test' / class_\n",
    "    test_paths += list(data_path.glob(\"*.jpg\"))\n",
    "test_paths = [str(_) for _ in test_paths]\n",
    "\n",
    "test_ds = tf.data.Dataset.list_files(test_paths, shuffle=False)\n",
    "test_ds = test_ds.map(process_path, num_parallel_calls=AUTOTUNE).batch(32)"
   ]
  },
  {
   "cell_type": "markdown",
   "id": "5ae89a15",
   "metadata": {},
   "source": [
    "# 모델 정의"
   ]
  },
  {
   "cell_type": "code",
   "execution_count": null,
   "id": "2e2c4ba8",
   "metadata": {
    "ExecuteTime": {
     "end_time": "2021-09-27T16:41:34.742059Z",
     "start_time": "2021-09-27T16:41:34.568531Z"
    }
   },
   "outputs": [],
   "source": [
    "model=keras.models.Sequential()\n",
    "model.add(keras.layers.Conv2D(8, (3,3), activation='relu', input_shape=(28,28,3)))\n",
    "model.add(keras.layers.MaxPool2D(2,2))\n",
    "model.add(keras.layers.Conv2D(16, (3,3), activation='relu'))\n",
    "model.add(keras.layers.MaxPooling2D((2,2)))\n",
    "model.add(keras.layers.Flatten())\n",
    "model.add(keras.layers.Dense(3, activation='softmax'))\n",
    "\n",
    "model.summary()"
   ]
  },
  {
   "cell_type": "code",
   "execution_count": null,
   "id": "7ce9dcb1",
   "metadata": {
    "ExecuteTime": {
     "end_time": "2021-09-27T16:41:34.987138Z",
     "start_time": "2021-09-27T16:41:34.960837Z"
    }
   },
   "outputs": [],
   "source": [
    "model.compile(optimizer='adam',\n",
    "             loss='sparse_categorical_crossentropy',\n",
    "             metrics=['accuracy'])"
   ]
  },
  {
   "cell_type": "markdown",
   "id": "0853e6cd",
   "metadata": {},
   "source": [
    "## 모델 훈련"
   ]
  },
  {
   "cell_type": "code",
   "execution_count": null,
   "id": "fcb83638",
   "metadata": {
    "ExecuteTime": {
     "end_time": "2021-09-27T16:41:37.590030Z",
     "start_time": "2021-09-27T16:41:35.822914Z"
    },
    "scrolled": true
   },
   "outputs": [],
   "source": [
    "model.fit(train_ds, epochs=10)"
   ]
  },
  {
   "cell_type": "code",
   "execution_count": null,
   "id": "d6719294",
   "metadata": {
    "ExecuteTime": {
     "end_time": "2021-09-27T16:41:37.705190Z",
     "start_time": "2021-09-27T16:41:37.591034Z"
    }
   },
   "outputs": [],
   "source": [
    "model.evaluate(test_ds)"
   ]
  },
  {
   "cell_type": "markdown",
   "id": "de4a576c",
   "metadata": {},
   "source": [
    "## 모델 평가 및 결론"
   ]
  },
  {
   "cell_type": "markdown",
   "id": "2578f7f9",
   "metadata": {},
   "source": [
    "결과\n",
    "- train set 정확도는 99.67% 를 달성했지만, test set 정확도는 16.67%에 불과하다.\n",
    "\n",
    "이유\n",
    "- Overfitting이 발생했다.\n",
    "- 데이터가 충분하지 않다.\n",
    "- 각 데이터가 모두 비슷하다.\n",
    "\n",
    "=> 새로운 손 데이터 셋을 찾아보자.  \n",
    "=> 그리고 각 이미지 샘플의 배경을 다르게 해보자."
   ]
  },
  {
   "cell_type": "markdown",
   "id": "66f0be55",
   "metadata": {},
   "source": [
    "# 모델 개선"
   ]
  },
  {
   "cell_type": "markdown",
   "id": "e13afea2",
   "metadata": {},
   "source": [
    "<img src=\"https://i.ibb.co/vLqmP8z/4.png\" width=\"500\"/>"
   ]
  },
  {
   "cell_type": "markdown",
   "id": "03aa6c00",
   "metadata": {},
   "source": [
    "- **기본 아이디어**  \n",
    "1. 데이터  \n",
    "위 사진과 같이, 손 그림의 흰 영역을 투명으로 처리한 후, 배경이미지 위에 올려 다양한 배경 위에 손이 존재하도록 한다.  \n",
    " 이 때 손은 회전과 크기조절을 랜덤하게 적용한다.  \n",
    " 배경 또한 300장의 이미지를 랜덤하게 적용한다.\n",
    "\n",
    "  \n",
    "2. 모델\n",
    "pretrained model을 사용하자"
   ]
  },
  {
   "cell_type": "markdown",
   "id": "f0f901b5",
   "metadata": {},
   "source": [
    "## 새로운 데이터셋 생성"
   ]
  },
  {
   "cell_type": "markdown",
   "id": "c17baf5a",
   "metadata": {},
   "source": [
    "아래 사이트에서 가위바위보 손모양 데이터셋 다운로드 받기  \n",
    "https://laurencemoroney.com/datasets.html#rock-paper-scissors-dataset  \n",
    "**압축 파일을 풀고, scissors 폴더 이름을 scissor 로 바꿔주세요**"
   ]
  },
  {
   "cell_type": "markdown",
   "id": "891185bd",
   "metadata": {
    "ExecuteTime": {
     "end_time": "2021-09-27T16:45:37.622327Z",
     "start_time": "2021-09-27T16:45:37.618104Z"
    }
   },
   "source": [
    "<img src=\"https://i.ibb.co/z4S9KSS/2021-09-28-01-55-14.png\" width=\"400\"/>"
   ]
  },
  {
   "cell_type": "markdown",
   "id": "7d4ae9b3",
   "metadata": {},
   "source": [
    "배경으로 쓸 사진 다운로드 받기  \n",
    "https://storage.googleapis.com/openimages/web/download.html"
   ]
  },
  {
   "cell_type": "markdown",
   "id": "5c945f5c",
   "metadata": {
    "ExecuteTime": {
     "end_time": "2021-09-27T16:44:28.257768Z",
     "start_time": "2021-09-27T16:44:28.253818Z"
    }
   },
   "source": [
    "<img src=\"https://storage.googleapis.com/openimages/web/images/fiftyone.png\" width=\"500\"/>"
   ]
  },
  {
   "cell_type": "markdown",
   "id": "d9ccb1cb",
   "metadata": {},
   "source": [
    "**data/01 폴더 안에 hand 폴더를 만들고, 위에서 받은 손모양 이미지들을 준비해주세요.  \n",
    "data/01 폴더 안에 background 폴더를 만들고, 위에서 받은 배경 이미지들을 준비해주세요.**"
   ]
  },
  {
   "cell_type": "code",
   "execution_count": null,
   "id": "dc337974",
   "metadata": {
    "ExecuteTime": {
     "end_time": "2021-09-27T16:45:42.972731Z",
     "start_time": "2021-09-27T16:45:42.969903Z"
    }
   },
   "outputs": [],
   "source": [
    "display(\"src/01/7.png\", width=\"200\", height=\"150\")"
   ]
  },
  {
   "cell_type": "markdown",
   "id": "78d5617f",
   "metadata": {},
   "source": [
    "## transparent and resize"
   ]
  },
  {
   "cell_type": "markdown",
   "id": "fd85e018",
   "metadata": {},
   "source": [
    "### 이미지 투명하게 만들기"
   ]
  },
  {
   "cell_type": "code",
   "execution_count": null,
   "id": "364efc35",
   "metadata": {
    "ExecuteTime": {
     "end_time": "2021-09-27T16:45:45.066400Z",
     "start_time": "2021-09-27T16:45:45.059752Z"
    }
   },
   "outputs": [],
   "source": [
    "from PIL import Image\n",
    "\n",
    "def make_transparent(img_path, save_path):\n",
    "    if not os.path.isdir(save_path):\n",
    "        os.makedirs(save_path)\n",
    "    \n",
    "    images= list(img_path.glob(\"*.png\"))\n",
    "    for img in images:\n",
    "        filename = os.path.basename(img)\n",
    "        img = Image.open(img)\n",
    "        img = img.convert(\"RGBA\")\n",
    "        datas = img.getdata()\n",
    "        newData = []\n",
    "        for item in datas:\n",
    "            if 225 <= item[0] <= 255 and 225 <= item[1] <= 255 and 225 <= item[2] <= 255:\n",
    "                newData.append((255, 255, 255, 0))\n",
    "            else:\n",
    "                newData.append(item)\n",
    "        img.putdata(newData)\n",
    "        img.save(save_path / filename, \"PNG\")"
   ]
  },
  {
   "cell_type": "code",
   "execution_count": null,
   "id": "3e374b07",
   "metadata": {},
   "outputs": [],
   "source": [
    "for class_ in classes:\n",
    "    img_path = cwd / 'data/01/hand' / class_\n",
    "    save_path = cwd / 'data/01/resize/hand' / class_\n",
    "    make_transparent(img_path, save_path)"
   ]
  },
  {
   "cell_type": "markdown",
   "id": "7abc9043",
   "metadata": {},
   "source": [
    "### 배경 이미지 png로 저장하기"
   ]
  },
  {
   "cell_type": "code",
   "execution_count": null,
   "id": "1963d115",
   "metadata": {
    "ExecuteTime": {
     "end_time": "2021-09-27T16:45:46.149336Z",
     "start_time": "2021-09-27T16:45:46.145962Z"
    }
   },
   "outputs": [],
   "source": [
    "def save_png(img_path, save_path, target_size=(224, 224)):\n",
    "    if not os.path.isdir(save_path):\n",
    "        os.makedirs(save_path)\n",
    "    \n",
    "    images= list(img_path.glob(\"*.jpg\"))\n",
    "    \n",
    "    print(len(images), \" images to be resized.\")\n",
    "\n",
    "    for img in images:\n",
    "        filename = os.path.basename(img) + '.png'\n",
    "        img = Image.open(img)\n",
    "        width, height = img.size\n",
    "        img = img.resize(target_size)\n",
    "        img = img.convert(\"RGBA\")\n",
    "        img.save(save_path / filename, \"PNG\")\n",
    "\n",
    "    print(len(images), \" images resized.\")   \n"
   ]
  },
  {
   "cell_type": "code",
   "execution_count": null,
   "id": "f0d4d571",
   "metadata": {},
   "outputs": [],
   "source": [
    "img_path = cwd / 'data/01/background'\n",
    "save_path = cwd / 'data/01/resize/background'\n",
    "save_png(img_path, save_path)"
   ]
  },
  {
   "cell_type": "markdown",
   "id": "cfdcf6b9",
   "metadata": {},
   "source": [
    "### 이미지 경로 저장"
   ]
  },
  {
   "cell_type": "code",
   "execution_count": null,
   "id": "76ef4f23",
   "metadata": {
    "ExecuteTime": {
     "end_time": "2021-09-27T16:45:48.861203Z",
     "start_time": "2021-09-27T16:45:48.858045Z"
    }
   },
   "outputs": [],
   "source": [
    "background_paths = cwd / 'data/01/resize/background'\n",
    "background_paths =  list(background_paths.glob(\"*.png\"))\n",
    "background_paths = [str(_) for _ in background_paths]"
   ]
  },
  {
   "cell_type": "code",
   "execution_count": null,
   "id": "6ec4164b",
   "metadata": {
    "ExecuteTime": {
     "end_time": "2021-09-27T16:45:49.077146Z",
     "start_time": "2021-09-27T16:45:49.068812Z"
    }
   },
   "outputs": [],
   "source": [
    "hand_paths = []\n",
    "for class_ in classes:\n",
    "    data_path = cwd / 'data/01/resize/hand' / class_\n",
    "    hand_paths += list(data_path.glob(\"*.png\"))\n",
    "hand_paths = [str(_) for _ in hand_paths]"
   ]
  },
  {
   "cell_type": "markdown",
   "id": "707fecf0",
   "metadata": {},
   "source": [
    "### resize, rotate, flip 함수 작성"
   ]
  },
  {
   "cell_type": "code",
   "execution_count": null,
   "id": "705734ac",
   "metadata": {
    "ExecuteTime": {
     "end_time": "2021-09-27T16:45:50.703423Z",
     "start_time": "2021-09-27T16:45:50.697862Z"
    }
   },
   "outputs": [],
   "source": [
    "def resize(img, prob, ratio):\n",
    "    w, h = img.size\n",
    "    if np.random.rand() < prob:\n",
    "        ratio = max(ratio, np.random.rand())\n",
    "        w = int(w*ratio)\n",
    "        h = int(h*ratio)\n",
    "        img = img.resize((w, h))\n",
    "    return img\n",
    "\n",
    "\n",
    "def rotate(img, prob):\n",
    "    if np.random.rand() < prob:\n",
    "        theta = int(np.random.rand() * 90)\n",
    "        img = img.rotate(angle=theta)\n",
    "    return img\n",
    "\n",
    "\n",
    "def flip(img, prob):\n",
    "    if np.random.rand() < prob:\n",
    "        if np.random.rand() < 0.5:\n",
    "            img = np.flip(img, 0)\n",
    "        else:\n",
    "            img = np.flip(img, 1)\n",
    "    return img\n",
    "\n",
    "\n",
    "def image_merge(back, front):\n",
    "    parts = tf.strings.split(front, os.path.sep)\n",
    "    one_hot = parts[-2] == classes\n",
    "    label = tf.argmax(one_hot)\n",
    "    label = tf.cast(label, tf.int8)\n",
    "    \n",
    "    back = back.numpy()\n",
    "    front = front.numpy()\n",
    "    background = Image.open(back)\n",
    "    foreground = Image.open(front)\n",
    "    \n",
    "    foreground = resize(foreground, 0.5, 0.5)\n",
    "    foreground = rotate(foreground, 0.5)\n",
    "    \n",
    "    \n",
    "    background.paste(foreground, (0, 0), foreground)\n",
    "    background = background.convert(\"RGB\")\n",
    "    background = np.array(background)\n",
    "    background = flip(background, 0.5)\n",
    "    \n",
    "    \n",
    "    return background, label\n"
   ]
  },
  {
   "cell_type": "markdown",
   "id": "69d8266a",
   "metadata": {},
   "source": [
    "## tf.dataset 만들기"
   ]
  },
  {
   "cell_type": "code",
   "execution_count": null,
   "id": "f5bca32b",
   "metadata": {
    "ExecuteTime": {
     "end_time": "2021-09-27T16:49:24.903650Z",
     "start_time": "2021-09-27T16:49:24.868525Z"
    }
   },
   "outputs": [],
   "source": [
    "train_ds_hand = tf.data.Dataset.list_files(hand_paths).shuffle(300)\n",
    "train_ds_background = tf.data.Dataset.list_files(background_paths).shuffle(300)\n",
    "train_ds = tf.data.Dataset.zip((train_ds_background, train_ds_hand))"
   ]
  },
  {
   "cell_type": "code",
   "execution_count": null,
   "id": "ffb612f0",
   "metadata": {
    "ExecuteTime": {
     "end_time": "2021-09-27T16:49:25.068309Z",
     "start_time": "2021-09-27T16:49:25.064356Z"
    }
   },
   "outputs": [],
   "source": [
    "def tf_img_merge(back, front):\n",
    "    image, label = tf.py_function(image_merge, [back, front], [tf.int16, tf.int8])\n",
    "    image.set_shape((224,224,3))\n",
    "    label.set_shape(())\n",
    "    return image, label"
   ]
  },
  {
   "cell_type": "code",
   "execution_count": null,
   "id": "3437dc1c",
   "metadata": {
    "ExecuteTime": {
     "end_time": "2021-09-27T16:49:25.331798Z",
     "start_time": "2021-09-27T16:49:25.309038Z"
    }
   },
   "outputs": [],
   "source": [
    "img_merge_ds = train_ds.map(tf_img_merge)\n",
    "img_merge_ds = img_merge_ds.batch(32)"
   ]
  },
  {
   "cell_type": "code",
   "execution_count": null,
   "id": "18efe216",
   "metadata": {
    "ExecuteTime": {
     "end_time": "2021-09-27T16:49:25.535886Z",
     "start_time": "2021-09-27T16:49:25.532761Z"
    },
    "scrolled": true
   },
   "outputs": [],
   "source": [
    "# for a in img_merge_ds.take(1):\n",
    "#     plt.imshow(a[0][0].numpy())\n",
    "#     plt.show()"
   ]
  },
  {
   "cell_type": "markdown",
   "id": "736fa08a",
   "metadata": {},
   "source": [
    "### 만들어진 데이터셋 예시"
   ]
  },
  {
   "cell_type": "markdown",
   "id": "427f7f57",
   "metadata": {},
   "source": [
    "<img src=\"https://i.ibb.co/ZSYPS7y/6.png\" width=\"500\"/>"
   ]
  },
  {
   "cell_type": "markdown",
   "id": "16e56253",
   "metadata": {},
   "source": [
    "### Train, Valid set 나누기"
   ]
  },
  {
   "cell_type": "code",
   "execution_count": null,
   "id": "ad2c1a56",
   "metadata": {
    "ExecuteTime": {
     "end_time": "2021-09-27T16:49:29.668706Z",
     "start_time": "2021-09-27T16:49:29.635747Z"
    },
    "code_folding": []
   },
   "outputs": [],
   "source": [
    "def is_test(x, y):\n",
    "    return x % 4 == 0\n",
    "\n",
    "def is_train(x, y):\n",
    "    return not is_test(x, y)\n",
    "\n",
    "recover = lambda x,y: y\n",
    "\n",
    "test_dataset = img_merge_ds.enumerate().filter(is_test).map(recover)\n",
    "train_dataset = img_merge_ds.enumerate().filter(is_train).map(recover)"
   ]
  },
  {
   "cell_type": "markdown",
   "id": "537baf05",
   "metadata": {},
   "source": [
    "## 모델 정의"
   ]
  },
  {
   "cell_type": "markdown",
   "id": "c12b35f3",
   "metadata": {},
   "source": [
    "### Resnet101 Pretrained 모델 사용"
   ]
  },
  {
   "cell_type": "code",
   "execution_count": null,
   "id": "f1cae997",
   "metadata": {
    "ExecuteTime": {
     "end_time": "2021-09-27T16:49:32.343359Z",
     "start_time": "2021-09-27T16:49:30.731482Z"
    }
   },
   "outputs": [],
   "source": [
    "base_model = keras.applications.ResNet101(\n",
    "    weights='imagenet',\n",
    "    input_shape=(224, 224, 3),\n",
    "    include_top=False)"
   ]
  },
  {
   "cell_type": "code",
   "execution_count": null,
   "id": "ca9402d1",
   "metadata": {
    "ExecuteTime": {
     "end_time": "2021-09-27T16:49:32.353152Z",
     "start_time": "2021-09-27T16:49:32.344506Z"
    }
   },
   "outputs": [],
   "source": [
    "# freeze 한 후, 모델 훈련\n",
    "\n",
    "base_model.trainable = False"
   ]
  },
  {
   "cell_type": "code",
   "execution_count": null,
   "id": "a62cef9e",
   "metadata": {
    "ExecuteTime": {
     "end_time": "2021-09-27T16:49:32.832274Z",
     "start_time": "2021-09-27T16:49:32.354383Z"
    }
   },
   "outputs": [],
   "source": [
    "inputs = keras.Input(shape=(224, 224, 3))\n",
    "x = base_model(inputs, training=False)\n",
    "x = keras.layers.GlobalAveragePooling2D()(x)\n",
    "x = keras.layers.Dropout(0.5)(x)\n",
    "outputs = keras.layers.Dense(3, activation='softmax')(x)\n",
    "model = keras.Model(inputs, outputs)"
   ]
  },
  {
   "cell_type": "code",
   "execution_count": null,
   "id": "52a53050",
   "metadata": {
    "ExecuteTime": {
     "end_time": "2021-09-27T16:49:32.847205Z",
     "start_time": "2021-09-27T16:49:32.833302Z"
    }
   },
   "outputs": [],
   "source": [
    "model.summary()"
   ]
  },
  {
   "cell_type": "code",
   "execution_count": null,
   "id": "e428ea46",
   "metadata": {
    "ExecuteTime": {
     "end_time": "2021-09-27T16:50:32.343957Z",
     "start_time": "2021-09-27T16:49:32.999964Z"
    },
    "scrolled": true
   },
   "outputs": [],
   "source": [
    "model.compile(optimizer=keras.optimizers.Adam(),\n",
    "              loss='sparse_categorical_crossentropy',\n",
    "              metrics=['accuracy'])\n",
    "model.fit(train_dataset, epochs=10, validation_data=test_dataset)"
   ]
  },
  {
   "cell_type": "code",
   "execution_count": null,
   "id": "1d7f3f0f",
   "metadata": {
    "ExecuteTime": {
     "end_time": "2021-09-27T16:51:50.559883Z",
     "start_time": "2021-09-27T16:50:32.346500Z"
    }
   },
   "outputs": [],
   "source": [
    "# unfreeze 한 후, 모델 훈련\n",
    "\n",
    "base_model.trainable = True\n",
    "\n",
    "model.compile(optimizer=keras.optimizers.Adam(1e-5),  # Very low learning rate\n",
    "              loss='sparse_categorical_crossentropy',\n",
    "              metrics=['accuracy'])\n",
    "\n",
    "model.fit(train_dataset, epochs=10, validation_data=test_dataset)"
   ]
  },
  {
   "cell_type": "code",
   "execution_count": null,
   "id": "2a94a439",
   "metadata": {
    "ExecuteTime": {
     "end_time": "2021-09-27T16:51:50.594258Z",
     "start_time": "2021-09-27T16:51:50.561117Z"
    }
   },
   "outputs": [],
   "source": [
    "test_paths = []\n",
    "for class_ in classes:\n",
    "    data_path = cwd / 'data/01/test' / class_\n",
    "    test_paths += list(data_path.glob(\"*.jpg\"))\n",
    "test_paths = [str(_) for _ in test_paths]\n",
    "\n",
    "test_ds = tf.data.Dataset.list_files(test_paths, shuffle=False)\n",
    "test_ds = test_ds.map(process_path).batch(12)"
   ]
  },
  {
   "cell_type": "code",
   "execution_count": null,
   "id": "cb2ab9bc",
   "metadata": {
    "ExecuteTime": {
     "end_time": "2021-09-27T16:51:51.698513Z",
     "start_time": "2021-09-27T16:51:50.595353Z"
    },
    "scrolled": true
   },
   "outputs": [],
   "source": [
    "model.evaluate(test_ds)"
   ]
  },
  {
   "cell_type": "code",
   "execution_count": null,
   "id": "d6d26372",
   "metadata": {
    "ExecuteTime": {
     "end_time": "2021-09-27T16:51:52.728448Z",
     "start_time": "2021-09-27T16:51:51.699662Z"
    },
    "scrolled": true
   },
   "outputs": [],
   "source": [
    "pred = model.predict(test_ds)\n",
    "np.argmax(pred, axis = -1)"
   ]
  },
  {
   "cell_type": "code",
   "execution_count": null,
   "id": "263df43a",
   "metadata": {
    "ExecuteTime": {
     "end_time": "2021-09-27T16:51:52.753823Z",
     "start_time": "2021-09-27T16:51:52.729352Z"
    }
   },
   "outputs": [],
   "source": [
    "y = [j for i, j in test_ds]\n",
    "y"
   ]
  },
  {
   "cell_type": "markdown",
   "id": "142b00e7",
   "metadata": {},
   "source": [
    "## 결론\n",
    "정확도 16.67%에서 83.33% 로 상승 \n",
    "\n",
    "아래 사진을 주먹으로 인식하는 에러 존재"
   ]
  },
  {
   "cell_type": "code",
   "execution_count": null,
   "id": "27b709d5",
   "metadata": {
    "ExecuteTime": {
     "end_time": "2021-09-27T16:52:20.560924Z",
     "start_time": "2021-09-27T16:52:20.557602Z"
    }
   },
   "outputs": [],
   "source": [
    "display(\"src/01/8.png\", width=\"400\", height=\"200\")"
   ]
  }
 ],
 "metadata": {
  "kernelspec": {
   "display_name": "Python 3",
   "language": "python",
   "name": "python3"
  },
  "language_info": {
   "codemirror_mode": {
    "name": "ipython",
    "version": 3
   },
   "file_extension": ".py",
   "mimetype": "text/x-python",
   "name": "python",
   "nbconvert_exporter": "python",
   "pygments_lexer": "ipython3",
   "version": "3.6.9"
  },
  "toc": {
   "base_numbering": 1,
   "nav_menu": {},
   "number_sections": false,
   "sideBar": true,
   "skip_h1_title": false,
   "title_cell": "Table of Contents",
   "title_sidebar": "Contents",
   "toc_cell": true,
   "toc_position": {
    "height": "calc(100% - 180px)",
    "left": "10px",
    "top": "150px",
    "width": "348.047px"
   },
   "toc_section_display": true,
   "toc_window_display": true
  }
 },
 "nbformat": 4,
 "nbformat_minor": 5
}
