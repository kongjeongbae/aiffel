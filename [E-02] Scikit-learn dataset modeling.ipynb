{
 "cells": [
  {
   "cell_type": "markdown",
   "id": "35c8b4aa",
   "metadata": {
    "toc": true
   },
   "source": [
    "<h1>Table of Contents<span class=\"tocSkip\"></span></h1>\n",
    "<div class=\"toc\"><ul class=\"toc-item\"><li><span><a href=\"#Digits\" data-toc-modified-id=\"Digits-1\">Digits</a></span></li><li><span><a href=\"#Wine\" data-toc-modified-id=\"Wine-2\">Wine</a></span></li><li><span><a href=\"#Breast-Cancer\" data-toc-modified-id=\"Breast-Cancer-3\">Breast Cancer</a></span></li></ul></div>"
   ]
  },
  {
   "cell_type": "code",
   "execution_count": 1,
   "id": "c9368e8c",
   "metadata": {
    "ExecuteTime": {
     "end_time": "2021-10-05T13:43:09.852759Z",
     "start_time": "2021-10-05T13:43:09.210571Z"
    }
   },
   "outputs": [],
   "source": [
    "import warnings\n",
    "\n",
    "from sklearn.datasets import load_digits, load_wine, load_breast_cancer, load_iris\n",
    "from sklearn.model_selection import train_test_split\n",
    "from sklearn.metrics import classification_report\n",
    "from sklearn.ensemble import *\n",
    "from sklearn.linear_model import *\n",
    "from sklearn.tree import *\n",
    "from sklearn.svm import *\n",
    "import sklearn.exceptions\n",
    "\n",
    "import pandas as pd\n",
    "import seaborn as sns\n",
    "\n",
    "import matplotlib.pyplot as plt\n",
    "\n",
    "warnings.filterwarnings(\"ignore\", category=sklearn.exceptions.UndefinedMetricWarning)"
   ]
  },
  {
   "cell_type": "code",
   "execution_count": 2,
   "id": "47936518",
   "metadata": {
    "ExecuteTime": {
     "end_time": "2021-10-05T13:43:09.869264Z",
     "start_time": "2021-10-05T13:43:09.854043Z"
    }
   },
   "outputs": [],
   "source": [
    "class sklearn_dataset:\n",
    "    def __init__(self, dataset, seed=None):\n",
    "        self.dataset = dataset()\n",
    "        self.seed = seed\n",
    "        self.describe = None\n",
    "        self.x, self.y = None, None\n",
    "        self.x_train, self.x_test = None, None\n",
    "        self.y_train, self.y_test = None, None\n",
    "        self.model = None\n",
    "        self.pred = None\n",
    "        self.results = {}\n",
    "        self.report = None\n",
    "        self.df = None\n",
    "    \n",
    "    def make_x_y(self):\n",
    "        self.describe = self.dataset.DESCR\n",
    "        self.x = self.dataset.data\n",
    "        self.y = self.dataset.target\n",
    "        \n",
    "    def eda(self):\n",
    "        if 'target' in self.dataset.feature_names:\n",
    "            raise ValueError('feature_names에 target 이라는 컬럼이름이 존재합니다.')\n",
    "        self.dataset.feature_names = [name.replace('/', '_') for name in self.dataset.feature_names]\n",
    "        self.df = pd.DataFrame(self.x, columns=self.dataset.feature_names)\n",
    "        self.df['target'] = self.y\n",
    "        self.df['target'] = self.df['target'].astype(str)\n",
    "        print('target 분포')\n",
    "        sns.countplot(x='target', data=self.df, hue='target')\n",
    "        plt.show()\n",
    "        print('Missing value count \\n')\n",
    "        if self.df.isna().sum().sum() == 0:\n",
    "            print(': 결측치가 없습니다.')\n",
    "        else:\n",
    "            print(self.df.isna().sum()[self.df.isna().sum() != 0])\n",
    "    \n",
    "    def correlation(self, annot=False):\n",
    "        plt.figure(figsize=(14,12))\n",
    "        g = sns.heatmap(self.df.select_dtypes(include=[float, int]).corr(), annot=annot, cmap = \"coolwarm\", annot_kws={\"fontsize\":8}, center=0)\n",
    "        plt.show()\n",
    "    \n",
    "    def catplot(self):           \n",
    "        for feature in self.df.columns:\n",
    "            if feature == 'target':\n",
    "                continue\n",
    "            sns.catplot(x='target', y=feature, data=self.df)\n",
    "            plt.show()\n",
    "    \n",
    "    def boxplot(self, save=False):\n",
    "        print('Box plot')\n",
    "        for feature in self.df.columns:\n",
    "            if feature == 'target':\n",
    "                continue\n",
    "            sns.catplot(x='target', y=feature, kind=\"box\", data=self.df)\n",
    "            if save:\n",
    "                plt.savefig(f'{feature}_box_plot.png')\n",
    "            plt.show()\n",
    "        print()\n",
    "            \n",
    "    def scatter_plot(self):\n",
    "        print('scatter plot')\n",
    "        if len(self.df.columns) > 20:\n",
    "            print('컬럼의 개수가 너무 많습니다. seaborn 라이브러리를 직접 사용하셔야 합니다.')\n",
    "            return\n",
    "        g = sns.PairGrid(self.df, hue='target')\n",
    "        g.map_diag(sns.kdeplot)\n",
    "        g.map(sns.scatterplot)\n",
    "        plt.show()\n",
    "        print()\n",
    "        \n",
    "    def split(self, test_size=0.2):\n",
    "        if len(self.df.columns) != self.x.shape[1] + 1:\n",
    "            array = self.df.to_numpy()\n",
    "            self.x = array[:, :-1]\n",
    "            self.y = array[:, -1]\n",
    "            del array\n",
    "            \n",
    "        self.x_train, self.x_test, self.y_train, self.y_test = train_test_split(self.x, self.y, test_size=test_size, random_state=self.seed)\n",
    "\n",
    "    def select_model(self, model, **args):\n",
    "        if model == LogisticRegression:\n",
    "            self.model = model(solver='liblinear')\n",
    "        else:\n",
    "            self.model = model(**args)\n",
    "        self.model.random_state = self.seed\n",
    "        \n",
    "    def train(self):\n",
    "        if len(self.df.columns) != self.x.shape[1] + 1:\n",
    "            array = self.df.to_numpy()\n",
    "            self.x = array[:, :-1]\n",
    "            self.y = array[:, -1]\n",
    "            del array\n",
    "        self.model.fit(self.x_train, self.y_train)\n",
    "    \n",
    "    def fit(self):\n",
    "        self.train()\n",
    "        \n",
    "    \n",
    "    def predict(self):\n",
    "        self.pred = self.model.predict(self.x_test)\n",
    "        return self.pred\n",
    "    \n",
    "    def test(self):\n",
    "        self.predict()\n",
    "        return self.pred\n",
    "    \n",
    "    def make_report(self):\n",
    "        print(type(self.model).__name__, 'Report', '\\n')\n",
    "        self.report = classification_report(self.y_test, self.pred)\n",
    "        self.results[type(self.model).__name__] = classification_report(self.y_test, self.pred, output_dict=True)\n",
    "        print(self.report)\n",
    "        print('='*53, '\\n')\n",
    "\n",
    "    def best_model(self, metric):\n",
    "        result = {\n",
    "            'acc': [],\n",
    "            'recall': [],\n",
    "            'precision': [],\n",
    "            'f1': []\n",
    "        }\n",
    "\n",
    "        for model, v in self.results.items():\n",
    "            result['acc'].append((v['accuracy'], model))\n",
    "            result['recall'].append((v['macro avg']['recall'], model))\n",
    "            result['precision'].append((v['macro avg']['precision'], model))\n",
    "            result['f1'].append((v['macro avg']['f1-score'], model))\n",
    "        \n",
    "        for _, v in result.items():\n",
    "            v.sort()\n",
    "\n",
    "        print(f'{metric} 기준, 최고의 모델과 metric 값은 다음과 같습니다. \\n')\n",
    "        print('Best model: ', result[metric][-1][-1])\n",
    "        print('Score: ', result[metric][-1][0])"
   ]
  },
  {
   "cell_type": "markdown",
   "id": "b00b4e86",
   "metadata": {},
   "source": [
    "## Digits"
   ]
  },
  {
   "cell_type": "code",
   "execution_count": 3,
   "id": "e23d9953",
   "metadata": {
    "ExecuteTime": {
     "end_time": "2021-10-05T13:43:10.211077Z",
     "start_time": "2021-10-05T13:43:09.871719Z"
    },
    "scrolled": false
   },
   "outputs": [
    {
     "name": "stdout",
     "output_type": "stream",
     "text": [
      "target 분포\n"
     ]
    },
    {
     "data": {
      "image/png": "[encoded data removed]",
      "text/plain": [
       "<Figure size 432x288 with 1 Axes>"
      ]
     },
     "metadata": {
      "needs_background": "light"
     },
     "output_type": "display_data"
    },
    {
     "name": "stdout",
     "output_type": "stream",
     "text": [
      "Missing value count \n",
      "\n",
      ": 결측치가 없습니다.\n"
     ]
    }
   ],
   "source": [
    "digits = sklearn_dataset(load_digits, seed=42)\n",
    "digits.make_x_y()\n",
    "digits.eda()"
   ]
  },
  {
   "cell_type": "code",
   "execution_count": 4,
   "id": "5eb86594",
   "metadata": {
    "ExecuteTime": {
     "end_time": "2021-10-05T13:43:10.213410Z",
     "start_time": "2021-10-05T13:43:10.211970Z"
    }
   },
   "outputs": [],
   "source": [
    "digits.df"
   ]
  },
  {
   "cell_type": "code",
   "execution_count": 5,
   "id": "9147fac2",
   "metadata": {
    "ExecuteTime": {
     "end_time": "2021-10-05T13:43:10.216640Z",
     "start_time": "2021-10-05T13:43:10.214236Z"
    },
    "scrolled": false
   },
   "outputs": [],
   "source": [
    "digits.correlation()"
   ]
  },
  {
   "cell_type": "markdown",
   "id": "87a62fb9",
   "metadata": {},
   "source": [
    "\n",
    "<img src=https://i.ibb.co/yVfBjrn/3.png></img>"
   ]
  },
  {
   "cell_type": "markdown",
   "id": "70bb4667",
   "metadata": {},
   "source": [
    "digits 컬럼 pixel_0_0, pixel_4_0, pixel_4_7 은 모든 값이 0이라 상관계수가 NaN으로 나오는 것을 확인할 수 있다.  \n",
    "모든 값이 같기 때문에 삭제해준다."
   ]
  },
  {
   "cell_type": "code",
   "execution_count": 6,
   "id": "f8282a86",
   "metadata": {
    "ExecuteTime": {
     "end_time": "2021-10-05T13:43:10.220657Z",
     "start_time": "2021-10-05T13:43:10.217427Z"
    }
   },
   "outputs": [],
   "source": [
    "del digits.df['pixel_0_0']\n",
    "del digits.df['pixel_4_0']\n",
    "del digits.df['pixel_4_7']"
   ]
  },
  {
   "cell_type": "code",
   "execution_count": 7,
   "id": "6158d557",
   "metadata": {
    "ExecuteTime": {
     "end_time": "2021-10-05T13:43:10.223668Z",
     "start_time": "2021-10-05T13:43:10.222022Z"
    }
   },
   "outputs": [],
   "source": [
    "digits.boxplot(save=False)"
   ]
  },
  {
   "cell_type": "markdown",
   "id": "4960d0b1",
   "metadata": {},
   "source": [
    "<img src=https://i.ibb.co/4PTNHPm/merge.png></img>"
   ]
  },
  {
   "cell_type": "markdown",
   "id": "67d285fe",
   "metadata": {},
   "source": [
    "각 픽셀을 피쳐로 보고, eda를 진행하다 보니 특징을 발견하기 힘들다.  \n",
    "상관계수를 통해 전처리한 변수들만 모델에 이용해보자."
   ]
  },
  {
   "cell_type": "code",
   "execution_count": 8,
   "id": "601169d4",
   "metadata": {
    "ExecuteTime": {
     "end_time": "2021-10-05T13:43:10.714397Z",
     "start_time": "2021-10-05T13:43:10.224771Z"
    },
    "code_folding": []
   },
   "outputs": [
    {
     "name": "stdout",
     "output_type": "stream",
     "text": [
      "DecisionTreeClassifier Report \n",
      "\n",
      "              precision    recall  f1-score   support\n",
      "\n",
      "           0       0.97      0.88      0.92        33\n",
      "           1       0.96      0.79      0.86        28\n",
      "           2       0.87      0.79      0.83        33\n",
      "           3       0.75      0.88      0.81        34\n",
      "           4       0.77      0.93      0.84        46\n",
      "           5       0.95      0.89      0.92        47\n",
      "           6       0.89      0.91      0.90        35\n",
      "           7       0.88      0.85      0.87        34\n",
      "           8       0.85      0.73      0.79        30\n",
      "           9       0.83      0.88      0.85        40\n",
      "\n",
      "    accuracy                           0.86       360\n",
      "   macro avg       0.87      0.85      0.86       360\n",
      "weighted avg       0.87      0.86      0.86       360\n",
      "\n",
      "===================================================== \n",
      "\n",
      "RandomForestClassifier Report \n",
      "\n",
      "              precision    recall  f1-score   support\n",
      "\n",
      "           0       1.00      0.97      0.98        33\n",
      "           1       0.93      1.00      0.97        28\n",
      "           2       1.00      1.00      1.00        33\n",
      "           3       1.00      0.97      0.99        34\n",
      "           4       0.98      1.00      0.99        46\n",
      "           5       0.94      0.98      0.96        47\n",
      "           6       0.97      0.97      0.97        35\n",
      "           7       0.94      0.97      0.96        34\n",
      "           8       1.00      0.93      0.97        30\n",
      "           9       0.97      0.93      0.95        40\n",
      "\n",
      "    accuracy                           0.97       360\n",
      "   macro avg       0.97      0.97      0.97       360\n",
      "weighted avg       0.97      0.97      0.97       360\n",
      "\n",
      "===================================================== \n",
      "\n",
      "SVC Report \n",
      "\n",
      "              precision    recall  f1-score   support\n",
      "\n",
      "           0       1.00      1.00      1.00        33\n",
      "           1       1.00      1.00      1.00        28\n",
      "           2       1.00      1.00      1.00        33\n",
      "           3       1.00      1.00      1.00        34\n",
      "           4       1.00      1.00      1.00        46\n",
      "           5       0.98      0.98      0.98        47\n",
      "           6       0.97      1.00      0.99        35\n",
      "           7       0.97      0.97      0.97        34\n",
      "           8       1.00      0.97      0.98        30\n",
      "           9       0.95      0.95      0.95        40\n",
      "\n",
      "    accuracy                           0.99       360\n",
      "   macro avg       0.99      0.99      0.99       360\n",
      "weighted avg       0.99      0.99      0.99       360\n",
      "\n",
      "===================================================== \n",
      "\n",
      "SGDClassifier Report \n",
      "\n",
      "              precision    recall  f1-score   support\n",
      "\n",
      "           0       1.00      0.97      0.98        33\n",
      "           1       0.93      0.96      0.95        28\n",
      "           2       0.97      1.00      0.99        33\n",
      "           3       1.00      0.97      0.99        34\n",
      "           4       1.00      1.00      1.00        46\n",
      "           5       0.93      0.91      0.92        47\n",
      "           6       0.94      0.97      0.96        35\n",
      "           7       0.97      0.97      0.97        34\n",
      "           8       0.90      0.87      0.88        30\n",
      "           9       0.90      0.93      0.91        40\n",
      "\n",
      "    accuracy                           0.96       360\n",
      "   macro avg       0.96      0.96      0.96       360\n",
      "weighted avg       0.96      0.96      0.96       360\n",
      "\n",
      "===================================================== \n",
      "\n",
      "LogisticRegression Report \n",
      "\n",
      "              precision    recall  f1-score   support\n",
      "\n",
      "           0       1.00      1.00      1.00        33\n",
      "           1       0.93      0.96      0.95        28\n",
      "           2       0.97      1.00      0.99        33\n",
      "           3       1.00      0.97      0.99        34\n",
      "           4       1.00      0.96      0.98        46\n",
      "           5       0.94      0.96      0.95        47\n",
      "           6       0.94      0.97      0.96        35\n",
      "           7       1.00      0.97      0.99        34\n",
      "           8       0.85      0.93      0.89        30\n",
      "           9       0.97      0.90      0.94        40\n",
      "\n",
      "    accuracy                           0.96       360\n",
      "   macro avg       0.96      0.96      0.96       360\n",
      "weighted avg       0.96      0.96      0.96       360\n",
      "\n",
      "===================================================== \n",
      "\n"
     ]
    }
   ],
   "source": [
    "digits.split()\n",
    "for model in [DecisionTreeClassifier, RandomForestClassifier, SVC, SGDClassifier, LogisticRegression]:\n",
    "    digits.select_model(model)\n",
    "    digits.train()\n",
    "    digits.test()\n",
    "    digits.make_report()"
   ]
  },
  {
   "cell_type": "code",
   "execution_count": 9,
   "id": "79442846",
   "metadata": {
    "ExecuteTime": {
     "end_time": "2021-10-05T13:43:10.717552Z",
     "start_time": "2021-10-05T13:43:10.715284Z"
    }
   },
   "outputs": [
    {
     "name": "stdout",
     "output_type": "stream",
     "text": [
      "acc 기준, 최고의 모델과 metric 값은 다음과 같습니다. \n",
      "\n",
      "Best model:  SVC\n",
      "Score:  0.9861111111111112\n"
     ]
    }
   ],
   "source": [
    "digits.best_model('acc')"
   ]
  },
  {
   "cell_type": "markdown",
   "id": "691b2986",
   "metadata": {},
   "source": [
    "숫자 분류 모델의 경우, 정확도가 가장 중요합니다. 스팸메일이나 암분류와는 달리 맞고 틀리고가 명확하기 때문입니다.  \n",
    "SVC 모델이 가장 높은 f-1 score 0.986를 달성함."
   ]
  },
  {
   "cell_type": "markdown",
   "id": "200551a4",
   "metadata": {},
   "source": [
    "## Wine"
   ]
  },
  {
   "cell_type": "code",
   "execution_count": 10,
   "id": "98bfebc2",
   "metadata": {
    "ExecuteTime": {
     "end_time": "2021-10-05T13:43:10.818801Z",
     "start_time": "2021-10-05T13:43:10.718555Z"
    },
    "scrolled": false
   },
   "outputs": [
    {
     "name": "stdout",
     "output_type": "stream",
     "text": [
      "target 분포\n"
     ]
    },
    {
     "data": {
      "image/png": "[encoded data removed]",
      "text/plain": [
       "<Figure size 432x288 with 1 Axes>"
      ]
     },
     "metadata": {
      "needs_background": "light"
     },
     "output_type": "display_data"
    },
    {
     "name": "stdout",
     "output_type": "stream",
     "text": [
      "Missing value count \n",
      "\n",
      ": 결측치가 없습니다.\n"
     ]
    }
   ],
   "source": [
    "wine = sklearn_dataset(load_wine, seed=42)\n",
    "wine.make_x_y()\n",
    "wine.eda()"
   ]
  },
  {
   "cell_type": "code",
   "execution_count": 11,
   "id": "cc6b89d6",
   "metadata": {
    "ExecuteTime": {
     "end_time": "2021-10-05T13:43:10.821816Z",
     "start_time": "2021-10-05T13:43:10.819695Z"
    }
   },
   "outputs": [
    {
     "name": "stdout",
     "output_type": "stream",
     "text": [
      ".. _wine_dataset:\n",
      "\n",
      "Wine recognition dataset\n",
      "------------------------\n",
      "\n",
      "**Data Set Characteristics:**\n",
      "\n",
      "    :Number of Instances: 178 (50 in each of three classes)\n",
      "    :Number of Attributes: 13 numeric, predictive attributes and the class\n",
      "    :Attribute Information:\n",
      " \t\t- Alcohol\n",
      " \t\t- Malic acid\n",
      " \t\t- Ash\n",
      "\t\t- Alcalinity of ash  \n",
      " \t\t- Magnesium\n",
      "\t\t- Total phenols\n",
      " \t\t- Flavanoids\n",
      " \t\t- Nonflavanoid phenols\n",
      " \t\t- Proanthocyanins\n",
      "\t\t- Color intensity\n",
      " \t\t- Hue\n",
      " \t\t- OD280/OD315 of diluted wines\n",
      " \t\t- Proline\n",
      "\n",
      "    - class:\n",
      "            - class_0\n",
      "            - class_1\n",
      "            - class_2\n",
      "\t\t\n",
      "    :Summary Statistics:\n",
      "    \n",
      "    ============================= ==== ===== ======= =====\n",
      "                                   Min   Max   Mean     SD\n",
      "    ============================= ==== ===== ======= =====\n",
      "    Alcohol:                      11.0  14.8    13.0   0.8\n",
      "    Malic Acid:                   0.74  5.80    2.34  1.12\n",
      "    Ash:                          1.36  3.23    2.36  0.27\n",
      "    Alcalinity of Ash:            10.6  30.0    19.5   3.3\n",
      "    Magnesium:                    70.0 162.0    99.7  14.3\n",
      "    Total Phenols:                0.98  3.88    2.29  0.63\n",
      "    Flavanoids:                   0.34  5.08    2.03  1.00\n",
      "    Nonflavanoid Phenols:         0.13  0.66    0.36  0.12\n",
      "    Proanthocyanins:              0.41  3.58    1.59  0.57\n",
      "    Colour Intensity:              1.3  13.0     5.1   2.3\n",
      "    Hue:                          0.48  1.71    0.96  0.23\n",
      "    OD280/OD315 of diluted wines: 1.27  4.00    2.61  0.71\n",
      "    Proline:                       278  1680     746   315\n",
      "    ============================= ==== ===== ======= =====\n",
      "\n",
      "    :Missing Attribute Values: None\n",
      "    :Class Distribution: class_0 (59), class_1 (71), class_2 (48)\n",
      "    :Creator: R.A. Fisher\n",
      "    :Donor: Michael Marshall (MARSHALL%PLU@io.arc.nasa.gov)\n",
      "    :Date: July, 1988\n",
      "\n",
      "This is a copy of UCI ML Wine recognition datasets.\n",
      "https://archive.ics.uci.edu/ml/machine-learning-databases/wine/wine.data\n",
      "\n",
      "The data is the results of a chemical analysis of wines grown in the same\n",
      "region in Italy by three different cultivators. There are thirteen different\n",
      "measurements taken for different constituents found in the three types of\n",
      "wine.\n",
      "\n",
      "Original Owners: \n",
      "\n",
      "Forina, M. et al, PARVUS - \n",
      "An Extendible Package for Data Exploration, Classification and Correlation. \n",
      "Institute of Pharmaceutical and Food Analysis and Technologies,\n",
      "Via Brigata Salerno, 16147 Genoa, Italy.\n",
      "\n",
      "Citation:\n",
      "\n",
      "Lichman, M. (2013). UCI Machine Learning Repository\n",
      "[https://archive.ics.uci.edu/ml]. Irvine, CA: University of California,\n",
      "School of Information and Computer Science. \n",
      "\n",
      ".. topic:: References\n",
      "\n",
      "  (1) S. Aeberhard, D. Coomans and O. de Vel, \n",
      "  Comparison of Classifiers in High Dimensional Settings, \n",
      "  Tech. Rep. no. 92-02, (1992), Dept. of Computer Science and Dept. of  \n",
      "  Mathematics and Statistics, James Cook University of North Queensland. \n",
      "  (Also submitted to Technometrics). \n",
      "\n",
      "  The data was used with many others for comparing various \n",
      "  classifiers. The classes are separable, though only RDA \n",
      "  has achieved 100% correct classification. \n",
      "  (RDA : 100%, QDA 99.4%, LDA 98.9%, 1NN 96.1% (z-transformed data)) \n",
      "  (All results using the leave-one-out technique) \n",
      "\n",
      "  (2) S. Aeberhard, D. Coomans and O. de Vel, \n",
      "  \"THE CLASSIFICATION PERFORMANCE OF RDA\" \n",
      "  Tech. Rep. no. 92-01, (1992), Dept. of Computer Science and Dept. of \n",
      "  Mathematics and Statistics, James Cook University of North Queensland. \n",
      "  (Also submitted to Journal of Chemometrics).\n",
      "\n"
     ]
    }
   ],
   "source": [
    "print(wine.describe)"
   ]
  },
  {
   "cell_type": "code",
   "execution_count": 12,
   "id": "24ba2c8e",
   "metadata": {
    "ExecuteTime": {
     "end_time": "2021-10-05T13:43:10.824337Z",
     "start_time": "2021-10-05T13:43:10.822576Z"
    }
   },
   "outputs": [],
   "source": [
    "wine.df.head()"
   ]
  },
  {
   "cell_type": "code",
   "execution_count": 13,
   "id": "b3156c2a",
   "metadata": {
    "ExecuteTime": {
     "end_time": "2021-10-05T13:43:10.826988Z",
     "start_time": "2021-10-05T13:43:10.825066Z"
    }
   },
   "outputs": [],
   "source": [
    "wine.correlation(annot=True)"
   ]
  },
  {
   "cell_type": "markdown",
   "id": "5d77fd85",
   "metadata": {},
   "source": [
    "<img src=https://i.ibb.co/hFwHSrH/image.png></img>"
   ]
  },
  {
   "cell_type": "code",
   "execution_count": 14,
   "id": "98435bef",
   "metadata": {
    "ExecuteTime": {
     "end_time": "2021-10-05T13:43:10.829332Z",
     "start_time": "2021-10-05T13:43:10.827805Z"
    },
    "scrolled": true
   },
   "outputs": [],
   "source": [
    "wine.scatter_plot()"
   ]
  },
  {
   "cell_type": "markdown",
   "id": "18d89362",
   "metadata": {},
   "source": [
    "<img src=https://i.ibb.co/JKmsGFR/1.png></img>"
   ]
  },
  {
   "cell_type": "code",
   "execution_count": 15,
   "id": "4286553b",
   "metadata": {
    "ExecuteTime": {
     "end_time": "2021-10-05T13:43:10.832190Z",
     "start_time": "2021-10-05T13:43:10.830144Z"
    },
    "scrolled": true
   },
   "outputs": [],
   "source": [
    "wine.boxplot(save=False)"
   ]
  },
  {
   "cell_type": "markdown",
   "id": "8d38f816",
   "metadata": {},
   "source": [
    "<img src=https://i.ibb.co/yy1m4M0/merge-from-ofoct-1.jpg></img>"
   ]
  },
  {
   "cell_type": "markdown",
   "id": "0499f146",
   "metadata": {},
   "source": [
    "상관계수가 높은 경우도 존재하지 않고,  \n",
    "데이터의 분포가 왜도가 높은 경우도 없기 때문에 전처리 없이 그대로 모델에 활용할 것입니다."
   ]
  },
  {
   "cell_type": "code",
   "execution_count": 16,
   "id": "1032f263",
   "metadata": {
    "ExecuteTime": {
     "end_time": "2021-10-05T13:43:10.955426Z",
     "start_time": "2021-10-05T13:43:10.833508Z"
    }
   },
   "outputs": [
    {
     "name": "stdout",
     "output_type": "stream",
     "text": [
      "DecisionTreeClassifier Report \n",
      "\n",
      "              precision    recall  f1-score   support\n",
      "\n",
      "           0       0.93      0.93      0.93        14\n",
      "           1       0.93      1.00      0.97        14\n",
      "           2       1.00      0.88      0.93         8\n",
      "\n",
      "    accuracy                           0.94        36\n",
      "   macro avg       0.95      0.93      0.94        36\n",
      "weighted avg       0.95      0.94      0.94        36\n",
      "\n",
      "===================================================== \n",
      "\n",
      "RandomForestClassifier Report \n",
      "\n",
      "              precision    recall  f1-score   support\n",
      "\n",
      "           0       1.00      1.00      1.00        14\n",
      "           1       1.00      1.00      1.00        14\n",
      "           2       1.00      1.00      1.00         8\n",
      "\n",
      "    accuracy                           1.00        36\n",
      "   macro avg       1.00      1.00      1.00        36\n",
      "weighted avg       1.00      1.00      1.00        36\n",
      "\n",
      "===================================================== \n",
      "\n",
      "SVC Report \n",
      "\n",
      "              precision    recall  f1-score   support\n",
      "\n",
      "           0       1.00      1.00      1.00        14\n",
      "           1       0.73      0.79      0.76        14\n",
      "           2       0.57      0.50      0.53         8\n",
      "\n",
      "    accuracy                           0.81        36\n",
      "   macro avg       0.77      0.76      0.76        36\n",
      "weighted avg       0.80      0.81      0.80        36\n",
      "\n",
      "===================================================== \n",
      "\n",
      "SGDClassifier Report \n",
      "\n",
      "              precision    recall  f1-score   support\n",
      "\n",
      "           0       0.81      0.93      0.87        14\n",
      "           1       0.65      0.93      0.76        14\n",
      "           2       0.00      0.00      0.00         8\n",
      "\n",
      "    accuracy                           0.72        36\n",
      "   macro avg       0.49      0.62      0.54        36\n",
      "weighted avg       0.57      0.72      0.63        36\n",
      "\n",
      "===================================================== \n",
      "\n",
      "LogisticRegression Report \n",
      "\n",
      "              precision    recall  f1-score   support\n",
      "\n",
      "           0       1.00      0.93      0.96        14\n",
      "           1       0.93      1.00      0.97        14\n",
      "           2       1.00      1.00      1.00         8\n",
      "\n",
      "    accuracy                           0.97        36\n",
      "   macro avg       0.98      0.98      0.98        36\n",
      "weighted avg       0.97      0.97      0.97        36\n",
      "\n",
      "===================================================== \n",
      "\n"
     ]
    }
   ],
   "source": [
    "wine.split()\n",
    "for model in [DecisionTreeClassifier, RandomForestClassifier, SVC, SGDClassifier, LogisticRegression]:\n",
    "    wine.select_model(model)\n",
    "    wine.train()\n",
    "    wine.test()\n",
    "    wine.make_report()"
   ]
  },
  {
   "cell_type": "code",
   "execution_count": 17,
   "id": "ccedd783",
   "metadata": {
    "ExecuteTime": {
     "end_time": "2021-10-05T13:43:10.958570Z",
     "start_time": "2021-10-05T13:43:10.956400Z"
    },
    "scrolled": true
   },
   "outputs": [
    {
     "name": "stdout",
     "output_type": "stream",
     "text": [
      "acc 기준, 최고의 모델과 metric 값은 다음과 같습니다. \n",
      "\n",
      "Best model:  RandomForestClassifier\n",
      "Score:  1.0\n"
     ]
    }
   ],
   "source": [
    "wine.best_model('acc')"
   ]
  },
  {
   "cell_type": "markdown",
   "id": "4a42fe79",
   "metadata": {
    "ExecuteTime": {
     "end_time": "2021-10-04T07:32:18.981347Z",
     "start_time": "2021-10-04T07:32:18.978637Z"
    }
   },
   "source": [
    "와인 분류 모델의 경우, 정확도가 가장 중요합니다.  \n",
    "위의 숫자분류와 같이 맞고 틀리고가 명확하기 때문입니다.  \n",
    "RandomForestClassifier 모델이 가장 높은 acc score 100%를 달성했습니다. \n",
    "  \n",
    "다만, 누군가에게 와인을 추천해주는 상황의 경우  \n",
    "자신이 추천해준 와인이 실제와 같은 것이 중요하기에 precison이 중요하다고도 볼 수 있습니다.  \n",
    "precision 기준으로도 모델을 보면, 아래와 같습니다."
   ]
  },
  {
   "cell_type": "code",
   "execution_count": 18,
   "id": "49f9fbc4",
   "metadata": {
    "ExecuteTime": {
     "end_time": "2021-10-05T13:43:10.961573Z",
     "start_time": "2021-10-05T13:43:10.959436Z"
    }
   },
   "outputs": [
    {
     "name": "stdout",
     "output_type": "stream",
     "text": [
      "precision 기준, 최고의 모델과 metric 값은 다음과 같습니다. \n",
      "\n",
      "Best model:  RandomForestClassifier\n",
      "Score:  1.0\n"
     ]
    }
   ],
   "source": [
    "wine.best_model('precision')"
   ]
  },
  {
   "cell_type": "markdown",
   "id": "19c2a083",
   "metadata": {},
   "source": [
    "## Breast Cancer"
   ]
  },
  {
   "cell_type": "code",
   "execution_count": 19,
   "id": "e17e7b7b",
   "metadata": {
    "ExecuteTime": {
     "end_time": "2021-10-05T13:43:11.052270Z",
     "start_time": "2021-10-05T13:43:10.962342Z"
    },
    "scrolled": false
   },
   "outputs": [
    {
     "name": "stdout",
     "output_type": "stream",
     "text": [
      "target 분포\n"
     ]
    },
    {
     "data": {
      "image/png": "[encoded data removed]",
      "text/plain": [
       "<Figure size 432x288 with 1 Axes>"
      ]
     },
     "metadata": {
      "needs_background": "light"
     },
     "output_type": "display_data"
    },
    {
     "name": "stdout",
     "output_type": "stream",
     "text": [
      "Missing value count \n",
      "\n",
      ": 결측치가 없습니다.\n"
     ]
    }
   ],
   "source": [
    "breast_cancer = sklearn_dataset(load_breast_cancer, seed=42)\n",
    "breast_cancer.make_x_y()\n",
    "breast_cancer.eda()"
   ]
  },
  {
   "cell_type": "code",
   "execution_count": 20,
   "id": "b61e52e3",
   "metadata": {
    "ExecuteTime": {
     "end_time": "2021-10-05T13:43:11.054526Z",
     "start_time": "2021-10-05T13:43:11.053107Z"
    }
   },
   "outputs": [],
   "source": [
    "breast_cancer.df.head()"
   ]
  },
  {
   "cell_type": "code",
   "execution_count": 21,
   "id": "0657d5eb",
   "metadata": {
    "ExecuteTime": {
     "end_time": "2021-10-05T13:43:11.058778Z",
     "start_time": "2021-10-05T13:43:11.055325Z"
    },
    "scrolled": true
   },
   "outputs": [],
   "source": [
    "breast_cancer.correlation(annot=True)"
   ]
  },
  {
   "cell_type": "markdown",
   "id": "149dcc76",
   "metadata": {},
   "source": [
    "<img src=https://i.ibb.co/tmXFjC5/4.png></img>"
   ]
  },
  {
   "cell_type": "markdown",
   "id": "57c6aab1",
   "metadata": {},
   "source": [
    "상관관계가 너무 높은 컬럼들이 존재.  \n",
    "radius(반지름), perimeter(둘레), area(면적)은 r, 2 x pi x r, pi x r^2 의 관계이다.  \n",
    "반지름과 둘레는 완벽한 상관관계이므로 삭제하자."
   ]
  },
  {
   "cell_type": "code",
   "execution_count": 22,
   "id": "bc349654",
   "metadata": {
    "ExecuteTime": {
     "end_time": "2021-10-05T13:43:11.063510Z",
     "start_time": "2021-10-05T13:43:11.060402Z"
    }
   },
   "outputs": [],
   "source": [
    "del breast_cancer.df['mean perimeter']\n",
    "del breast_cancer.df['worst perimeter']"
   ]
  },
  {
   "cell_type": "code",
   "execution_count": 23,
   "id": "d4bcaf5f",
   "metadata": {
    "ExecuteTime": {
     "end_time": "2021-10-05T13:43:11.068848Z",
     "start_time": "2021-10-05T13:43:11.064549Z"
    }
   },
   "outputs": [
    {
     "name": "stdout",
     "output_type": "stream",
     "text": [
      "scatter plot\n",
      "컬럼의 개수가 너무 많습니다. seaborn 라이브러리를 직접 사용하셔야 합니다.\n"
     ]
    }
   ],
   "source": [
    "breast_cancer.scatter_plot()"
   ]
  },
  {
   "cell_type": "code",
   "execution_count": 24,
   "id": "8000c3dc",
   "metadata": {
    "ExecuteTime": {
     "end_time": "2021-10-05T13:43:11.071230Z",
     "start_time": "2021-10-05T13:43:11.069823Z"
    }
   },
   "outputs": [],
   "source": [
    "df = pd.concat([breast_cancer.df.iloc[:, :10], breast_cancer.df.iloc[:, -1]], axis=1)\n",
    "g = sns.PairGrid(df, hue='target')\n",
    "g.map_diag(sns.kdeplot)\n",
    "g.map(sns.scatterplot)\n",
    "plt.show()"
   ]
  },
  {
   "cell_type": "markdown",
   "id": "05cb41cf",
   "metadata": {},
   "source": [
    "<img src=https://i.ibb.co/8McSf0S/2.png></img>"
   ]
  },
  {
   "cell_type": "code",
   "execution_count": 25,
   "id": "8e1ecfca",
   "metadata": {
    "ExecuteTime": {
     "end_time": "2021-10-05T13:43:11.073971Z",
     "start_time": "2021-10-05T13:43:11.071966Z"
    },
    "scrolled": true
   },
   "outputs": [],
   "source": [
    "breast_cancer.boxplot(save=True)"
   ]
  },
  {
   "cell_type": "markdown",
   "id": "7cdb269f",
   "metadata": {},
   "source": [
    "<img src=https://i.ibb.co/bBM3DQ8/merge-from-ofoct-2.jpg></img>"
   ]
  },
  {
   "cell_type": "markdown",
   "id": "8c1e38cc",
   "metadata": {},
   "source": [
    "데이터의 왜도가 높다. Robust scaling을 적용하자."
   ]
  },
  {
   "cell_type": "code",
   "execution_count": 26,
   "id": "7657b0cd",
   "metadata": {
    "ExecuteTime": {
     "end_time": "2021-10-05T13:43:11.085907Z",
     "start_time": "2021-10-05T13:43:11.074823Z"
    }
   },
   "outputs": [],
   "source": [
    "import pandas as pd\n",
    "from sklearn import preprocessing\n",
    "\n",
    "x = breast_cancer.df.iloc[:, :-1].values\n",
    "ss = preprocessing.RobustScaler()\n",
    "x_scaled = ss.fit_transform(x)\n",
    "breast_cancer.df.iloc[:, :-1] = x_scaled"
   ]
  },
  {
   "cell_type": "code",
   "execution_count": 27,
   "id": "fe4c50c0",
   "metadata": {
    "ExecuteTime": {
     "end_time": "2021-10-05T13:43:11.263537Z",
     "start_time": "2021-10-05T13:43:11.086809Z"
    }
   },
   "outputs": [
    {
     "name": "stdout",
     "output_type": "stream",
     "text": [
      "DecisionTreeClassifier Report \n",
      "\n",
      "              precision    recall  f1-score   support\n",
      "\n",
      "           0       0.93      0.91      0.92        43\n",
      "           1       0.94      0.96      0.95        71\n",
      "\n",
      "    accuracy                           0.94       114\n",
      "   macro avg       0.94      0.93      0.93       114\n",
      "weighted avg       0.94      0.94      0.94       114\n",
      "\n",
      "===================================================== \n",
      "\n",
      "RandomForestClassifier Report \n",
      "\n",
      "              precision    recall  f1-score   support\n",
      "\n",
      "           0       0.98      0.93      0.95        43\n",
      "           1       0.96      0.99      0.97        71\n",
      "\n",
      "    accuracy                           0.96       114\n",
      "   macro avg       0.97      0.96      0.96       114\n",
      "weighted avg       0.97      0.96      0.96       114\n",
      "\n",
      "===================================================== \n",
      "\n",
      "SVC Report \n",
      "\n",
      "              precision    recall  f1-score   support\n",
      "\n",
      "           0       0.95      0.93      0.94        43\n",
      "           1       0.96      0.97      0.97        71\n",
      "\n",
      "    accuracy                           0.96       114\n",
      "   macro avg       0.96      0.95      0.95       114\n",
      "weighted avg       0.96      0.96      0.96       114\n",
      "\n",
      "===================================================== \n",
      "\n",
      "SGDClassifier Report \n",
      "\n",
      "              precision    recall  f1-score   support\n",
      "\n",
      "           0       0.98      0.93      0.95        43\n",
      "           1       0.96      0.99      0.97        71\n",
      "\n",
      "    accuracy                           0.96       114\n",
      "   macro avg       0.97      0.96      0.96       114\n",
      "weighted avg       0.97      0.96      0.96       114\n",
      "\n",
      "===================================================== \n",
      "\n",
      "LogisticRegression Report \n",
      "\n",
      "              precision    recall  f1-score   support\n",
      "\n",
      "           0       1.00      0.98      0.99        43\n",
      "           1       0.99      1.00      0.99        71\n",
      "\n",
      "    accuracy                           0.99       114\n",
      "   macro avg       0.99      0.99      0.99       114\n",
      "weighted avg       0.99      0.99      0.99       114\n",
      "\n",
      "===================================================== \n",
      "\n"
     ]
    }
   ],
   "source": [
    "breast_cancer.split()\n",
    "for model in [DecisionTreeClassifier, RandomForestClassifier, SVC, SGDClassifier, LogisticRegression]:\n",
    "    breast_cancer.select_model(model)\n",
    "    breast_cancer.train()\n",
    "    breast_cancer.test()\n",
    "    breast_cancer.make_report()"
   ]
  },
  {
   "cell_type": "code",
   "execution_count": 28,
   "id": "e7370623",
   "metadata": {
    "ExecuteTime": {
     "end_time": "2021-10-05T13:43:11.267819Z",
     "start_time": "2021-10-05T13:43:11.264820Z"
    },
    "scrolled": true
   },
   "outputs": [
    {
     "name": "stdout",
     "output_type": "stream",
     "text": [
      "recall 기준, 최고의 모델과 metric 값은 다음과 같습니다. \n",
      "\n",
      "Best model:  LogisticRegression\n",
      "Score:  0.9883720930232558\n"
     ]
    }
   ],
   "source": [
    "breast_cancer.best_model('recall')"
   ]
  },
  {
   "cell_type": "markdown",
   "id": "71766620",
   "metadata": {},
   "source": [
    "암 예측의 경우, 재현율이 중요하다. 실제 암 중에서 암으로 예측한 비율을 높여야 한다.  \n",
    "재현율 기준, Logistic Regression이 0.988 의 score로 가장 높음을 확인할 수 있다."
   ]
  },
  {
   "cell_type": "code",
   "execution_count": null,
   "id": "6299c807",
   "metadata": {},
   "outputs": [],
   "source": []
  }
 ],
 "metadata": {
  "kernelspec": {
   "display_name": "Python 3",
   "language": "python",
   "name": "python3"
  },
  "language_info": {
   "codemirror_mode": {
    "name": "ipython",
    "version": 3
   },
   "file_extension": ".py",
   "mimetype": "text/x-python",
   "name": "python",
   "nbconvert_exporter": "python",
   "pygments_lexer": "ipython3",
   "version": "3.6.9"
  },
  "toc": {
   "base_numbering": 1,
   "nav_menu": {},
   "number_sections": false,
   "sideBar": true,
   "skip_h1_title": false,
   "title_cell": "Table of Contents",
   "title_sidebar": "Contents",
   "toc_cell": true,
   "toc_position": {
    "height": "calc(100% - 180px)",
    "left": "10px",
    "top": "150px",
    "width": "571.674px"
   },
   "toc_section_display": true,
   "toc_window_display": true
  }
 },
 "nbformat": 4,
 "nbformat_minor": 5
}
