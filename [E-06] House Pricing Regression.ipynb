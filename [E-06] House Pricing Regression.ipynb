{
 "cells": [
  {
   "cell_type": "markdown",
   "id": "8044c0a6",
   "metadata": {
    "toc": true
   },
   "source": [
    "<h1>목차<span class=\"tocSkip\"></span></h1>\n",
    "<div class=\"toc\"><ul class=\"toc-item\"><li><span><a href=\"#라이브러리-로드\" data-toc-modified-id=\"라이브러리-로드-1\"><span class=\"toc-item-num\">1&nbsp;&nbsp;</span>라이브러리 로드</a></span></li><li><span><a href=\"#데이터-불러오기\" data-toc-modified-id=\"데이터-불러오기-2\"><span class=\"toc-item-num\">2&nbsp;&nbsp;</span>데이터 불러오기</a></span><ul class=\"toc-item\"><li><span><a href=\"#결측치-확인\" data-toc-modified-id=\"결측치-확인-2.1\"><span class=\"toc-item-num\">2.1&nbsp;&nbsp;</span>결측치 확인</a></span></li><li><span><a href=\"#컬럼별-type-확인\" data-toc-modified-id=\"컬럼별-type-확인-2.2\"><span class=\"toc-item-num\">2.2&nbsp;&nbsp;</span>컬럼별 type 확인</a></span></li><li><span><a href=\"#기초-통계량-확인\" data-toc-modified-id=\"기초-통계량-확인-2.3\"><span class=\"toc-item-num\">2.3&nbsp;&nbsp;</span>기초 통계량 확인</a></span></li></ul></li><li><span><a href=\"#베이스라인-모델-제작-및-결과-확인\" data-toc-modified-id=\"베이스라인-모델-제작-및-결과-확인-3\"><span class=\"toc-item-num\">3&nbsp;&nbsp;</span>베이스라인 모델 제작 및 결과 확인</a></span></li><li><span><a href=\"#명목형-컬럼-분석\" data-toc-modified-id=\"명목형-컬럼-분석-4\"><span class=\"toc-item-num\">4&nbsp;&nbsp;</span>명목형 컬럼 분석</a></span><ul class=\"toc-item\"><li><span><a href=\"#1.-ID-:-집을-구분하는-번호\" data-toc-modified-id=\"1.-ID-:-집을-구분하는-번호-4.1\"><span class=\"toc-item-num\">4.1&nbsp;&nbsp;</span>1. ID : 집을 구분하는 번호</a></span></li><li><span><a href=\"#2.-date-:-집을-구매한-날짜\" data-toc-modified-id=\"2.-date-:-집을-구매한-날짜-4.2\"><span class=\"toc-item-num\">4.2&nbsp;&nbsp;</span>2. date : 집을 구매한 날짜</a></span></li><li><span><a href=\"#3.-price-:-집의-가격(Target-variable)\" data-toc-modified-id=\"3.-price-:-집의-가격(Target-variable)-4.3\"><span class=\"toc-item-num\">4.3&nbsp;&nbsp;</span>3. price : 집의 가격(Target variable)</a></span></li><li><span><a href=\"#4.-bedrooms-:-침실의-수\" data-toc-modified-id=\"4.-bedrooms-:-침실의-수-4.4\"><span class=\"toc-item-num\">4.4&nbsp;&nbsp;</span>4. bedrooms : 침실의 수</a></span></li><li><span><a href=\"#5.-bathrooms-:-화장실의-수\" data-toc-modified-id=\"5.-bathrooms-:-화장실의-수-4.5\"><span class=\"toc-item-num\">4.5&nbsp;&nbsp;</span>5. bathrooms : 화장실의 수</a></span></li><li><span><a href=\"#8.-floors-:-집의-층-수\" data-toc-modified-id=\"8.-floors-:-집의-층-수-4.6\"><span class=\"toc-item-num\">4.6&nbsp;&nbsp;</span>8. floors : 집의 층 수</a></span></li><li><span><a href=\"#9.-waterfront-:-집의-전방에-강이-흐르는지-유무-(a.k.a.-리버뷰)\" data-toc-modified-id=\"9.-waterfront-:-집의-전방에-강이-흐르는지-유무-(a.k.a.-리버뷰)-4.7\"><span class=\"toc-item-num\">4.7&nbsp;&nbsp;</span>9. waterfront : 집의 전방에 강이 흐르는지 유무 (a.k.a. 리버뷰)</a></span></li><li><span><a href=\"#10.-view-:-집이-얼마나-좋아-보이는지의-정도\" data-toc-modified-id=\"10.-view-:-집이-얼마나-좋아-보이는지의-정도-4.8\"><span class=\"toc-item-num\">4.8&nbsp;&nbsp;</span>10. view : 집이 얼마나 좋아 보이는지의 정도</a></span></li><li><span><a href=\"#11.-condition-:-집의-전반적인-상태\" data-toc-modified-id=\"11.-condition-:-집의-전반적인-상태-4.9\"><span class=\"toc-item-num\">4.9&nbsp;&nbsp;</span>11. condition : 집의 전반적인 상태</a></span></li><li><span><a href=\"#12.-grade-:-King-County-grading-시스템-기준으로-매긴-집의-등급\" data-toc-modified-id=\"12.-grade-:-King-County-grading-시스템-기준으로-매긴-집의-등급-4.10\"><span class=\"toc-item-num\">4.10&nbsp;&nbsp;</span>12. grade : King County grading 시스템 기준으로 매긴 집의 등급</a></span></li><li><span><a href=\"#17.-zipcode-:-우편번호\" data-toc-modified-id=\"17.-zipcode-:-우편번호-4.11\"><span class=\"toc-item-num\">4.11&nbsp;&nbsp;</span>17. zipcode : 우편번호</a></span></li><li><span><a href=\"#15.-yr_built-:-지어진-년도\" data-toc-modified-id=\"15.-yr_built-:-지어진-년도-4.12\"><span class=\"toc-item-num\">4.12&nbsp;&nbsp;</span>15. yr_built : 지어진 년도</a></span></li><li><span><a href=\"#16.-yr_renovated-:-집을-재건축한-년도\" data-toc-modified-id=\"16.-yr_renovated-:-집을-재건축한-년도-4.13\"><span class=\"toc-item-num\">4.13&nbsp;&nbsp;</span>16. yr_renovated : 집을 재건축한 년도</a></span></li></ul></li><li><span><a href=\"#연속형-컬럼\" data-toc-modified-id=\"연속형-컬럼-5\"><span class=\"toc-item-num\">5&nbsp;&nbsp;</span>연속형 컬럼</a></span><ul class=\"toc-item\"><li><span><a href=\"#6.-sqft_living-:-주거-공간의-평방-피트(면적)\" data-toc-modified-id=\"6.-sqft_living-:-주거-공간의-평방-피트(면적)-5.1\"><span class=\"toc-item-num\">5.1&nbsp;&nbsp;</span>6. sqft_living : 주거 공간의 평방 피트(면적)</a></span></li><li><span><a href=\"#7.-sqft_lot-:-부지의-평방-피트(면적)\" data-toc-modified-id=\"7.-sqft_lot-:-부지의-평방-피트(면적)-5.2\"><span class=\"toc-item-num\">5.2&nbsp;&nbsp;</span>7. sqft_lot : 부지의 평방 피트(면적)</a></span></li><li><span><a href=\"#13.-sqft_above-:-지하실을-제외한-평방-피트(면적)\" data-toc-modified-id=\"13.-sqft_above-:-지하실을-제외한-평방-피트(면적)-5.3\"><span class=\"toc-item-num\">5.3&nbsp;&nbsp;</span>13. sqft_above : 지하실을 제외한 평방 피트(면적)</a></span></li><li><span><a href=\"#14.-sqft_basement-:-지하실의-평방-피트(면적)\" data-toc-modified-id=\"14.-sqft_basement-:-지하실의-평방-피트(면적)-5.4\"><span class=\"toc-item-num\">5.4&nbsp;&nbsp;</span>14. sqft_basement : 지하실의 평방 피트(면적)</a></span></li><li><span><a href=\"#18.-lat-:-위도\" data-toc-modified-id=\"18.-lat-:-위도-5.5\"><span class=\"toc-item-num\">5.5&nbsp;&nbsp;</span>18. lat : 위도</a></span></li><li><span><a href=\"#19.-long-:-경도\" data-toc-modified-id=\"19.-long-:-경도-5.6\"><span class=\"toc-item-num\">5.6&nbsp;&nbsp;</span>19. long : 경도</a></span></li><li><span><a href=\"#20.-sqft_living15\" data-toc-modified-id=\"20.-sqft_living15-5.7\"><span class=\"toc-item-num\">5.7&nbsp;&nbsp;</span>20. sqft_living15</a></span></li><li><span><a href=\"#21.-sqft_lot15\" data-toc-modified-id=\"21.-sqft_lot15-5.8\"><span class=\"toc-item-num\">5.8&nbsp;&nbsp;</span>21. sqft_lot15</a></span></li></ul></li><li><span><a href=\"#이상치-제거-후,-test-set-평가\" data-toc-modified-id=\"이상치-제거-후,-test-set-평가-6\"><span class=\"toc-item-num\">6&nbsp;&nbsp;</span>이상치 제거 후, test set 평가</a></span></li><li><span><a href=\"#Feature-Engineering\" data-toc-modified-id=\"Feature-Engineering-7\"><span class=\"toc-item-num\">7&nbsp;&nbsp;</span>Feature Engineering</a></span></li><li><span><a href=\"#Ensemble\" data-toc-modified-id=\"Ensemble-8\"><span class=\"toc-item-num\">8&nbsp;&nbsp;</span>Ensemble</a></span></li><li><span><a href=\"#정리\" data-toc-modified-id=\"정리-9\"><span class=\"toc-item-num\">9&nbsp;&nbsp;</span>정리</a></span></li></ul></div>"
   ]
  },
  {
   "cell_type": "markdown",
   "id": "honest-amazon",
   "metadata": {},
   "source": [
    "# 라이브러리 로드"
   ]
  },
  {
   "cell_type": "code",
   "execution_count": 1,
   "id": "impressive-england",
   "metadata": {
    "scrolled": true
   },
   "outputs": [],
   "source": [
    "!pip install scikit-learn==0.24\n",
    "!pip install kaggle\n",
    "!pip install catboost"
   ]
  },
  {
   "cell_type": "code",
   "execution_count": 2,
   "id": "german-theorem",
   "metadata": {},
   "outputs": [],
   "source": [
    "import warnings\n",
    "\n",
    "import lightgbm as lgbm\n",
    "import matplotlib.pyplot as plt\n",
    "import numpy as np\n",
    "import pandas as pd\n",
    "import seaborn as sns\n",
    "from sklearn.metrics import mean_squared_error\n",
    "from sklearn.model_selection import KFold, train_test_split\n",
    "import xgboost as xgb\n",
    "\n",
    "pd.options.display.max_columns = 30\n",
    "pd.options.display.max_rows = 100\n",
    "warnings.simplefilter(action='ignore', category=FutureWarning)"
   ]
  },
  {
   "cell_type": "code",
   "execution_count": 3,
   "id": "minor-wisdom",
   "metadata": {},
   "outputs": [],
   "source": [
    "def custom_rmse(y_true, y_pred):\n",
    "    return ('custom_RMSE', np.sqrt(np.mean(np.power(np.exp(y_pred) - np.exp(y_true), 2))), False)"
   ]
  },
  {
   "cell_type": "markdown",
   "id": "thirty-exhibition",
   "metadata": {},
   "source": [
    "# 데이터 불러오기\n",
    "- target 값인 price는 y라는 변수로 따로 저장 후 train_df에서 삭제합니다."
   ]
  },
  {
   "cell_type": "code",
   "execution_count": 4,
   "id": "civilian-trail",
   "metadata": {},
   "outputs": [],
   "source": [
    "train_df = pd.read_csv('kaggle_kakr_housing/data/train.csv')\n",
    "train_df['target'] = np.log(train_df['price'])\n",
    "train_df = train_df.drop(['price'], axis=1)\n",
    "train_size = len(train_df)\n",
    "\n",
    "\n",
    "test_df = pd.read_csv('kaggle_kakr_housing/data/test.csv')\n",
    "df = pd.concat([train_df, test_df])\n",
    "\n",
    "submission = pd.read_csv('kaggle_kakr_housing/data/sample_submission.csv')"
   ]
  },
  {
   "cell_type": "code",
   "execution_count": 5,
   "id": "occupational-threat",
   "metadata": {},
   "outputs": [
    {
     "data": {
      "text/html": [
       "<div>\n",
       "<style scoped>\n",
       "    .dataframe tbody tr th:only-of-type {\n",
       "        vertical-align: middle;\n",
       "    }\n",
       "\n",
       "    .dataframe tbody tr th {\n",
       "        vertical-align: top;\n",
       "    }\n",
       "\n",
       "    .dataframe thead th {\n",
       "        text-align: right;\n",
       "    }\n",
       "</style>\n",
       "<table border=\"1\" class=\"dataframe\">\n",
       "  <thead>\n",
       "    <tr style=\"text-align: right;\">\n",
       "      <th></th>\n",
       "      <th>id</th>\n",
       "      <th>date</th>\n",
       "      <th>bedrooms</th>\n",
       "      <th>bathrooms</th>\n",
       "      <th>sqft_living</th>\n",
       "      <th>sqft_lot</th>\n",
       "      <th>floors</th>\n",
       "      <th>waterfront</th>\n",
       "      <th>view</th>\n",
       "      <th>condition</th>\n",
       "      <th>grade</th>\n",
       "      <th>sqft_above</th>\n",
       "      <th>sqft_basement</th>\n",
       "      <th>yr_built</th>\n",
       "      <th>yr_renovated</th>\n",
       "      <th>zipcode</th>\n",
       "      <th>lat</th>\n",
       "      <th>long</th>\n",
       "      <th>sqft_living15</th>\n",
       "      <th>sqft_lot15</th>\n",
       "      <th>target</th>\n",
       "    </tr>\n",
       "  </thead>\n",
       "  <tbody>\n",
       "    <tr>\n",
       "      <th>0</th>\n",
       "      <td>0</td>\n",
       "      <td>20141013T000000</td>\n",
       "      <td>3</td>\n",
       "      <td>1.00</td>\n",
       "      <td>1180</td>\n",
       "      <td>5650</td>\n",
       "      <td>1.0</td>\n",
       "      <td>0</td>\n",
       "      <td>0</td>\n",
       "      <td>3</td>\n",
       "      <td>7</td>\n",
       "      <td>1180</td>\n",
       "      <td>0</td>\n",
       "      <td>1955</td>\n",
       "      <td>0</td>\n",
       "      <td>98178</td>\n",
       "      <td>47.5112</td>\n",
       "      <td>-122.257</td>\n",
       "      <td>1340</td>\n",
       "      <td>5650</td>\n",
       "      <td>12.309982</td>\n",
       "    </tr>\n",
       "    <tr>\n",
       "      <th>1</th>\n",
       "      <td>1</td>\n",
       "      <td>20150225T000000</td>\n",
       "      <td>2</td>\n",
       "      <td>1.00</td>\n",
       "      <td>770</td>\n",
       "      <td>10000</td>\n",
       "      <td>1.0</td>\n",
       "      <td>0</td>\n",
       "      <td>0</td>\n",
       "      <td>3</td>\n",
       "      <td>6</td>\n",
       "      <td>770</td>\n",
       "      <td>0</td>\n",
       "      <td>1933</td>\n",
       "      <td>0</td>\n",
       "      <td>98028</td>\n",
       "      <td>47.7379</td>\n",
       "      <td>-122.233</td>\n",
       "      <td>2720</td>\n",
       "      <td>8062</td>\n",
       "      <td>12.100712</td>\n",
       "    </tr>\n",
       "    <tr>\n",
       "      <th>2</th>\n",
       "      <td>2</td>\n",
       "      <td>20150218T000000</td>\n",
       "      <td>3</td>\n",
       "      <td>2.00</td>\n",
       "      <td>1680</td>\n",
       "      <td>8080</td>\n",
       "      <td>1.0</td>\n",
       "      <td>0</td>\n",
       "      <td>0</td>\n",
       "      <td>3</td>\n",
       "      <td>8</td>\n",
       "      <td>1680</td>\n",
       "      <td>0</td>\n",
       "      <td>1987</td>\n",
       "      <td>0</td>\n",
       "      <td>98074</td>\n",
       "      <td>47.6168</td>\n",
       "      <td>-122.045</td>\n",
       "      <td>1800</td>\n",
       "      <td>7503</td>\n",
       "      <td>13.142166</td>\n",
       "    </tr>\n",
       "    <tr>\n",
       "      <th>3</th>\n",
       "      <td>3</td>\n",
       "      <td>20140627T000000</td>\n",
       "      <td>3</td>\n",
       "      <td>2.25</td>\n",
       "      <td>1715</td>\n",
       "      <td>6819</td>\n",
       "      <td>2.0</td>\n",
       "      <td>0</td>\n",
       "      <td>0</td>\n",
       "      <td>3</td>\n",
       "      <td>7</td>\n",
       "      <td>1715</td>\n",
       "      <td>0</td>\n",
       "      <td>1995</td>\n",
       "      <td>0</td>\n",
       "      <td>98003</td>\n",
       "      <td>47.3097</td>\n",
       "      <td>-122.327</td>\n",
       "      <td>2238</td>\n",
       "      <td>6819</td>\n",
       "      <td>12.458775</td>\n",
       "    </tr>\n",
       "    <tr>\n",
       "      <th>4</th>\n",
       "      <td>4</td>\n",
       "      <td>20150115T000000</td>\n",
       "      <td>3</td>\n",
       "      <td>1.50</td>\n",
       "      <td>1060</td>\n",
       "      <td>9711</td>\n",
       "      <td>1.0</td>\n",
       "      <td>0</td>\n",
       "      <td>0</td>\n",
       "      <td>3</td>\n",
       "      <td>7</td>\n",
       "      <td>1060</td>\n",
       "      <td>0</td>\n",
       "      <td>1963</td>\n",
       "      <td>0</td>\n",
       "      <td>98198</td>\n",
       "      <td>47.4095</td>\n",
       "      <td>-122.315</td>\n",
       "      <td>1650</td>\n",
       "      <td>9711</td>\n",
       "      <td>12.583995</td>\n",
       "    </tr>\n",
       "  </tbody>\n",
       "</table>\n",
       "</div>"
      ],
      "text/plain": [
       "   id             date  bedrooms  bathrooms  sqft_living  sqft_lot  floors  \\\n",
       "0   0  20141013T000000         3       1.00         1180      5650     1.0   \n",
       "1   1  20150225T000000         2       1.00          770     10000     1.0   \n",
       "2   2  20150218T000000         3       2.00         1680      8080     1.0   \n",
       "3   3  20140627T000000         3       2.25         1715      6819     2.0   \n",
       "4   4  20150115T000000         3       1.50         1060      9711     1.0   \n",
       "\n",
       "   waterfront  view  condition  grade  sqft_above  sqft_basement  yr_built  \\\n",
       "0           0     0          3      7        1180              0      1955   \n",
       "1           0     0          3      6         770              0      1933   \n",
       "2           0     0          3      8        1680              0      1987   \n",
       "3           0     0          3      7        1715              0      1995   \n",
       "4           0     0          3      7        1060              0      1963   \n",
       "\n",
       "   yr_renovated  zipcode      lat     long  sqft_living15  sqft_lot15  \\\n",
       "0             0    98178  47.5112 -122.257           1340        5650   \n",
       "1             0    98028  47.7379 -122.233           2720        8062   \n",
       "2             0    98074  47.6168 -122.045           1800        7503   \n",
       "3             0    98003  47.3097 -122.327           2238        6819   \n",
       "4             0    98198  47.4095 -122.315           1650        9711   \n",
       "\n",
       "      target  \n",
       "0  12.309982  \n",
       "1  12.100712  \n",
       "2  13.142166  \n",
       "3  12.458775  \n",
       "4  12.583995  "
      ]
     },
     "execution_count": 5,
     "metadata": {},
     "output_type": "execute_result"
    }
   ],
   "source": [
    "train_df.head()"
   ]
  },
  {
   "cell_type": "markdown",
   "id": "competent-stuff",
   "metadata": {},
   "source": [
    "## 결측치 확인"
   ]
  },
  {
   "cell_type": "code",
   "execution_count": 6,
   "id": "figured-assumption",
   "metadata": {},
   "outputs": [
    {
     "data": {
      "text/plain": [
       "id               0\n",
       "date             0\n",
       "bedrooms         0\n",
       "bathrooms        0\n",
       "sqft_living      0\n",
       "sqft_lot         0\n",
       "floors           0\n",
       "waterfront       0\n",
       "view             0\n",
       "condition        0\n",
       "grade            0\n",
       "sqft_above       0\n",
       "sqft_basement    0\n",
       "yr_built         0\n",
       "yr_renovated     0\n",
       "zipcode          0\n",
       "lat              0\n",
       "long             0\n",
       "sqft_living15    0\n",
       "sqft_lot15       0\n",
       "target           0\n",
       "dtype: int64"
      ]
     },
     "execution_count": 6,
     "metadata": {},
     "output_type": "execute_result"
    }
   ],
   "source": [
    "train_df.isna().sum()"
   ]
  },
  {
   "cell_type": "markdown",
   "id": "billion-picking",
   "metadata": {},
   "source": [
    "## 컬럼별 type 확인"
   ]
  },
  {
   "cell_type": "code",
   "execution_count": 7,
   "id": "noticed-helping",
   "metadata": {},
   "outputs": [
    {
     "name": "stdout",
     "output_type": "stream",
     "text": [
      "<class 'pandas.core.frame.DataFrame'>\n",
      "RangeIndex: 15035 entries, 0 to 15034\n",
      "Data columns (total 21 columns):\n",
      " #   Column         Non-Null Count  Dtype  \n",
      "---  ------         --------------  -----  \n",
      " 0   id             15035 non-null  int64  \n",
      " 1   date           15035 non-null  object \n",
      " 2   bedrooms       15035 non-null  int64  \n",
      " 3   bathrooms      15035 non-null  float64\n",
      " 4   sqft_living    15035 non-null  int64  \n",
      " 5   sqft_lot       15035 non-null  int64  \n",
      " 6   floors         15035 non-null  float64\n",
      " 7   waterfront     15035 non-null  int64  \n",
      " 8   view           15035 non-null  int64  \n",
      " 9   condition      15035 non-null  int64  \n",
      " 10  grade          15035 non-null  int64  \n",
      " 11  sqft_above     15035 non-null  int64  \n",
      " 12  sqft_basement  15035 non-null  int64  \n",
      " 13  yr_built       15035 non-null  int64  \n",
      " 14  yr_renovated   15035 non-null  int64  \n",
      " 15  zipcode        15035 non-null  int64  \n",
      " 16  lat            15035 non-null  float64\n",
      " 17  long           15035 non-null  float64\n",
      " 18  sqft_living15  15035 non-null  int64  \n",
      " 19  sqft_lot15     15035 non-null  int64  \n",
      " 20  target         15035 non-null  float64\n",
      "dtypes: float64(5), int64(15), object(1)\n",
      "memory usage: 2.4+ MB\n"
     ]
    }
   ],
   "source": [
    "train_df.info()"
   ]
  },
  {
   "cell_type": "markdown",
   "id": "alike-passage",
   "metadata": {},
   "source": [
    "## 기초 통계량 확인"
   ]
  },
  {
   "cell_type": "code",
   "execution_count": 8,
   "id": "owned-boston",
   "metadata": {},
   "outputs": [
    {
     "data": {
      "text/html": [
       "<div>\n",
       "<style scoped>\n",
       "    .dataframe tbody tr th:only-of-type {\n",
       "        vertical-align: middle;\n",
       "    }\n",
       "\n",
       "    .dataframe tbody tr th {\n",
       "        vertical-align: top;\n",
       "    }\n",
       "\n",
       "    .dataframe thead th {\n",
       "        text-align: right;\n",
       "    }\n",
       "</style>\n",
       "<table border=\"1\" class=\"dataframe\">\n",
       "  <thead>\n",
       "    <tr style=\"text-align: right;\">\n",
       "      <th></th>\n",
       "      <th>id</th>\n",
       "      <th>bedrooms</th>\n",
       "      <th>bathrooms</th>\n",
       "      <th>sqft_living</th>\n",
       "      <th>sqft_lot</th>\n",
       "      <th>floors</th>\n",
       "      <th>waterfront</th>\n",
       "      <th>view</th>\n",
       "      <th>condition</th>\n",
       "      <th>grade</th>\n",
       "      <th>sqft_above</th>\n",
       "      <th>sqft_basement</th>\n",
       "      <th>yr_built</th>\n",
       "      <th>yr_renovated</th>\n",
       "      <th>zipcode</th>\n",
       "      <th>lat</th>\n",
       "      <th>long</th>\n",
       "      <th>sqft_living15</th>\n",
       "      <th>sqft_lot15</th>\n",
       "      <th>target</th>\n",
       "    </tr>\n",
       "  </thead>\n",
       "  <tbody>\n",
       "    <tr>\n",
       "      <th>count</th>\n",
       "      <td>15035.000000</td>\n",
       "      <td>15035.000000</td>\n",
       "      <td>15035.000000</td>\n",
       "      <td>15035.000000</td>\n",
       "      <td>1.503500e+04</td>\n",
       "      <td>15035.000000</td>\n",
       "      <td>15035.000000</td>\n",
       "      <td>15035.000000</td>\n",
       "      <td>15035.000000</td>\n",
       "      <td>15035.000000</td>\n",
       "      <td>15035.000000</td>\n",
       "      <td>15035.000000</td>\n",
       "      <td>15035.000000</td>\n",
       "      <td>15035.000000</td>\n",
       "      <td>15035.000000</td>\n",
       "      <td>15035.000000</td>\n",
       "      <td>15035.000000</td>\n",
       "      <td>15035.000000</td>\n",
       "      <td>15035.000000</td>\n",
       "      <td>15035.000000</td>\n",
       "    </tr>\n",
       "    <tr>\n",
       "      <th>mean</th>\n",
       "      <td>7517.000000</td>\n",
       "      <td>3.369139</td>\n",
       "      <td>2.115065</td>\n",
       "      <td>2083.790223</td>\n",
       "      <td>1.529697e+04</td>\n",
       "      <td>1.498071</td>\n",
       "      <td>0.007117</td>\n",
       "      <td>0.234253</td>\n",
       "      <td>3.406651</td>\n",
       "      <td>7.660725</td>\n",
       "      <td>1794.158164</td>\n",
       "      <td>289.632059</td>\n",
       "      <td>1971.100432</td>\n",
       "      <td>83.798936</td>\n",
       "      <td>98078.031726</td>\n",
       "      <td>47.560721</td>\n",
       "      <td>-122.213677</td>\n",
       "      <td>1992.754772</td>\n",
       "      <td>12823.884935</td>\n",
       "      <td>13.048120</td>\n",
       "    </tr>\n",
       "    <tr>\n",
       "      <th>std</th>\n",
       "      <td>4340.374984</td>\n",
       "      <td>0.902721</td>\n",
       "      <td>0.767519</td>\n",
       "      <td>922.134087</td>\n",
       "      <td>4.261282e+04</td>\n",
       "      <td>0.538522</td>\n",
       "      <td>0.084063</td>\n",
       "      <td>0.763376</td>\n",
       "      <td>0.646505</td>\n",
       "      <td>1.179803</td>\n",
       "      <td>831.738609</td>\n",
       "      <td>440.663284</td>\n",
       "      <td>29.407612</td>\n",
       "      <td>400.398498</td>\n",
       "      <td>53.297815</td>\n",
       "      <td>0.138164</td>\n",
       "      <td>0.141294</td>\n",
       "      <td>691.456442</td>\n",
       "      <td>27736.259787</td>\n",
       "      <td>0.527472</td>\n",
       "    </tr>\n",
       "    <tr>\n",
       "      <th>min</th>\n",
       "      <td>0.000000</td>\n",
       "      <td>0.000000</td>\n",
       "      <td>0.000000</td>\n",
       "      <td>290.000000</td>\n",
       "      <td>5.200000e+02</td>\n",
       "      <td>1.000000</td>\n",
       "      <td>0.000000</td>\n",
       "      <td>0.000000</td>\n",
       "      <td>1.000000</td>\n",
       "      <td>1.000000</td>\n",
       "      <td>290.000000</td>\n",
       "      <td>0.000000</td>\n",
       "      <td>1900.000000</td>\n",
       "      <td>0.000000</td>\n",
       "      <td>98001.000000</td>\n",
       "      <td>47.155900</td>\n",
       "      <td>-122.519000</td>\n",
       "      <td>399.000000</td>\n",
       "      <td>651.000000</td>\n",
       "      <td>11.264464</td>\n",
       "    </tr>\n",
       "    <tr>\n",
       "      <th>25%</th>\n",
       "      <td>3758.500000</td>\n",
       "      <td>3.000000</td>\n",
       "      <td>1.750000</td>\n",
       "      <td>1430.000000</td>\n",
       "      <td>5.027500e+03</td>\n",
       "      <td>1.000000</td>\n",
       "      <td>0.000000</td>\n",
       "      <td>0.000000</td>\n",
       "      <td>3.000000</td>\n",
       "      <td>7.000000</td>\n",
       "      <td>1190.000000</td>\n",
       "      <td>0.000000</td>\n",
       "      <td>1951.000000</td>\n",
       "      <td>0.000000</td>\n",
       "      <td>98033.000000</td>\n",
       "      <td>47.472700</td>\n",
       "      <td>-122.328000</td>\n",
       "      <td>1490.000000</td>\n",
       "      <td>5100.000000</td>\n",
       "      <td>12.682307</td>\n",
       "    </tr>\n",
       "    <tr>\n",
       "      <th>50%</th>\n",
       "      <td>7517.000000</td>\n",
       "      <td>3.000000</td>\n",
       "      <td>2.250000</td>\n",
       "      <td>1910.000000</td>\n",
       "      <td>7.620000e+03</td>\n",
       "      <td>1.500000</td>\n",
       "      <td>0.000000</td>\n",
       "      <td>0.000000</td>\n",
       "      <td>3.000000</td>\n",
       "      <td>7.000000</td>\n",
       "      <td>1570.000000</td>\n",
       "      <td>0.000000</td>\n",
       "      <td>1975.000000</td>\n",
       "      <td>0.000000</td>\n",
       "      <td>98065.000000</td>\n",
       "      <td>47.571900</td>\n",
       "      <td>-122.231000</td>\n",
       "      <td>1850.000000</td>\n",
       "      <td>7610.000000</td>\n",
       "      <td>13.017003</td>\n",
       "    </tr>\n",
       "    <tr>\n",
       "      <th>75%</th>\n",
       "      <td>11275.500000</td>\n",
       "      <td>4.000000</td>\n",
       "      <td>2.500000</td>\n",
       "      <td>2560.000000</td>\n",
       "      <td>1.069550e+04</td>\n",
       "      <td>2.000000</td>\n",
       "      <td>0.000000</td>\n",
       "      <td>0.000000</td>\n",
       "      <td>4.000000</td>\n",
       "      <td>8.000000</td>\n",
       "      <td>2230.000000</td>\n",
       "      <td>550.000000</td>\n",
       "      <td>1997.000000</td>\n",
       "      <td>0.000000</td>\n",
       "      <td>98117.000000</td>\n",
       "      <td>47.678300</td>\n",
       "      <td>-122.126000</td>\n",
       "      <td>2360.000000</td>\n",
       "      <td>10076.000000</td>\n",
       "      <td>13.377006</td>\n",
       "    </tr>\n",
       "    <tr>\n",
       "      <th>max</th>\n",
       "      <td>15034.000000</td>\n",
       "      <td>10.000000</td>\n",
       "      <td>8.000000</td>\n",
       "      <td>13540.000000</td>\n",
       "      <td>1.651359e+06</td>\n",
       "      <td>3.500000</td>\n",
       "      <td>1.000000</td>\n",
       "      <td>4.000000</td>\n",
       "      <td>5.000000</td>\n",
       "      <td>13.000000</td>\n",
       "      <td>9410.000000</td>\n",
       "      <td>4130.000000</td>\n",
       "      <td>2015.000000</td>\n",
       "      <td>2015.000000</td>\n",
       "      <td>98199.000000</td>\n",
       "      <td>47.777600</td>\n",
       "      <td>-121.315000</td>\n",
       "      <td>6210.000000</td>\n",
       "      <td>871200.000000</td>\n",
       "      <td>15.856731</td>\n",
       "    </tr>\n",
       "  </tbody>\n",
       "</table>\n",
       "</div>"
      ],
      "text/plain": [
       "                 id      bedrooms     bathrooms   sqft_living      sqft_lot  \\\n",
       "count  15035.000000  15035.000000  15035.000000  15035.000000  1.503500e+04   \n",
       "mean    7517.000000      3.369139      2.115065   2083.790223  1.529697e+04   \n",
       "std     4340.374984      0.902721      0.767519    922.134087  4.261282e+04   \n",
       "min        0.000000      0.000000      0.000000    290.000000  5.200000e+02   \n",
       "25%     3758.500000      3.000000      1.750000   1430.000000  5.027500e+03   \n",
       "50%     7517.000000      3.000000      2.250000   1910.000000  7.620000e+03   \n",
       "75%    11275.500000      4.000000      2.500000   2560.000000  1.069550e+04   \n",
       "max    15034.000000     10.000000      8.000000  13540.000000  1.651359e+06   \n",
       "\n",
       "             floors    waterfront          view     condition         grade  \\\n",
       "count  15035.000000  15035.000000  15035.000000  15035.000000  15035.000000   \n",
       "mean       1.498071      0.007117      0.234253      3.406651      7.660725   \n",
       "std        0.538522      0.084063      0.763376      0.646505      1.179803   \n",
       "min        1.000000      0.000000      0.000000      1.000000      1.000000   \n",
       "25%        1.000000      0.000000      0.000000      3.000000      7.000000   \n",
       "50%        1.500000      0.000000      0.000000      3.000000      7.000000   \n",
       "75%        2.000000      0.000000      0.000000      4.000000      8.000000   \n",
       "max        3.500000      1.000000      4.000000      5.000000     13.000000   \n",
       "\n",
       "         sqft_above  sqft_basement      yr_built  yr_renovated       zipcode  \\\n",
       "count  15035.000000   15035.000000  15035.000000  15035.000000  15035.000000   \n",
       "mean    1794.158164     289.632059   1971.100432     83.798936  98078.031726   \n",
       "std      831.738609     440.663284     29.407612    400.398498     53.297815   \n",
       "min      290.000000       0.000000   1900.000000      0.000000  98001.000000   \n",
       "25%     1190.000000       0.000000   1951.000000      0.000000  98033.000000   \n",
       "50%     1570.000000       0.000000   1975.000000      0.000000  98065.000000   \n",
       "75%     2230.000000     550.000000   1997.000000      0.000000  98117.000000   \n",
       "max     9410.000000    4130.000000   2015.000000   2015.000000  98199.000000   \n",
       "\n",
       "                lat          long  sqft_living15     sqft_lot15        target  \n",
       "count  15035.000000  15035.000000   15035.000000   15035.000000  15035.000000  \n",
       "mean      47.560721   -122.213677    1992.754772   12823.884935     13.048120  \n",
       "std        0.138164      0.141294     691.456442   27736.259787      0.527472  \n",
       "min       47.155900   -122.519000     399.000000     651.000000     11.264464  \n",
       "25%       47.472700   -122.328000    1490.000000    5100.000000     12.682307  \n",
       "50%       47.571900   -122.231000    1850.000000    7610.000000     13.017003  \n",
       "75%       47.678300   -122.126000    2360.000000   10076.000000     13.377006  \n",
       "max       47.777600   -121.315000    6210.000000  871200.000000     15.856731  "
      ]
     },
     "execution_count": 8,
     "metadata": {},
     "output_type": "execute_result"
    }
   ],
   "source": [
    "train_df.describe()"
   ]
  },
  {
   "cell_type": "markdown",
   "id": "spiritual-delivery",
   "metadata": {},
   "source": [
    "# 베이스라인 모델 제작 및 결과 확인\n",
    "- 피쳐 엔지니어링을 하기 전에, 최초 데이터셋의 결과값을 확인해보자.\n",
    "- 다만 피쳐로서 역할을 전혀 하지 않는 id를 제거하고, date 컬럼을 일단 삭제 후 처리하자. "
   ]
  },
  {
   "cell_type": "code",
   "execution_count": 9,
   "id": "indirect-sullivan",
   "metadata": {},
   "outputs": [],
   "source": [
    "class DataAnalysis:\n",
    "    def __init__(self, train_df, test_df):\n",
    "        self.train_df = train_df\n",
    "        self.test_df = test_df\n",
    "        self.test_size = len(test_df)\n",
    "        self.df = pd.concat([train_df, test_df])\n",
    "        self.best = 1e9\n",
    "        self.prev_df = df.copy()\n",
    "        self.dropped = ['id', 'target', 'date']\n",
    "        self.log = False\n",
    "        \n",
    "    def compare_baseline(self, manually=False):\n",
    "        x = self.df[:-self.test_size].copy()\n",
    "        y = x['target']\n",
    "        \n",
    "        for col in self.dropped:\n",
    "            if col in x.columns:\n",
    "                x = x.drop(col, axis=1)\n",
    "                \n",
    "        train_x, val_x, train_y, val_y = train_test_split(x, y, test_size=0.15, random_state=32) \n",
    "\n",
    "        model = lgbm.LGBMRegressor(random_state=32, n_estimators=400) \n",
    "        model.fit(train_x, train_y, eval_set=[(train_x, train_y),(val_x, val_y)], eval_metric=custom_rmse, verbose=100)\n",
    "        pred = np.exp(model.predict(val_x))\n",
    "        val_y = np.exp(val_y)\n",
    "            \n",
    "        score = mean_squared_error(pred, val_y) ** 0.5\n",
    "        \n",
    "        if self.best == 1e9:\n",
    "            print(f'\\n 베이스라인 스코어를 계산했습니다. RMSE: {score} \\n')\n",
    "            self.best = score\n",
    "            self.model = model\n",
    "        elif score < self.best:\n",
    "            print(f'\\n score가 개선되었습니다!  기존 RMSE {self.best} 에서 {score} 로 줄었습니다. \\n')\n",
    "            self.best = score\n",
    "            self.model = model\n",
    "            self.prev_df = self.df.copy()\n",
    "        elif manually:\n",
    "            self.model = model\n",
    "            print(f'\\n 현재 수동모드입니다. rmse가 악화되도 이전 DataFrame으로 복구 하지 않습니다. 기존 RMSE {self.best} 에서 {score} 로 변했습니다. \\n')\n",
    "        else:\n",
    "            print(f'\\n score가 악화되었습니다!  기존 RMSE {self.best} 에서 {score} 로 증가했습니다. 이전 DataFrame으로 복구합니다. \\n')\n",
    "            self.df = self.prev_df.copy()\n",
    "    \n",
    "            \n",
    "    \n",
    "    def cross_validation(self):\n",
    "        kf = KFold(5, shuffle=True, random_state=32)\n",
    "        pred = np.array([0.] * self.test_size)\n",
    "        \n",
    "        train = self.df[:-self.test_size].reset_index(drop=True)\n",
    "        y = train['target']\n",
    "        for col in self.dropped:\n",
    "            if col in train.columns:\n",
    "                train = train.drop(col, axis=1)\n",
    "                \n",
    "        test = self.df[-self.test_size:]\n",
    "        for col in self.dropped:\n",
    "            if col in test.columns:\n",
    "                test = test.drop(col, axis=1)\n",
    "        \n",
    "        for train_index, val_index in kf.split(train):\n",
    "            train_x, val_x = train.iloc[train_index], train.iloc[val_index]\n",
    "            train_y, val_y = y.iloc[train_index], y.iloc[val_index]\n",
    "            self.model.fit(train_x, train_y, eval_set=[(train_x, train_y),(val_x, val_y)], eval_metric=custom_rmse, verbose=40)\n",
    "            pred += self.model.predict(test) / 5\n",
    "        return np.exp(pred)\n",
    "            \n",
    "            \n",
    "    \n",
    "    def make_prediction(self):\n",
    "        test_df = self.df[-self.test_size:].copy()\n",
    "        for col in self.dropped:\n",
    "            if col in test_df.columns:\n",
    "                test_df = test_df.drop(col, axis=1)\n",
    "        \n",
    "        return np.exp(self.model.predict(test_df))\n",
    "    \n",
    "    \n",
    "    def drop_columns(self, cols):\n",
    "        self.df = self.df.drop(cols, axis=1)\n",
    "        self.train_df = self.df[:-self.test_size]\n",
    "        self.test_df = self.df[-self.test_size:]\n",
    "    \n",
    "    \n",
    "    def drop_rows(self, rows):\n",
    "        self.train_df = self.train_df.drop(rows.index)\n",
    "        self.df = pd.concat([self.train_df, self.test_df])\n",
    "    \n",
    "    \n",
    "    def restore(self, outlier):\n",
    "        pass\n",
    "    \n",
    "    \n",
    "    def make_graph(self, column, Type='categorical'):\n",
    "        train_df = self.df[:-self.test_size]\n",
    "        if Type == 'categorical':\n",
    "            plt.figure(figsize=(10, 6))\n",
    "            plt.title(f\"df['{column}'] histogram\")\n",
    "            sns.histplot(train_df[column])\n",
    "            plt.plot()\n",
    "\n",
    "            plt.figure(figsize=(10, 6))\n",
    "            plt.title(f\"df['{column}'] boxplot\")\n",
    "            if column == 'date':\n",
    "                sns.boxplot(train_df['date'].apply(lambda x: x.value))\n",
    "            else:\n",
    "                sns.boxplot(data=train_df, x=column, y='target')\n",
    "            plt.plot()\n",
    "        else:\n",
    "            plt.figure(figsize=(10,6))\n",
    "            sns.distplot(train_df[column])\n",
    "            plt.plot()\n",
    "            plt.figure(figsize=(10,6))\n",
    "            sns.scatterplot(data=train_df, x=column, y=\"target\")\n",
    "            plt.plot()"
   ]
  },
  {
   "cell_type": "code",
   "execution_count": 10,
   "id": "threatened-constitutional",
   "metadata": {
    "scrolled": true
   },
   "outputs": [
    {
     "name": "stdout",
     "output_type": "stream",
     "text": [
      "[100]\ttraining's l2: 0.0191137\ttraining's custom_RMSE: 93843.2\tvalid_1's l2: 0.0264369\tvalid_1's custom_RMSE: 130974\n",
      "[200]\ttraining's l2: 0.0145783\ttraining's custom_RMSE: 77992.9\tvalid_1's l2: 0.0256644\tvalid_1's custom_RMSE: 127078\n",
      "[300]\ttraining's l2: 0.0117097\ttraining's custom_RMSE: 67453\tvalid_1's l2: 0.0256363\tvalid_1's custom_RMSE: 127132\n",
      "[400]\ttraining's l2: 0.00956444\ttraining's custom_RMSE: 60624.1\tvalid_1's l2: 0.0256355\tvalid_1's custom_RMSE: 126726\n",
      "\n",
      " 베이스라인 스코어를 계산했습니다. RMSE: 126726.39308105245 \n",
      "\n"
     ]
    }
   ],
   "source": [
    "model = DataAnalysis(train_df, test_df)\n",
    "model.compare_baseline()"
   ]
  },
  {
   "cell_type": "code",
   "execution_count": 11,
   "id": "transsexual-terry",
   "metadata": {},
   "outputs": [],
   "source": [
    "pred = model.make_prediction()\n",
    "submission['price'] = pred\n",
    "submission.to_csv('submission.csv', index=False)\n",
    "!kaggle competitions submit -c 2019-2nd-ml-month-with-kakr -f submission.csv -m \"target 값에만 log scaling 한 결과값\""
   ]
  },
  {
   "cell_type": "markdown",
   "id": "closed-reader",
   "metadata": {},
   "source": [
    "<img src=https://i.ibb.co/s15YNcq/2021-10-17-15-15-00.png width=768></img>\n",
    "<img src=https://i.ibb.co/YPV7ymh/2021-10-18-09-45-07.png width=768></img>"
   ]
  },
  {
   "cell_type": "markdown",
   "id": "informed-blood",
   "metadata": {},
   "source": [
    "# 명목형 컬럼 분석"
   ]
  },
  {
   "cell_type": "markdown",
   "id": "apparent-darkness",
   "metadata": {},
   "source": [
    "## 1. ID : 집을 구분하는 번호\n",
    "- ID는 인덱스 역할을 하기에 삭제한다.\n",
    "- 다만, 가끔씩 데이터 리키지 역할을 할 때가 있다.(예를 들어 실수로 가격에 따라 ID를 정렬한 데이터를 제공하는 등)"
   ]
  },
  {
   "cell_type": "code",
   "execution_count": 12,
   "id": "qualified-parts",
   "metadata": {},
   "outputs": [
    {
     "data": {
      "text/plain": [
       "0.03593970154026387"
      ]
     },
     "execution_count": 12,
     "metadata": {},
     "output_type": "execute_result"
    }
   ],
   "source": [
    "model.train_df['id'].corr(model.train_df['target'])"
   ]
  },
  {
   "cell_type": "markdown",
   "id": "satisfactory-cleanup",
   "metadata": {},
   "source": [
    "상관관계가 0에 매우 가깝다.  \n",
    "데이터리키지가 발견되지 않기 때문에, ID 컬럼을 삭제하자."
   ]
  },
  {
   "cell_type": "code",
   "execution_count": 13,
   "id": "attractive-message",
   "metadata": {},
   "outputs": [],
   "source": [
    "model.drop_columns(['id'])"
   ]
  },
  {
   "cell_type": "markdown",
   "id": "frank-remainder",
   "metadata": {},
   "source": [
    "## 2. date : 집을 구매한 날짜"
   ]
  },
  {
   "cell_type": "code",
   "execution_count": 14,
   "id": "faced-illinois",
   "metadata": {},
   "outputs": [],
   "source": [
    "model.df['datetime'] = pd.to_datetime(model.df['date']).dt.strftime('%Y%m%d').astype(int)"
   ]
  },
  {
   "cell_type": "code",
   "execution_count": 15,
   "id": "apart-mouth",
   "metadata": {},
   "outputs": [
    {
     "name": "stdout",
     "output_type": "stream",
     "text": [
      "[100]\ttraining's l2: 0.0181089\ttraining's custom_RMSE: 91528.2\tvalid_1's l2: 0.0260609\tvalid_1's custom_RMSE: 131195\n",
      "[200]\ttraining's l2: 0.0134244\ttraining's custom_RMSE: 76471\tvalid_1's l2: 0.0251901\tvalid_1's custom_RMSE: 128577\n",
      "[300]\ttraining's l2: 0.0106104\ttraining's custom_RMSE: 65876.9\tvalid_1's l2: 0.0250799\tvalid_1's custom_RMSE: 128690\n",
      "[400]\ttraining's l2: 0.0085699\ttraining's custom_RMSE: 57593.4\tvalid_1's l2: 0.0249806\tvalid_1's custom_RMSE: 127882\n",
      "\n",
      " score가 악화되었습니다!  기존 RMSE 126726.39308105245 에서 127882.03514239092 로 증가했습니다. 이전 DataFrame으로 복구합니다. \n",
      "\n"
     ]
    }
   ],
   "source": [
    "model.compare_baseline()"
   ]
  },
  {
   "cell_type": "code",
   "execution_count": 16,
   "id": "developed-presentation",
   "metadata": {},
   "outputs": [],
   "source": [
    "model.df['day_of_week'] = pd.to_datetime(model.df['date']).dt.day_of_week.astype(int)\n",
    "model.make_graph('day_of_week')"
   ]
  },
  {
   "cell_type": "markdown",
   "id": "valued-promise",
   "metadata": {},
   "source": [
    "<img src=https://i.ibb.co/HdcknNn/2021-10-18-01-51-45.png width=600></img>\n",
    "- 주말에 거래가 적은 것을 확인할 수 있다."
   ]
  },
  {
   "cell_type": "code",
   "execution_count": 17,
   "id": "subsequent-possible",
   "metadata": {},
   "outputs": [
    {
     "name": "stdout",
     "output_type": "stream",
     "text": [
      "[100]\ttraining's l2: 0.0190024\ttraining's custom_RMSE: 93809.5\tvalid_1's l2: 0.0267768\tvalid_1's custom_RMSE: 132944\n",
      "[200]\ttraining's l2: 0.0144923\ttraining's custom_RMSE: 77441.4\tvalid_1's l2: 0.0260275\tvalid_1's custom_RMSE: 129696\n",
      "[300]\ttraining's l2: 0.0115984\ttraining's custom_RMSE: 67485.2\tvalid_1's l2: 0.0258771\tvalid_1's custom_RMSE: 128623\n",
      "[400]\ttraining's l2: 0.0095058\ttraining's custom_RMSE: 59795.6\tvalid_1's l2: 0.0258577\tvalid_1's custom_RMSE: 127768\n",
      "\n",
      " score가 악화되었습니다!  기존 RMSE 126726.39308105245 에서 127767.65343933327 로 증가했습니다. 이전 DataFrame으로 복구합니다. \n",
      "\n"
     ]
    }
   ],
   "source": [
    "model.compare_baseline()"
   ]
  },
  {
   "cell_type": "code",
   "execution_count": 18,
   "id": "engaging-annual",
   "metadata": {},
   "outputs": [],
   "source": [
    "model.df['month'] = pd.to_datetime(model.df['date']).dt.month.astype(int)\n",
    "model.make_graph('month')"
   ]
  },
  {
   "cell_type": "markdown",
   "id": "under-wallace",
   "metadata": {},
   "source": [
    "<img src=https://i.ibb.co/YBwGWj2/2021-10-18-01-52-55.png width=600></img>\n",
    "- 1, 2월에 거래가 적은 것을 확인할 수 있다."
   ]
  },
  {
   "cell_type": "code",
   "execution_count": 19,
   "id": "requested-faith",
   "metadata": {
    "scrolled": true
   },
   "outputs": [
    {
     "name": "stdout",
     "output_type": "stream",
     "text": [
      "[100]\ttraining's l2: 0.0183814\ttraining's custom_RMSE: 92473.7\tvalid_1's l2: 0.026079\tvalid_1's custom_RMSE: 132016\n",
      "[200]\ttraining's l2: 0.0135769\ttraining's custom_RMSE: 75694.7\tvalid_1's l2: 0.0250196\tvalid_1's custom_RMSE: 130081\n",
      "[300]\ttraining's l2: 0.0108294\ttraining's custom_RMSE: 65405.6\tvalid_1's l2: 0.0248056\tvalid_1's custom_RMSE: 128859\n",
      "[400]\ttraining's l2: 0.0088529\ttraining's custom_RMSE: 57343.6\tvalid_1's l2: 0.0248099\tvalid_1's custom_RMSE: 128628\n",
      "\n",
      " score가 악화되었습니다!  기존 RMSE 126726.39308105245 에서 128627.53005349716 로 증가했습니다. 이전 DataFrame으로 복구합니다. \n",
      "\n"
     ]
    }
   ],
   "source": [
    "model.compare_baseline()"
   ]
  },
  {
   "cell_type": "markdown",
   "id": "opening-dylan",
   "metadata": {},
   "source": [
    "## 3. price : 집의 가격(Target variable)\n"
   ]
  },
  {
   "cell_type": "code",
   "execution_count": 20,
   "id": "stretch-bidder",
   "metadata": {
    "scrolled": false
   },
   "outputs": [],
   "source": [
    "sns.distplot(train_df['target'])"
   ]
  },
  {
   "cell_type": "markdown",
   "id": "pediatric-offense",
   "metadata": {},
   "source": [
    "<img src=https://i.ibb.co/JtpfHp5/2021-10-18-01-54-09.png width=350></img>"
   ]
  },
  {
   "cell_type": "code",
   "execution_count": 21,
   "id": "liquid-inside",
   "metadata": {},
   "outputs": [],
   "source": [
    "sns.boxplot(train_df['target'])"
   ]
  },
  {
   "cell_type": "markdown",
   "id": "piano-dining",
   "metadata": {},
   "source": [
    "<img src=https://i.ibb.co/GkMyZ6D/2021-10-18-01-54-15.png width=350></img>"
   ]
  },
  {
   "cell_type": "markdown",
   "id": "functional-hungarian",
   "metadata": {},
   "source": [
    "## 4. bedrooms : 침실의 수\n"
   ]
  },
  {
   "cell_type": "code",
   "execution_count": 22,
   "id": "lesbian-serial",
   "metadata": {},
   "outputs": [],
   "source": [
    "model.make_graph('bedrooms')"
   ]
  },
  {
   "cell_type": "markdown",
   "id": "affecting-stockholm",
   "metadata": {},
   "source": [
    "<img src=https://i.ibb.co/7tYT8FN/2021-10-18-01-56-18.png width=600></img>"
   ]
  },
  {
   "cell_type": "markdown",
   "id": "scientific-finance",
   "metadata": {},
   "source": [
    "## 5. bathrooms : 화장실의 수\n"
   ]
  },
  {
   "cell_type": "code",
   "execution_count": 23,
   "id": "obvious-missile",
   "metadata": {},
   "outputs": [],
   "source": [
    "model.make_graph('bathrooms')"
   ]
  },
  {
   "cell_type": "markdown",
   "id": "negative-stomach",
   "metadata": {},
   "source": [
    "<img src=https://i.ibb.co/c3M3Wtg/2021-10-18-01-57-07.png width=600></img>"
   ]
  },
  {
   "cell_type": "markdown",
   "id": "simplified-breakfast",
   "metadata": {},
   "source": [
    "특이한 친구들이 많이 발견 되었다."
   ]
  },
  {
   "cell_type": "code",
   "execution_count": 24,
   "id": "applicable-minutes",
   "metadata": {},
   "outputs": [
    {
     "data": {
      "text/html": [
       "<div>\n",
       "<style scoped>\n",
       "    .dataframe tbody tr th:only-of-type {\n",
       "        vertical-align: middle;\n",
       "    }\n",
       "\n",
       "    .dataframe tbody tr th {\n",
       "        vertical-align: top;\n",
       "    }\n",
       "\n",
       "    .dataframe thead th {\n",
       "        text-align: right;\n",
       "    }\n",
       "</style>\n",
       "<table border=\"1\" class=\"dataframe\">\n",
       "  <thead>\n",
       "    <tr style=\"text-align: right;\">\n",
       "      <th></th>\n",
       "      <th>date</th>\n",
       "      <th>bedrooms</th>\n",
       "      <th>bathrooms</th>\n",
       "      <th>sqft_living</th>\n",
       "      <th>sqft_lot</th>\n",
       "      <th>floors</th>\n",
       "      <th>waterfront</th>\n",
       "      <th>view</th>\n",
       "      <th>condition</th>\n",
       "      <th>grade</th>\n",
       "      <th>sqft_above</th>\n",
       "      <th>sqft_basement</th>\n",
       "      <th>yr_built</th>\n",
       "      <th>yr_renovated</th>\n",
       "      <th>zipcode</th>\n",
       "      <th>lat</th>\n",
       "      <th>long</th>\n",
       "      <th>sqft_living15</th>\n",
       "      <th>sqft_lot15</th>\n",
       "      <th>target</th>\n",
       "    </tr>\n",
       "  </thead>\n",
       "  <tbody>\n",
       "    <tr>\n",
       "      <th>12969</th>\n",
       "      <td>20141118T000000</td>\n",
       "      <td>3</td>\n",
       "      <td>1.25</td>\n",
       "      <td>2400</td>\n",
       "      <td>6653</td>\n",
       "      <td>3.0</td>\n",
       "      <td>0</td>\n",
       "      <td>2</td>\n",
       "      <td>3</td>\n",
       "      <td>11</td>\n",
       "      <td>2400</td>\n",
       "      <td>0</td>\n",
       "      <td>1992</td>\n",
       "      <td>0</td>\n",
       "      <td>98122</td>\n",
       "      <td>47.6019</td>\n",
       "      <td>-122.29</td>\n",
       "      <td>1910</td>\n",
       "      <td>6653</td>\n",
       "      <td>14.143374</td>\n",
       "    </tr>\n",
       "  </tbody>\n",
       "</table>\n",
       "</div>"
      ],
      "text/plain": [
       "                  date  bedrooms  bathrooms  sqft_living  sqft_lot  floors  \\\n",
       "12969  20141118T000000         3       1.25         2400      6653     3.0   \n",
       "\n",
       "       waterfront  view  condition  grade  sqft_above  sqft_basement  \\\n",
       "12969           0     2          3     11        2400              0   \n",
       "\n",
       "       yr_built  yr_renovated  zipcode      lat    long  sqft_living15  \\\n",
       "12969      1992             0    98122  47.6019 -122.29           1910   \n",
       "\n",
       "       sqft_lot15     target  \n",
       "12969        6653  14.143374  "
      ]
     },
     "execution_count": 24,
     "metadata": {},
     "output_type": "execute_result"
    }
   ],
   "source": [
    "outlier = model.train_df[(model.train_df['bathrooms'] == 1.25) & (model.train_df['target'] > 14)]\n",
    "outlier"
   ]
  },
  {
   "cell_type": "code",
   "execution_count": 25,
   "id": "sexual-stock",
   "metadata": {
    "scrolled": true
   },
   "outputs": [
    {
     "name": "stdout",
     "output_type": "stream",
     "text": [
      "[100]\ttraining's l2: 0.0191949\ttraining's custom_RMSE: 94230.4\tvalid_1's l2: 0.0262792\tvalid_1's custom_RMSE: 129501\n",
      "[200]\ttraining's l2: 0.0146155\ttraining's custom_RMSE: 78148.6\tvalid_1's l2: 0.0255341\tvalid_1's custom_RMSE: 126137\n",
      "[300]\ttraining's l2: 0.0118565\ttraining's custom_RMSE: 67211.6\tvalid_1's l2: 0.0254537\tvalid_1's custom_RMSE: 124350\n",
      "[400]\ttraining's l2: 0.00975504\ttraining's custom_RMSE: 59838.5\tvalid_1's l2: 0.0254797\tvalid_1's custom_RMSE: 124243\n",
      "\n",
      " score가 개선되었습니다!  기존 RMSE 126726.39308105245 에서 124243.35889691944 로 줄었습니다. \n",
      "\n"
     ]
    }
   ],
   "source": [
    "model.drop_rows(outlier)\n",
    "model.compare_baseline()"
   ]
  },
  {
   "cell_type": "code",
   "execution_count": 26,
   "id": "incorporated-memory",
   "metadata": {},
   "outputs": [
    {
     "data": {
      "text/html": [
       "<div>\n",
       "<style scoped>\n",
       "    .dataframe tbody tr th:only-of-type {\n",
       "        vertical-align: middle;\n",
       "    }\n",
       "\n",
       "    .dataframe tbody tr th {\n",
       "        vertical-align: top;\n",
       "    }\n",
       "\n",
       "    .dataframe thead th {\n",
       "        text-align: right;\n",
       "    }\n",
       "</style>\n",
       "<table border=\"1\" class=\"dataframe\">\n",
       "  <thead>\n",
       "    <tr style=\"text-align: right;\">\n",
       "      <th></th>\n",
       "      <th>date</th>\n",
       "      <th>bedrooms</th>\n",
       "      <th>bathrooms</th>\n",
       "      <th>sqft_living</th>\n",
       "      <th>sqft_lot</th>\n",
       "      <th>floors</th>\n",
       "      <th>waterfront</th>\n",
       "      <th>view</th>\n",
       "      <th>condition</th>\n",
       "      <th>grade</th>\n",
       "      <th>sqft_above</th>\n",
       "      <th>sqft_basement</th>\n",
       "      <th>yr_built</th>\n",
       "      <th>yr_renovated</th>\n",
       "      <th>zipcode</th>\n",
       "      <th>lat</th>\n",
       "      <th>long</th>\n",
       "      <th>sqft_living15</th>\n",
       "      <th>sqft_lot15</th>\n",
       "      <th>target</th>\n",
       "    </tr>\n",
       "  </thead>\n",
       "  <tbody>\n",
       "    <tr>\n",
       "      <th>2775</th>\n",
       "      <td>20140611T000000</td>\n",
       "      <td>5</td>\n",
       "      <td>4.5</td>\n",
       "      <td>10040</td>\n",
       "      <td>37325</td>\n",
       "      <td>2.0</td>\n",
       "      <td>1</td>\n",
       "      <td>2</td>\n",
       "      <td>3</td>\n",
       "      <td>11</td>\n",
       "      <td>7680</td>\n",
       "      <td>2360</td>\n",
       "      <td>1940</td>\n",
       "      <td>2001</td>\n",
       "      <td>98004</td>\n",
       "      <td>47.6500</td>\n",
       "      <td>-122.214</td>\n",
       "      <td>3930</td>\n",
       "      <td>25449</td>\n",
       "      <td>15.770310</td>\n",
       "    </tr>\n",
       "    <tr>\n",
       "      <th>5621</th>\n",
       "      <td>20140623T000000</td>\n",
       "      <td>3</td>\n",
       "      <td>4.5</td>\n",
       "      <td>5230</td>\n",
       "      <td>17826</td>\n",
       "      <td>2.0</td>\n",
       "      <td>1</td>\n",
       "      <td>4</td>\n",
       "      <td>3</td>\n",
       "      <td>10</td>\n",
       "      <td>3740</td>\n",
       "      <td>1490</td>\n",
       "      <td>2005</td>\n",
       "      <td>0</td>\n",
       "      <td>98040</td>\n",
       "      <td>47.5348</td>\n",
       "      <td>-122.243</td>\n",
       "      <td>3670</td>\n",
       "      <td>17826</td>\n",
       "      <td>15.039286</td>\n",
       "    </tr>\n",
       "  </tbody>\n",
       "</table>\n",
       "</div>"
      ],
      "text/plain": [
       "                 date  bedrooms  bathrooms  sqft_living  sqft_lot  floors  \\\n",
       "2775  20140611T000000         5        4.5        10040     37325     2.0   \n",
       "5621  20140623T000000         3        4.5         5230     17826     2.0   \n",
       "\n",
       "      waterfront  view  condition  grade  sqft_above  sqft_basement  yr_built  \\\n",
       "2775           1     2          3     11        7680           2360      1940   \n",
       "5621           1     4          3     10        3740           1490      2005   \n",
       "\n",
       "      yr_renovated  zipcode      lat     long  sqft_living15  sqft_lot15  \\\n",
       "2775          2001    98004  47.6500 -122.214           3930       25449   \n",
       "5621             0    98040  47.5348 -122.243           3670       17826   \n",
       "\n",
       "         target  \n",
       "2775  15.770310  \n",
       "5621  15.039286  "
      ]
     },
     "execution_count": 26,
     "metadata": {},
     "output_type": "execute_result"
    }
   ],
   "source": [
    "outlier = model.train_df[(model.train_df['bathrooms'] == 4.5) & (model.train_df['target'] > 15)]\n",
    "outlier"
   ]
  },
  {
   "cell_type": "code",
   "execution_count": 27,
   "id": "economic-apartment",
   "metadata": {},
   "outputs": [
    {
     "name": "stdout",
     "output_type": "stream",
     "text": [
      "[100]\ttraining's l2: 0.0191794\ttraining's custom_RMSE: 92936.1\tvalid_1's l2: 0.0255528\tvalid_1's custom_RMSE: 131626\n",
      "[200]\ttraining's l2: 0.0146619\ttraining's custom_RMSE: 77374.5\tvalid_1's l2: 0.0247377\tvalid_1's custom_RMSE: 127019\n",
      "[300]\ttraining's l2: 0.0117814\ttraining's custom_RMSE: 67756\tvalid_1's l2: 0.0245409\tvalid_1's custom_RMSE: 126166\n",
      "[400]\ttraining's l2: 0.00972245\ttraining's custom_RMSE: 60549.6\tvalid_1's l2: 0.0245797\tvalid_1's custom_RMSE: 123771\n",
      "\n",
      " score가 개선되었습니다!  기존 RMSE 124243.35889691944 에서 123770.98454606062 로 줄었습니다. \n",
      "\n"
     ]
    }
   ],
   "source": [
    "model.drop_rows(outlier)\n",
    "model.compare_baseline()"
   ]
  },
  {
   "cell_type": "code",
   "execution_count": 28,
   "id": "about-convergence",
   "metadata": {},
   "outputs": [
    {
     "data": {
      "text/html": [
       "<div>\n",
       "<style scoped>\n",
       "    .dataframe tbody tr th:only-of-type {\n",
       "        vertical-align: middle;\n",
       "    }\n",
       "\n",
       "    .dataframe tbody tr th {\n",
       "        vertical-align: top;\n",
       "    }\n",
       "\n",
       "    .dataframe thead th {\n",
       "        text-align: right;\n",
       "    }\n",
       "</style>\n",
       "<table border=\"1\" class=\"dataframe\">\n",
       "  <thead>\n",
       "    <tr style=\"text-align: right;\">\n",
       "      <th></th>\n",
       "      <th>date</th>\n",
       "      <th>bedrooms</th>\n",
       "      <th>bathrooms</th>\n",
       "      <th>sqft_living</th>\n",
       "      <th>sqft_lot</th>\n",
       "      <th>floors</th>\n",
       "      <th>waterfront</th>\n",
       "      <th>view</th>\n",
       "      <th>condition</th>\n",
       "      <th>grade</th>\n",
       "      <th>sqft_above</th>\n",
       "      <th>sqft_basement</th>\n",
       "      <th>yr_built</th>\n",
       "      <th>yr_renovated</th>\n",
       "      <th>zipcode</th>\n",
       "      <th>lat</th>\n",
       "      <th>long</th>\n",
       "      <th>sqft_living15</th>\n",
       "      <th>sqft_lot15</th>\n",
       "      <th>target</th>\n",
       "    </tr>\n",
       "  </thead>\n",
       "  <tbody>\n",
       "    <tr>\n",
       "      <th>11701</th>\n",
       "      <td>20140520T000000</td>\n",
       "      <td>6</td>\n",
       "      <td>5.25</td>\n",
       "      <td>2860</td>\n",
       "      <td>5682</td>\n",
       "      <td>2.0</td>\n",
       "      <td>0</td>\n",
       "      <td>0</td>\n",
       "      <td>3</td>\n",
       "      <td>7</td>\n",
       "      <td>2860</td>\n",
       "      <td>0</td>\n",
       "      <td>1978</td>\n",
       "      <td>0</td>\n",
       "      <td>98002</td>\n",
       "      <td>47.303</td>\n",
       "      <td>-122.221</td>\n",
       "      <td>1390</td>\n",
       "      <td>5956</td>\n",
       "      <td>12.611538</td>\n",
       "    </tr>\n",
       "  </tbody>\n",
       "</table>\n",
       "</div>"
      ],
      "text/plain": [
       "                  date  bedrooms  bathrooms  sqft_living  sqft_lot  floors  \\\n",
       "11701  20140520T000000         6       5.25         2860      5682     2.0   \n",
       "\n",
       "       waterfront  view  condition  grade  sqft_above  sqft_basement  \\\n",
       "11701           0     0          3      7        2860              0   \n",
       "\n",
       "       yr_built  yr_renovated  zipcode     lat     long  sqft_living15  \\\n",
       "11701      1978             0    98002  47.303 -122.221           1390   \n",
       "\n",
       "       sqft_lot15     target  \n",
       "11701        5956  12.611538  "
      ]
     },
     "execution_count": 28,
     "metadata": {},
     "output_type": "execute_result"
    }
   ],
   "source": [
    "outlier = model.train_df[(model.train_df['bathrooms'] == 5.25) & (model.train_df['target'] < 13)]\n",
    "outlier"
   ]
  },
  {
   "cell_type": "code",
   "execution_count": 29,
   "id": "significant-despite",
   "metadata": {},
   "outputs": [
    {
     "name": "stdout",
     "output_type": "stream",
     "text": [
      "[100]\ttraining's l2: 0.019114\ttraining's custom_RMSE: 92233.5\tvalid_1's l2: 0.0261602\tvalid_1's custom_RMSE: 111640\n",
      "[200]\ttraining's l2: 0.0146142\ttraining's custom_RMSE: 77136.4\tvalid_1's l2: 0.0254942\tvalid_1's custom_RMSE: 109371\n",
      "[300]\ttraining's l2: 0.0117934\ttraining's custom_RMSE: 67472.5\tvalid_1's l2: 0.0253176\tvalid_1's custom_RMSE: 107873\n",
      "[400]\ttraining's l2: 0.00969234\ttraining's custom_RMSE: 59810.6\tvalid_1's l2: 0.0252331\tvalid_1's custom_RMSE: 107297\n",
      "\n",
      " score가 개선되었습니다!  기존 RMSE 123770.98454606062 에서 107296.7067383942 로 줄었습니다. \n",
      "\n"
     ]
    }
   ],
   "source": [
    "model.drop_rows(outlier)\n",
    "model.compare_baseline()"
   ]
  },
  {
   "cell_type": "code",
   "execution_count": 30,
   "id": "satisfied-influence",
   "metadata": {},
   "outputs": [
    {
     "data": {
      "text/html": [
       "<div>\n",
       "<style scoped>\n",
       "    .dataframe tbody tr th:only-of-type {\n",
       "        vertical-align: middle;\n",
       "    }\n",
       "\n",
       "    .dataframe tbody tr th {\n",
       "        vertical-align: top;\n",
       "    }\n",
       "\n",
       "    .dataframe thead th {\n",
       "        text-align: right;\n",
       "    }\n",
       "</style>\n",
       "<table border=\"1\" class=\"dataframe\">\n",
       "  <thead>\n",
       "    <tr style=\"text-align: right;\">\n",
       "      <th></th>\n",
       "      <th>date</th>\n",
       "      <th>bedrooms</th>\n",
       "      <th>bathrooms</th>\n",
       "      <th>sqft_living</th>\n",
       "      <th>sqft_lot</th>\n",
       "      <th>floors</th>\n",
       "      <th>waterfront</th>\n",
       "      <th>view</th>\n",
       "      <th>condition</th>\n",
       "      <th>grade</th>\n",
       "      <th>sqft_above</th>\n",
       "      <th>sqft_basement</th>\n",
       "      <th>yr_built</th>\n",
       "      <th>yr_renovated</th>\n",
       "      <th>zipcode</th>\n",
       "      <th>lat</th>\n",
       "      <th>long</th>\n",
       "      <th>sqft_living15</th>\n",
       "      <th>sqft_lot15</th>\n",
       "      <th>target</th>\n",
       "    </tr>\n",
       "  </thead>\n",
       "  <tbody>\n",
       "    <tr>\n",
       "      <th>2859</th>\n",
       "      <td>20141007T000000</td>\n",
       "      <td>7</td>\n",
       "      <td>6.75</td>\n",
       "      <td>7480</td>\n",
       "      <td>41664</td>\n",
       "      <td>2.0</td>\n",
       "      <td>0</td>\n",
       "      <td>2</td>\n",
       "      <td>3</td>\n",
       "      <td>11</td>\n",
       "      <td>5080</td>\n",
       "      <td>2400</td>\n",
       "      <td>1953</td>\n",
       "      <td>0</td>\n",
       "      <td>98166</td>\n",
       "      <td>47.4643</td>\n",
       "      <td>-122.368</td>\n",
       "      <td>2810</td>\n",
       "      <td>33190</td>\n",
       "      <td>13.592367</td>\n",
       "    </tr>\n",
       "    <tr>\n",
       "      <th>5990</th>\n",
       "      <td>20140811T000000</td>\n",
       "      <td>9</td>\n",
       "      <td>7.50</td>\n",
       "      <td>4050</td>\n",
       "      <td>6504</td>\n",
       "      <td>2.0</td>\n",
       "      <td>0</td>\n",
       "      <td>0</td>\n",
       "      <td>3</td>\n",
       "      <td>7</td>\n",
       "      <td>4050</td>\n",
       "      <td>0</td>\n",
       "      <td>1996</td>\n",
       "      <td>0</td>\n",
       "      <td>98144</td>\n",
       "      <td>47.5923</td>\n",
       "      <td>-122.301</td>\n",
       "      <td>1448</td>\n",
       "      <td>3866</td>\n",
       "      <td>13.017003</td>\n",
       "    </tr>\n",
       "  </tbody>\n",
       "</table>\n",
       "</div>"
      ],
      "text/plain": [
       "                 date  bedrooms  bathrooms  sqft_living  sqft_lot  floors  \\\n",
       "2859  20141007T000000         7       6.75         7480     41664     2.0   \n",
       "5990  20140811T000000         9       7.50         4050      6504     2.0   \n",
       "\n",
       "      waterfront  view  condition  grade  sqft_above  sqft_basement  yr_built  \\\n",
       "2859           0     2          3     11        5080           2400      1953   \n",
       "5990           0     0          3      7        4050              0      1996   \n",
       "\n",
       "      yr_renovated  zipcode      lat     long  sqft_living15  sqft_lot15  \\\n",
       "2859             0    98166  47.4643 -122.368           2810       33190   \n",
       "5990             0    98144  47.5923 -122.301           1448        3866   \n",
       "\n",
       "         target  \n",
       "2859  13.592367  \n",
       "5990  13.017003  "
      ]
     },
     "execution_count": 30,
     "metadata": {},
     "output_type": "execute_result"
    }
   ],
   "source": [
    "outlier = model.train_df[(model.train_df['bathrooms'] > 6.5) & (model.train_df['target'] < 14)]\n",
    "outlier"
   ]
  },
  {
   "cell_type": "code",
   "execution_count": 31,
   "id": "original-marina",
   "metadata": {},
   "outputs": [
    {
     "name": "stdout",
     "output_type": "stream",
     "text": [
      "[100]\ttraining's l2: 0.0189379\ttraining's custom_RMSE: 91892.7\tvalid_1's l2: 0.027392\tvalid_1's custom_RMSE: 131051\n",
      "[200]\ttraining's l2: 0.0143908\ttraining's custom_RMSE: 76999.3\tvalid_1's l2: 0.0266603\tvalid_1's custom_RMSE: 126203\n",
      "[300]\ttraining's l2: 0.0114521\ttraining's custom_RMSE: 67987.6\tvalid_1's l2: 0.026634\tvalid_1's custom_RMSE: 124745\n",
      "[400]\ttraining's l2: 0.00942788\ttraining's custom_RMSE: 59479.3\tvalid_1's l2: 0.0267118\tvalid_1's custom_RMSE: 124671\n",
      "\n",
      " score가 악화되었습니다!  기존 RMSE 107296.7067383942 에서 124671.42903126655 로 증가했습니다. 이전 DataFrame으로 복구합니다. \n",
      "\n"
     ]
    }
   ],
   "source": [
    "model.drop_rows(outlier)\n",
    "model.compare_baseline()"
   ]
  },
  {
   "cell_type": "markdown",
   "id": "upset-supervisor",
   "metadata": {},
   "source": [
    "## 8. floors : 집의 층 수\n"
   ]
  },
  {
   "cell_type": "code",
   "execution_count": 32,
   "id": "downtown-frame",
   "metadata": {},
   "outputs": [],
   "source": [
    "model.make_graph('floors')"
   ]
  },
  {
   "cell_type": "markdown",
   "id": "bigger-lingerie",
   "metadata": {},
   "source": [
    "<img src=https://i.ibb.co/QMc0RHQ/2021-10-18-01-57-54.png width=600></img>"
   ]
  },
  {
   "cell_type": "code",
   "execution_count": 33,
   "id": "agreed-tampa",
   "metadata": {},
   "outputs": [
    {
     "data": {
      "text/html": [
       "<div>\n",
       "<style scoped>\n",
       "    .dataframe tbody tr th:only-of-type {\n",
       "        vertical-align: middle;\n",
       "    }\n",
       "\n",
       "    .dataframe tbody tr th {\n",
       "        vertical-align: top;\n",
       "    }\n",
       "\n",
       "    .dataframe thead th {\n",
       "        text-align: right;\n",
       "    }\n",
       "</style>\n",
       "<table border=\"1\" class=\"dataframe\">\n",
       "  <thead>\n",
       "    <tr style=\"text-align: right;\">\n",
       "      <th></th>\n",
       "      <th>date</th>\n",
       "      <th>bedrooms</th>\n",
       "      <th>bathrooms</th>\n",
       "      <th>sqft_living</th>\n",
       "      <th>sqft_lot</th>\n",
       "      <th>floors</th>\n",
       "      <th>waterfront</th>\n",
       "      <th>view</th>\n",
       "      <th>condition</th>\n",
       "      <th>grade</th>\n",
       "      <th>sqft_above</th>\n",
       "      <th>sqft_basement</th>\n",
       "      <th>yr_built</th>\n",
       "      <th>yr_renovated</th>\n",
       "      <th>zipcode</th>\n",
       "      <th>lat</th>\n",
       "      <th>long</th>\n",
       "      <th>sqft_living15</th>\n",
       "      <th>sqft_lot15</th>\n",
       "      <th>target</th>\n",
       "    </tr>\n",
       "  </thead>\n",
       "  <tbody>\n",
       "    <tr>\n",
       "      <th>5108</th>\n",
       "      <td>20141013T000000</td>\n",
       "      <td>6</td>\n",
       "      <td>8.0</td>\n",
       "      <td>12050</td>\n",
       "      <td>27600</td>\n",
       "      <td>2.5</td>\n",
       "      <td>0</td>\n",
       "      <td>3</td>\n",
       "      <td>4</td>\n",
       "      <td>13</td>\n",
       "      <td>8570</td>\n",
       "      <td>3480</td>\n",
       "      <td>1910</td>\n",
       "      <td>1987</td>\n",
       "      <td>98102</td>\n",
       "      <td>47.6298</td>\n",
       "      <td>-122.323</td>\n",
       "      <td>3940</td>\n",
       "      <td>8800</td>\n",
       "      <td>15.856731</td>\n",
       "    </tr>\n",
       "  </tbody>\n",
       "</table>\n",
       "</div>"
      ],
      "text/plain": [
       "                 date  bedrooms  bathrooms  sqft_living  sqft_lot  floors  \\\n",
       "5108  20141013T000000         6        8.0        12050     27600     2.5   \n",
       "\n",
       "      waterfront  view  condition  grade  sqft_above  sqft_basement  yr_built  \\\n",
       "5108           0     3          4     13        8570           3480      1910   \n",
       "\n",
       "      yr_renovated  zipcode      lat     long  sqft_living15  sqft_lot15  \\\n",
       "5108          1987    98102  47.6298 -122.323           3940        8800   \n",
       "\n",
       "         target  \n",
       "5108  15.856731  "
      ]
     },
     "execution_count": 33,
     "metadata": {},
     "output_type": "execute_result"
    }
   ],
   "source": [
    "outlier = model.train_df[(model.train_df['floors'] == 2.5) & (model.train_df['target'] > 15)]\n",
    "outlier"
   ]
  },
  {
   "cell_type": "code",
   "execution_count": 34,
   "id": "brilliant-burst",
   "metadata": {},
   "outputs": [
    {
     "name": "stdout",
     "output_type": "stream",
     "text": [
      "[100]\ttraining's l2: 0.0189735\ttraining's custom_RMSE: 91360\tvalid_1's l2: 0.0272642\tvalid_1's custom_RMSE: 105354\n",
      "[200]\ttraining's l2: 0.0146042\ttraining's custom_RMSE: 75631.2\tvalid_1's l2: 0.0266951\tvalid_1's custom_RMSE: 102598\n",
      "[300]\ttraining's l2: 0.0118413\ttraining's custom_RMSE: 65785.5\tvalid_1's l2: 0.026419\tvalid_1's custom_RMSE: 102024\n",
      "[400]\ttraining's l2: 0.00976666\ttraining's custom_RMSE: 59342.4\tvalid_1's l2: 0.0263735\tvalid_1's custom_RMSE: 101344\n",
      "\n",
      " score가 개선되었습니다!  기존 RMSE 107296.7067383942 에서 101343.51078320085 로 줄었습니다. \n",
      "\n"
     ]
    }
   ],
   "source": [
    "model.drop_rows(outlier)\n",
    "model.compare_baseline()"
   ]
  },
  {
   "cell_type": "code",
   "execution_count": 35,
   "id": "falling-inquiry",
   "metadata": {},
   "outputs": [
    {
     "data": {
      "text/html": [
       "<div>\n",
       "<style scoped>\n",
       "    .dataframe tbody tr th:only-of-type {\n",
       "        vertical-align: middle;\n",
       "    }\n",
       "\n",
       "    .dataframe tbody tr th {\n",
       "        vertical-align: top;\n",
       "    }\n",
       "\n",
       "    .dataframe thead th {\n",
       "        text-align: right;\n",
       "    }\n",
       "</style>\n",
       "<table border=\"1\" class=\"dataframe\">\n",
       "  <thead>\n",
       "    <tr style=\"text-align: right;\">\n",
       "      <th></th>\n",
       "      <th>date</th>\n",
       "      <th>bedrooms</th>\n",
       "      <th>bathrooms</th>\n",
       "      <th>sqft_living</th>\n",
       "      <th>sqft_lot</th>\n",
       "      <th>floors</th>\n",
       "      <th>waterfront</th>\n",
       "      <th>view</th>\n",
       "      <th>condition</th>\n",
       "      <th>grade</th>\n",
       "      <th>sqft_above</th>\n",
       "      <th>sqft_basement</th>\n",
       "      <th>yr_built</th>\n",
       "      <th>yr_renovated</th>\n",
       "      <th>zipcode</th>\n",
       "      <th>lat</th>\n",
       "      <th>long</th>\n",
       "      <th>sqft_living15</th>\n",
       "      <th>sqft_lot15</th>\n",
       "      <th>target</th>\n",
       "    </tr>\n",
       "  </thead>\n",
       "  <tbody>\n",
       "    <tr>\n",
       "      <th>13164</th>\n",
       "      <td>20141129T000000</td>\n",
       "      <td>3</td>\n",
       "      <td>1.0</td>\n",
       "      <td>980</td>\n",
       "      <td>2490</td>\n",
       "      <td>2.0</td>\n",
       "      <td>0</td>\n",
       "      <td>0</td>\n",
       "      <td>4</td>\n",
       "      <td>6</td>\n",
       "      <td>980</td>\n",
       "      <td>0</td>\n",
       "      <td>1969</td>\n",
       "      <td>0</td>\n",
       "      <td>98092</td>\n",
       "      <td>47.317</td>\n",
       "      <td>-122.182</td>\n",
       "      <td>980</td>\n",
       "      <td>3154</td>\n",
       "      <td>11.407565</td>\n",
       "    </tr>\n",
       "  </tbody>\n",
       "</table>\n",
       "</div>"
      ],
      "text/plain": [
       "                  date  bedrooms  bathrooms  sqft_living  sqft_lot  floors  \\\n",
       "13164  20141129T000000         3        1.0          980      2490     2.0   \n",
       "\n",
       "       waterfront  view  condition  grade  sqft_above  sqft_basement  \\\n",
       "13164           0     0          4      6         980              0   \n",
       "\n",
       "       yr_built  yr_renovated  zipcode     lat     long  sqft_living15  \\\n",
       "13164      1969             0    98092  47.317 -122.182            980   \n",
       "\n",
       "       sqft_lot15     target  \n",
       "13164        3154  11.407565  "
      ]
     },
     "execution_count": 35,
     "metadata": {},
     "output_type": "execute_result"
    }
   ],
   "source": [
    "outlier = model.train_df[(model.train_df['floors'] == 2.0) & (model.train_df['target'] < 11.5)]\n",
    "outlier"
   ]
  },
  {
   "cell_type": "code",
   "execution_count": 36,
   "id": "forbidden-colony",
   "metadata": {},
   "outputs": [
    {
     "name": "stdout",
     "output_type": "stream",
     "text": [
      "[100]\ttraining's l2: 0.0191313\ttraining's custom_RMSE: 90810.2\tvalid_1's l2: 0.0254484\tvalid_1's custom_RMSE: 110461\n",
      "[200]\ttraining's l2: 0.0144593\ttraining's custom_RMSE: 75932.9\tvalid_1's l2: 0.0246596\tvalid_1's custom_RMSE: 108095\n",
      "[300]\ttraining's l2: 0.0116924\ttraining's custom_RMSE: 66478.6\tvalid_1's l2: 0.0245162\tvalid_1's custom_RMSE: 106728\n",
      "[400]\ttraining's l2: 0.00964957\ttraining's custom_RMSE: 59684.6\tvalid_1's l2: 0.0245365\tvalid_1's custom_RMSE: 107074\n",
      "\n",
      " score가 악화되었습니다!  기존 RMSE 101343.51078320085 에서 107074.27994685667 로 증가했습니다. 이전 DataFrame으로 복구합니다. \n",
      "\n"
     ]
    }
   ],
   "source": [
    "model.drop_rows(outlier)\n",
    "model.compare_baseline()"
   ]
  },
  {
   "cell_type": "code",
   "execution_count": 37,
   "id": "environmental-establishment",
   "metadata": {},
   "outputs": [
    {
     "data": {
      "text/html": [
       "<div>\n",
       "<style scoped>\n",
       "    .dataframe tbody tr th:only-of-type {\n",
       "        vertical-align: middle;\n",
       "    }\n",
       "\n",
       "    .dataframe tbody tr th {\n",
       "        vertical-align: top;\n",
       "    }\n",
       "\n",
       "    .dataframe thead th {\n",
       "        text-align: right;\n",
       "    }\n",
       "</style>\n",
       "<table border=\"1\" class=\"dataframe\">\n",
       "  <thead>\n",
       "    <tr style=\"text-align: right;\">\n",
       "      <th></th>\n",
       "      <th>date</th>\n",
       "      <th>bedrooms</th>\n",
       "      <th>bathrooms</th>\n",
       "      <th>sqft_living</th>\n",
       "      <th>sqft_lot</th>\n",
       "      <th>floors</th>\n",
       "      <th>waterfront</th>\n",
       "      <th>view</th>\n",
       "      <th>condition</th>\n",
       "      <th>grade</th>\n",
       "      <th>sqft_above</th>\n",
       "      <th>sqft_basement</th>\n",
       "      <th>yr_built</th>\n",
       "      <th>yr_renovated</th>\n",
       "      <th>zipcode</th>\n",
       "      <th>lat</th>\n",
       "      <th>long</th>\n",
       "      <th>sqft_living15</th>\n",
       "      <th>sqft_lot15</th>\n",
       "      <th>target</th>\n",
       "    </tr>\n",
       "  </thead>\n",
       "  <tbody>\n",
       "    <tr>\n",
       "      <th>12845</th>\n",
       "      <td>20141020T000000</td>\n",
       "      <td>8</td>\n",
       "      <td>4.0</td>\n",
       "      <td>7710</td>\n",
       "      <td>11750</td>\n",
       "      <td>3.5</td>\n",
       "      <td>0</td>\n",
       "      <td>0</td>\n",
       "      <td>5</td>\n",
       "      <td>12</td>\n",
       "      <td>6090</td>\n",
       "      <td>1620</td>\n",
       "      <td>1904</td>\n",
       "      <td>0</td>\n",
       "      <td>98112</td>\n",
       "      <td>47.6263</td>\n",
       "      <td>-122.314</td>\n",
       "      <td>4210</td>\n",
       "      <td>8325</td>\n",
       "      <td>15.009433</td>\n",
       "    </tr>\n",
       "  </tbody>\n",
       "</table>\n",
       "</div>"
      ],
      "text/plain": [
       "                  date  bedrooms  bathrooms  sqft_living  sqft_lot  floors  \\\n",
       "12845  20141020T000000         8        4.0         7710     11750     3.5   \n",
       "\n",
       "       waterfront  view  condition  grade  sqft_above  sqft_basement  \\\n",
       "12845           0     0          5     12        6090           1620   \n",
       "\n",
       "       yr_built  yr_renovated  zipcode      lat     long  sqft_living15  \\\n",
       "12845      1904             0    98112  47.6263 -122.314           4210   \n",
       "\n",
       "       sqft_lot15     target  \n",
       "12845        8325  15.009433  "
      ]
     },
     "execution_count": 37,
     "metadata": {},
     "output_type": "execute_result"
    }
   ],
   "source": [
    "outlier = model.train_df[(model.train_df['floors'] == 3.5) & (model.train_df['target'] > 14)]\n",
    "outlier"
   ]
  },
  {
   "cell_type": "code",
   "execution_count": 38,
   "id": "unique-harassment",
   "metadata": {},
   "outputs": [
    {
     "name": "stdout",
     "output_type": "stream",
     "text": [
      "[100]\ttraining's l2: 0.0190836\ttraining's custom_RMSE: 91030.7\tvalid_1's l2: 0.0253658\tvalid_1's custom_RMSE: 104641\n",
      "[200]\ttraining's l2: 0.0145459\ttraining's custom_RMSE: 76623.5\tvalid_1's l2: 0.0247572\tvalid_1's custom_RMSE: 102123\n",
      "[300]\ttraining's l2: 0.0116286\ttraining's custom_RMSE: 66509.1\tvalid_1's l2: 0.0246734\tvalid_1's custom_RMSE: 100968\n",
      "[400]\ttraining's l2: 0.00957547\ttraining's custom_RMSE: 59362\tvalid_1's l2: 0.0247535\tvalid_1's custom_RMSE: 100930\n",
      "\n",
      " score가 개선되었습니다!  기존 RMSE 101343.51078320085 에서 100930.40819610794 로 줄었습니다. \n",
      "\n"
     ]
    }
   ],
   "source": [
    "model.drop_rows(outlier)\n",
    "model.compare_baseline()"
   ]
  },
  {
   "cell_type": "markdown",
   "id": "quality-honduras",
   "metadata": {},
   "source": [
    "## 9. waterfront : 집의 전방에 강이 흐르는지 유무 (a.k.a. 리버뷰)\n"
   ]
  },
  {
   "cell_type": "code",
   "execution_count": 39,
   "id": "russian-prevention",
   "metadata": {},
   "outputs": [],
   "source": [
    "model.make_graph('waterfront')"
   ]
  },
  {
   "cell_type": "markdown",
   "id": "substantial-authorization",
   "metadata": {},
   "source": [
    "<img src=https://i.ibb.co/JsZB6Sg/2021-10-18-01-58-32.png width=600></img>"
   ]
  },
  {
   "cell_type": "code",
   "execution_count": 40,
   "id": "controlled-banks",
   "metadata": {},
   "outputs": [
    {
     "data": {
      "text/html": [
       "<div>\n",
       "<style scoped>\n",
       "    .dataframe tbody tr th:only-of-type {\n",
       "        vertical-align: middle;\n",
       "    }\n",
       "\n",
       "    .dataframe tbody tr th {\n",
       "        vertical-align: top;\n",
       "    }\n",
       "\n",
       "    .dataframe thead th {\n",
       "        text-align: right;\n",
       "    }\n",
       "</style>\n",
       "<table border=\"1\" class=\"dataframe\">\n",
       "  <thead>\n",
       "    <tr style=\"text-align: right;\">\n",
       "      <th></th>\n",
       "      <th>date</th>\n",
       "      <th>bedrooms</th>\n",
       "      <th>bathrooms</th>\n",
       "      <th>sqft_living</th>\n",
       "      <th>sqft_lot</th>\n",
       "      <th>floors</th>\n",
       "      <th>waterfront</th>\n",
       "      <th>view</th>\n",
       "      <th>condition</th>\n",
       "      <th>grade</th>\n",
       "      <th>sqft_above</th>\n",
       "      <th>sqft_basement</th>\n",
       "      <th>yr_built</th>\n",
       "      <th>yr_renovated</th>\n",
       "      <th>zipcode</th>\n",
       "      <th>lat</th>\n",
       "      <th>long</th>\n",
       "      <th>sqft_living15</th>\n",
       "      <th>sqft_lot15</th>\n",
       "      <th>target</th>\n",
       "    </tr>\n",
       "  </thead>\n",
       "  <tbody>\n",
       "    <tr>\n",
       "      <th>1045</th>\n",
       "      <td>20150413T000000</td>\n",
       "      <td>5</td>\n",
       "      <td>5.00</td>\n",
       "      <td>8000</td>\n",
       "      <td>23985</td>\n",
       "      <td>2.0</td>\n",
       "      <td>0</td>\n",
       "      <td>4</td>\n",
       "      <td>3</td>\n",
       "      <td>12</td>\n",
       "      <td>6720</td>\n",
       "      <td>1280</td>\n",
       "      <td>2009</td>\n",
       "      <td>0</td>\n",
       "      <td>98004</td>\n",
       "      <td>47.6232</td>\n",
       "      <td>-122.220</td>\n",
       "      <td>4600</td>\n",
       "      <td>21750</td>\n",
       "      <td>15.492607</td>\n",
       "    </tr>\n",
       "    <tr>\n",
       "      <th>3134</th>\n",
       "      <td>20140804T000000</td>\n",
       "      <td>5</td>\n",
       "      <td>5.75</td>\n",
       "      <td>9200</td>\n",
       "      <td>35069</td>\n",
       "      <td>2.0</td>\n",
       "      <td>0</td>\n",
       "      <td>0</td>\n",
       "      <td>3</td>\n",
       "      <td>13</td>\n",
       "      <td>6200</td>\n",
       "      <td>3000</td>\n",
       "      <td>2001</td>\n",
       "      <td>0</td>\n",
       "      <td>98039</td>\n",
       "      <td>47.6289</td>\n",
       "      <td>-122.233</td>\n",
       "      <td>3560</td>\n",
       "      <td>24345</td>\n",
       "      <td>15.532906</td>\n",
       "    </tr>\n",
       "    <tr>\n",
       "      <th>6469</th>\n",
       "      <td>20140919T000000</td>\n",
       "      <td>6</td>\n",
       "      <td>7.75</td>\n",
       "      <td>9890</td>\n",
       "      <td>31374</td>\n",
       "      <td>2.0</td>\n",
       "      <td>0</td>\n",
       "      <td>4</td>\n",
       "      <td>3</td>\n",
       "      <td>13</td>\n",
       "      <td>8860</td>\n",
       "      <td>1030</td>\n",
       "      <td>2001</td>\n",
       "      <td>0</td>\n",
       "      <td>98039</td>\n",
       "      <td>47.6305</td>\n",
       "      <td>-122.240</td>\n",
       "      <td>4540</td>\n",
       "      <td>42730</td>\n",
       "      <td>15.744856</td>\n",
       "    </tr>\n",
       "  </tbody>\n",
       "</table>\n",
       "</div>"
      ],
      "text/plain": [
       "                 date  bedrooms  bathrooms  sqft_living  sqft_lot  floors  \\\n",
       "1045  20150413T000000         5       5.00         8000     23985     2.0   \n",
       "3134  20140804T000000         5       5.75         9200     35069     2.0   \n",
       "6469  20140919T000000         6       7.75         9890     31374     2.0   \n",
       "\n",
       "      waterfront  view  condition  grade  sqft_above  sqft_basement  yr_built  \\\n",
       "1045           0     4          3     12        6720           1280      2009   \n",
       "3134           0     0          3     13        6200           3000      2001   \n",
       "6469           0     4          3     13        8860           1030      2001   \n",
       "\n",
       "      yr_renovated  zipcode      lat     long  sqft_living15  sqft_lot15  \\\n",
       "1045             0    98004  47.6232 -122.220           4600       21750   \n",
       "3134             0    98039  47.6289 -122.233           3560       24345   \n",
       "6469             0    98039  47.6305 -122.240           4540       42730   \n",
       "\n",
       "         target  \n",
       "1045  15.492607  \n",
       "3134  15.532906  \n",
       "6469  15.744856  "
      ]
     },
     "execution_count": 40,
     "metadata": {},
     "output_type": "execute_result"
    }
   ],
   "source": [
    "outlier = model.train_df[(model.train_df['waterfront'] == 0) & (model.train_df['target'] > 15.4)]\n",
    "outlier"
   ]
  },
  {
   "cell_type": "code",
   "execution_count": 41,
   "id": "employed-north",
   "metadata": {},
   "outputs": [
    {
     "name": "stdout",
     "output_type": "stream",
     "text": [
      "[100]\ttraining's l2: 0.0188903\ttraining's custom_RMSE: 89357\tvalid_1's l2: 0.025927\tvalid_1's custom_RMSE: 99497.1\n",
      "[200]\ttraining's l2: 0.0145176\ttraining's custom_RMSE: 74721.6\tvalid_1's l2: 0.0255064\tvalid_1's custom_RMSE: 98951.6\n",
      "[300]\ttraining's l2: 0.0117733\ttraining's custom_RMSE: 66431.2\tvalid_1's l2: 0.0253947\tvalid_1's custom_RMSE: 99718.2\n",
      "[400]\ttraining's l2: 0.00977215\ttraining's custom_RMSE: 59981.1\tvalid_1's l2: 0.0254666\tvalid_1's custom_RMSE: 99773.9\n",
      "\n",
      " score가 개선되었습니다!  기존 RMSE 100930.40819610794 에서 99773.92139572458 로 줄었습니다. \n",
      "\n"
     ]
    }
   ],
   "source": [
    "model.drop_rows(outlier)\n",
    "model.compare_baseline()"
   ]
  },
  {
   "cell_type": "markdown",
   "id": "respected-theology",
   "metadata": {},
   "source": [
    "## 10. view : 집이 얼마나 좋아 보이는지의 정도\n"
   ]
  },
  {
   "cell_type": "code",
   "execution_count": 42,
   "id": "afraid-appeal",
   "metadata": {},
   "outputs": [],
   "source": [
    "model.make_graph('view')"
   ]
  },
  {
   "cell_type": "markdown",
   "id": "cooked-tournament",
   "metadata": {},
   "source": [
    "<img src=https://i.ibb.co/BZwcRfj/2021-10-18-01-59-16.png width=600></img>"
   ]
  },
  {
   "cell_type": "code",
   "execution_count": 43,
   "id": "dimensional-cooperative",
   "metadata": {},
   "outputs": [
    {
     "data": {
      "text/html": [
       "<div>\n",
       "<style scoped>\n",
       "    .dataframe tbody tr th:only-of-type {\n",
       "        vertical-align: middle;\n",
       "    }\n",
       "\n",
       "    .dataframe tbody tr th {\n",
       "        vertical-align: top;\n",
       "    }\n",
       "\n",
       "    .dataframe thead th {\n",
       "        text-align: right;\n",
       "    }\n",
       "</style>\n",
       "<table border=\"1\" class=\"dataframe\">\n",
       "  <thead>\n",
       "    <tr style=\"text-align: right;\">\n",
       "      <th></th>\n",
       "      <th>date</th>\n",
       "      <th>bedrooms</th>\n",
       "      <th>bathrooms</th>\n",
       "      <th>sqft_living</th>\n",
       "      <th>sqft_lot</th>\n",
       "      <th>floors</th>\n",
       "      <th>waterfront</th>\n",
       "      <th>view</th>\n",
       "      <th>condition</th>\n",
       "      <th>grade</th>\n",
       "      <th>sqft_above</th>\n",
       "      <th>sqft_basement</th>\n",
       "      <th>yr_built</th>\n",
       "      <th>yr_renovated</th>\n",
       "      <th>zipcode</th>\n",
       "      <th>lat</th>\n",
       "      <th>long</th>\n",
       "      <th>sqft_living15</th>\n",
       "      <th>sqft_lot15</th>\n",
       "      <th>target</th>\n",
       "    </tr>\n",
       "  </thead>\n",
       "  <tbody>\n",
       "    <tr>\n",
       "      <th>3395</th>\n",
       "      <td>20140909T000000</td>\n",
       "      <td>2</td>\n",
       "      <td>1.0</td>\n",
       "      <td>1040</td>\n",
       "      <td>20524</td>\n",
       "      <td>1.0</td>\n",
       "      <td>0</td>\n",
       "      <td>3</td>\n",
       "      <td>3</td>\n",
       "      <td>6</td>\n",
       "      <td>1040</td>\n",
       "      <td>0</td>\n",
       "      <td>1949</td>\n",
       "      <td>1989</td>\n",
       "      <td>98014</td>\n",
       "      <td>47.6981</td>\n",
       "      <td>-121.875</td>\n",
       "      <td>1880</td>\n",
       "      <td>38996</td>\n",
       "      <td>11.944708</td>\n",
       "    </tr>\n",
       "  </tbody>\n",
       "</table>\n",
       "</div>"
      ],
      "text/plain": [
       "                 date  bedrooms  bathrooms  sqft_living  sqft_lot  floors  \\\n",
       "3395  20140909T000000         2        1.0         1040     20524     1.0   \n",
       "\n",
       "      waterfront  view  condition  grade  sqft_above  sqft_basement  yr_built  \\\n",
       "3395           0     3          3      6        1040              0      1949   \n",
       "\n",
       "      yr_renovated  zipcode      lat     long  sqft_living15  sqft_lot15  \\\n",
       "3395          1989    98014  47.6981 -121.875           1880       38996   \n",
       "\n",
       "         target  \n",
       "3395  11.944708  "
      ]
     },
     "execution_count": 43,
     "metadata": {},
     "output_type": "execute_result"
    }
   ],
   "source": [
    "outlier = model.train_df[(model.train_df['view'] == 3) & (model.train_df['target'] < 12)]\n",
    "outlier"
   ]
  },
  {
   "cell_type": "code",
   "execution_count": 44,
   "id": "radio-stationery",
   "metadata": {},
   "outputs": [
    {
     "name": "stdout",
     "output_type": "stream",
     "text": [
      "[100]\ttraining's l2: 0.019017\ttraining's custom_RMSE: 88817.6\tvalid_1's l2: 0.0259014\tvalid_1's custom_RMSE: 102497\n",
      "[200]\ttraining's l2: 0.0146025\ttraining's custom_RMSE: 74341\tvalid_1's l2: 0.0254993\tvalid_1's custom_RMSE: 102333\n",
      "[300]\ttraining's l2: 0.0117088\ttraining's custom_RMSE: 66440.8\tvalid_1's l2: 0.0255979\tvalid_1's custom_RMSE: 102903\n",
      "[400]\ttraining's l2: 0.0097011\ttraining's custom_RMSE: 58919.5\tvalid_1's l2: 0.0255913\tvalid_1's custom_RMSE: 102799\n",
      "\n",
      " score가 악화되었습니다!  기존 RMSE 99773.92139572458 에서 102798.80171397477 로 증가했습니다. 이전 DataFrame으로 복구합니다. \n",
      "\n"
     ]
    }
   ],
   "source": [
    "model.drop_rows(outlier)\n",
    "model.compare_baseline()"
   ]
  },
  {
   "cell_type": "markdown",
   "id": "postal-crawford",
   "metadata": {},
   "source": [
    "## 11. condition : 집의 전반적인 상태\n"
   ]
  },
  {
   "cell_type": "code",
   "execution_count": 45,
   "id": "automotive-carrier",
   "metadata": {},
   "outputs": [],
   "source": [
    "model.make_graph('condition')"
   ]
  },
  {
   "cell_type": "markdown",
   "id": "minus-image",
   "metadata": {},
   "source": [
    "<img src=https://i.ibb.co/h2XC0b6/2021-10-18-02-00-02.png width=600></img>"
   ]
  },
  {
   "cell_type": "code",
   "execution_count": 46,
   "id": "electric-hollow",
   "metadata": {},
   "outputs": [
    {
     "data": {
      "text/html": [
       "<div>\n",
       "<style scoped>\n",
       "    .dataframe tbody tr th:only-of-type {\n",
       "        vertical-align: middle;\n",
       "    }\n",
       "\n",
       "    .dataframe tbody tr th {\n",
       "        vertical-align: top;\n",
       "    }\n",
       "\n",
       "    .dataframe thead th {\n",
       "        text-align: right;\n",
       "    }\n",
       "</style>\n",
       "<table border=\"1\" class=\"dataframe\">\n",
       "  <thead>\n",
       "    <tr style=\"text-align: right;\">\n",
       "      <th></th>\n",
       "      <th>date</th>\n",
       "      <th>bedrooms</th>\n",
       "      <th>bathrooms</th>\n",
       "      <th>sqft_living</th>\n",
       "      <th>sqft_lot</th>\n",
       "      <th>floors</th>\n",
       "      <th>waterfront</th>\n",
       "      <th>view</th>\n",
       "      <th>condition</th>\n",
       "      <th>grade</th>\n",
       "      <th>sqft_above</th>\n",
       "      <th>sqft_basement</th>\n",
       "      <th>yr_built</th>\n",
       "      <th>yr_renovated</th>\n",
       "      <th>zipcode</th>\n",
       "      <th>lat</th>\n",
       "      <th>long</th>\n",
       "      <th>sqft_living15</th>\n",
       "      <th>sqft_lot15</th>\n",
       "      <th>target</th>\n",
       "    </tr>\n",
       "  </thead>\n",
       "  <tbody>\n",
       "    <tr>\n",
       "      <th>7822</th>\n",
       "      <td>20140513T000000</td>\n",
       "      <td>4</td>\n",
       "      <td>2.5</td>\n",
       "      <td>5300</td>\n",
       "      <td>26211</td>\n",
       "      <td>2.0</td>\n",
       "      <td>1</td>\n",
       "      <td>2</td>\n",
       "      <td>2</td>\n",
       "      <td>10</td>\n",
       "      <td>4570</td>\n",
       "      <td>730</td>\n",
       "      <td>1923</td>\n",
       "      <td>0</td>\n",
       "      <td>98105</td>\n",
       "      <td>47.661</td>\n",
       "      <td>-122.269</td>\n",
       "      <td>3890</td>\n",
       "      <td>19281</td>\n",
       "      <td>14.753563</td>\n",
       "    </tr>\n",
       "  </tbody>\n",
       "</table>\n",
       "</div>"
      ],
      "text/plain": [
       "                 date  bedrooms  bathrooms  sqft_living  sqft_lot  floors  \\\n",
       "7822  20140513T000000         4        2.5         5300     26211     2.0   \n",
       "\n",
       "      waterfront  view  condition  grade  sqft_above  sqft_basement  yr_built  \\\n",
       "7822           1     2          2     10        4570            730      1923   \n",
       "\n",
       "      yr_renovated  zipcode     lat     long  sqft_living15  sqft_lot15  \\\n",
       "7822             0    98105  47.661 -122.269           3890       19281   \n",
       "\n",
       "         target  \n",
       "7822  14.753563  "
      ]
     },
     "execution_count": 46,
     "metadata": {},
     "output_type": "execute_result"
    }
   ],
   "source": [
    "outlier = model.train_df[(model.train_df['condition'] == 2) & (model.train_df['target'] > 14.1)]\n",
    "outlier"
   ]
  },
  {
   "cell_type": "code",
   "execution_count": 47,
   "id": "automotive-emission",
   "metadata": {},
   "outputs": [
    {
     "name": "stdout",
     "output_type": "stream",
     "text": [
      "[100]\ttraining's l2: 0.0188392\ttraining's custom_RMSE: 87396.1\tvalid_1's l2: 0.0264268\tvalid_1's custom_RMSE: 104418\n",
      "[200]\ttraining's l2: 0.0143867\ttraining's custom_RMSE: 73382.6\tvalid_1's l2: 0.0257128\tvalid_1's custom_RMSE: 102934\n",
      "[300]\ttraining's l2: 0.0115439\ttraining's custom_RMSE: 64877.2\tvalid_1's l2: 0.0254143\tvalid_1's custom_RMSE: 103033\n",
      "[400]\ttraining's l2: 0.00954587\ttraining's custom_RMSE: 57811.7\tvalid_1's l2: 0.0254671\tvalid_1's custom_RMSE: 103176\n",
      "\n",
      " score가 악화되었습니다!  기존 RMSE 99773.92139572458 에서 103176.37883696244 로 증가했습니다. 이전 DataFrame으로 복구합니다. \n",
      "\n"
     ]
    }
   ],
   "source": [
    "model.drop_rows(outlier)\n",
    "model.compare_baseline()"
   ]
  },
  {
   "cell_type": "code",
   "execution_count": 48,
   "id": "norman-faculty",
   "metadata": {},
   "outputs": [
    {
     "data": {
      "text/html": [
       "<div>\n",
       "<style scoped>\n",
       "    .dataframe tbody tr th:only-of-type {\n",
       "        vertical-align: middle;\n",
       "    }\n",
       "\n",
       "    .dataframe tbody tr th {\n",
       "        vertical-align: top;\n",
       "    }\n",
       "\n",
       "    .dataframe thead th {\n",
       "        text-align: right;\n",
       "    }\n",
       "</style>\n",
       "<table border=\"1\" class=\"dataframe\">\n",
       "  <thead>\n",
       "    <tr style=\"text-align: right;\">\n",
       "      <th></th>\n",
       "      <th>date</th>\n",
       "      <th>bedrooms</th>\n",
       "      <th>bathrooms</th>\n",
       "      <th>sqft_living</th>\n",
       "      <th>sqft_lot</th>\n",
       "      <th>floors</th>\n",
       "      <th>waterfront</th>\n",
       "      <th>view</th>\n",
       "      <th>condition</th>\n",
       "      <th>grade</th>\n",
       "      <th>sqft_above</th>\n",
       "      <th>sqft_basement</th>\n",
       "      <th>yr_built</th>\n",
       "      <th>yr_renovated</th>\n",
       "      <th>zipcode</th>\n",
       "      <th>lat</th>\n",
       "      <th>long</th>\n",
       "      <th>sqft_living15</th>\n",
       "      <th>sqft_lot15</th>\n",
       "      <th>target</th>\n",
       "    </tr>\n",
       "  </thead>\n",
       "  <tbody>\n",
       "    <tr>\n",
       "      <th>947</th>\n",
       "      <td>20150413T000000</td>\n",
       "      <td>6</td>\n",
       "      <td>6.0</td>\n",
       "      <td>7390</td>\n",
       "      <td>24829</td>\n",
       "      <td>2.0</td>\n",
       "      <td>1</td>\n",
       "      <td>4</td>\n",
       "      <td>4</td>\n",
       "      <td>12</td>\n",
       "      <td>5000</td>\n",
       "      <td>2390</td>\n",
       "      <td>1991</td>\n",
       "      <td>0</td>\n",
       "      <td>98040</td>\n",
       "      <td>47.5631</td>\n",
       "      <td>-122.21</td>\n",
       "      <td>4320</td>\n",
       "      <td>24619</td>\n",
       "      <td>15.483217</td>\n",
       "    </tr>\n",
       "  </tbody>\n",
       "</table>\n",
       "</div>"
      ],
      "text/plain": [
       "                date  bedrooms  bathrooms  sqft_living  sqft_lot  floors  \\\n",
       "947  20150413T000000         6        6.0         7390     24829     2.0   \n",
       "\n",
       "     waterfront  view  condition  grade  sqft_above  sqft_basement  yr_built  \\\n",
       "947           1     4          4     12        5000           2390      1991   \n",
       "\n",
       "     yr_renovated  zipcode      lat    long  sqft_living15  sqft_lot15  \\\n",
       "947             0    98040  47.5631 -122.21           4320       24619   \n",
       "\n",
       "        target  \n",
       "947  15.483217  "
      ]
     },
     "execution_count": 48,
     "metadata": {},
     "output_type": "execute_result"
    }
   ],
   "source": [
    "outlier = model.train_df[(model.train_df['condition'] == 4) & (model.train_df['target'] > 15.3)]\n",
    "outlier"
   ]
  },
  {
   "cell_type": "code",
   "execution_count": 49,
   "id": "handled-glance",
   "metadata": {},
   "outputs": [
    {
     "name": "stdout",
     "output_type": "stream",
     "text": [
      "[100]\ttraining's l2: 0.0188554\ttraining's custom_RMSE: 86336.8\tvalid_1's l2: 0.0270805\tvalid_1's custom_RMSE: 113467\n",
      "[200]\ttraining's l2: 0.0144023\ttraining's custom_RMSE: 72569.4\tvalid_1's l2: 0.0269503\tvalid_1's custom_RMSE: 113855\n",
      "[300]\ttraining's l2: 0.0116145\ttraining's custom_RMSE: 64151.5\tvalid_1's l2: 0.026961\tvalid_1's custom_RMSE: 113608\n",
      "[400]\ttraining's l2: 0.00953199\ttraining's custom_RMSE: 57755\tvalid_1's l2: 0.0271671\tvalid_1's custom_RMSE: 114859\n",
      "\n",
      " score가 악화되었습니다!  기존 RMSE 99773.92139572458 에서 114858.90284181711 로 증가했습니다. 이전 DataFrame으로 복구합니다. \n",
      "\n"
     ]
    }
   ],
   "source": [
    "model.drop_rows(outlier)\n",
    "model.compare_baseline()"
   ]
  },
  {
   "cell_type": "markdown",
   "id": "accompanied-america",
   "metadata": {},
   "source": [
    "## 12. grade : King County grading 시스템 기준으로 매긴 집의 등급\n"
   ]
  },
  {
   "cell_type": "code",
   "execution_count": 50,
   "id": "infrared-defensive",
   "metadata": {},
   "outputs": [],
   "source": [
    "model.make_graph('grade')"
   ]
  },
  {
   "cell_type": "markdown",
   "id": "smoking-sacramento",
   "metadata": {},
   "source": [
    "<img src=https://i.ibb.co/qx49pXB/2021-10-18-02-01-34.png width=600></img>"
   ]
  },
  {
   "cell_type": "markdown",
   "id": "amino-equipment",
   "metadata": {},
   "source": [
    "## 17. zipcode : 우편번호\n"
   ]
  },
  {
   "cell_type": "code",
   "execution_count": 51,
   "id": "rational-contractor",
   "metadata": {},
   "outputs": [],
   "source": [
    "model.make_graph('zipcode')"
   ]
  },
  {
   "cell_type": "markdown",
   "id": "adverse-optimum",
   "metadata": {},
   "source": [
    "<img src=https://i.ibb.co/cyszznn/2021-10-18-02-02-05.png width=600></img>"
   ]
  },
  {
   "cell_type": "markdown",
   "id": "japanese-collaboration",
   "metadata": {},
   "source": [
    "## 15. yr_built : 지어진 년도\n"
   ]
  },
  {
   "cell_type": "code",
   "execution_count": 52,
   "id": "lined-pierre",
   "metadata": {
    "scrolled": false
   },
   "outputs": [],
   "source": [
    "model.make_graph('yr_built')"
   ]
  },
  {
   "cell_type": "markdown",
   "id": "trained-choice",
   "metadata": {},
   "source": [
    "<img src=https://i.ibb.co/Vm9HJGV/2021-10-18-02-02-12.png width=600></img>"
   ]
  },
  {
   "cell_type": "markdown",
   "id": "dynamic-yukon",
   "metadata": {},
   "source": [
    "## 16. yr_renovated : 집을 재건축한 년도\n"
   ]
  },
  {
   "cell_type": "code",
   "execution_count": 53,
   "id": "brutal-constraint",
   "metadata": {
    "scrolled": false
   },
   "outputs": [],
   "source": [
    "model.make_graph('yr_renovated')"
   ]
  },
  {
   "cell_type": "markdown",
   "id": "temporal-potter",
   "metadata": {},
   "source": [
    "<img src=https://i.ibb.co/6wzV28w/2021-10-18-02-02-19.png width=600></img>"
   ]
  },
  {
   "cell_type": "markdown",
   "id": "agricultural-blood",
   "metadata": {},
   "source": [
    "# 연속형 컬럼"
   ]
  },
  {
   "cell_type": "markdown",
   "id": "architectural-charge",
   "metadata": {},
   "source": [
    "## 6. sqft_living : 주거 공간의 평방 피트(면적)\n"
   ]
  },
  {
   "cell_type": "code",
   "execution_count": 54,
   "id": "eastern-lingerie",
   "metadata": {},
   "outputs": [],
   "source": [
    "model.make_graph('sqft_living', Type='continuous')"
   ]
  },
  {
   "cell_type": "markdown",
   "id": "portuguese-animal",
   "metadata": {},
   "source": [
    "<img src=https://i.ibb.co/sK0tS0M/2021-10-18-02-03-42.png width=600></img>"
   ]
  },
  {
   "cell_type": "code",
   "execution_count": 55,
   "id": "local-polyester",
   "metadata": {},
   "outputs": [
    {
     "data": {
      "text/html": [
       "<div>\n",
       "<style scoped>\n",
       "    .dataframe tbody tr th:only-of-type {\n",
       "        vertical-align: middle;\n",
       "    }\n",
       "\n",
       "    .dataframe tbody tr th {\n",
       "        vertical-align: top;\n",
       "    }\n",
       "\n",
       "    .dataframe thead th {\n",
       "        text-align: right;\n",
       "    }\n",
       "</style>\n",
       "<table border=\"1\" class=\"dataframe\">\n",
       "  <thead>\n",
       "    <tr style=\"text-align: right;\">\n",
       "      <th></th>\n",
       "      <th>date</th>\n",
       "      <th>bedrooms</th>\n",
       "      <th>bathrooms</th>\n",
       "      <th>sqft_living</th>\n",
       "      <th>sqft_lot</th>\n",
       "      <th>floors</th>\n",
       "      <th>waterfront</th>\n",
       "      <th>view</th>\n",
       "      <th>condition</th>\n",
       "      <th>grade</th>\n",
       "      <th>sqft_above</th>\n",
       "      <th>sqft_basement</th>\n",
       "      <th>yr_built</th>\n",
       "      <th>yr_renovated</th>\n",
       "      <th>zipcode</th>\n",
       "      <th>lat</th>\n",
       "      <th>long</th>\n",
       "      <th>sqft_living15</th>\n",
       "      <th>sqft_lot15</th>\n",
       "      <th>target</th>\n",
       "    </tr>\n",
       "  </thead>\n",
       "  <tbody>\n",
       "    <tr>\n",
       "      <th>8912</th>\n",
       "      <td>20140505T000000</td>\n",
       "      <td>7</td>\n",
       "      <td>8.0</td>\n",
       "      <td>13540</td>\n",
       "      <td>307752</td>\n",
       "      <td>3.0</td>\n",
       "      <td>0</td>\n",
       "      <td>4</td>\n",
       "      <td>3</td>\n",
       "      <td>12</td>\n",
       "      <td>9410</td>\n",
       "      <td>4130</td>\n",
       "      <td>1999</td>\n",
       "      <td>0</td>\n",
       "      <td>98053</td>\n",
       "      <td>47.6675</td>\n",
       "      <td>-121.986</td>\n",
       "      <td>4850</td>\n",
       "      <td>217800</td>\n",
       "      <td>14.639686</td>\n",
       "    </tr>\n",
       "  </tbody>\n",
       "</table>\n",
       "</div>"
      ],
      "text/plain": [
       "                 date  bedrooms  bathrooms  sqft_living  sqft_lot  floors  \\\n",
       "8912  20140505T000000         7        8.0        13540    307752     3.0   \n",
       "\n",
       "      waterfront  view  condition  grade  sqft_above  sqft_basement  yr_built  \\\n",
       "8912           0     4          3     12        9410           4130      1999   \n",
       "\n",
       "      yr_renovated  zipcode      lat     long  sqft_living15  sqft_lot15  \\\n",
       "8912             0    98053  47.6675 -121.986           4850      217800   \n",
       "\n",
       "         target  \n",
       "8912  14.639686  "
      ]
     },
     "execution_count": 55,
     "metadata": {},
     "output_type": "execute_result"
    }
   ],
   "source": [
    "outlier = model.train_df[(model.train_df['sqft_living'] > 12000 ) & (model.train_df['target'] > 14)]\n",
    "outlier"
   ]
  },
  {
   "cell_type": "code",
   "execution_count": 56,
   "id": "dangerous-catering",
   "metadata": {},
   "outputs": [
    {
     "name": "stdout",
     "output_type": "stream",
     "text": [
      "[100]\ttraining's l2: 0.0188509\ttraining's custom_RMSE: 86292.8\tvalid_1's l2: 0.0266213\tvalid_1's custom_RMSE: 113215\n",
      "[200]\ttraining's l2: 0.0145\ttraining's custom_RMSE: 72631.7\tvalid_1's l2: 0.0260682\tvalid_1's custom_RMSE: 111919\n",
      "[300]\ttraining's l2: 0.0117199\ttraining's custom_RMSE: 63995.9\tvalid_1's l2: 0.0261437\tvalid_1's custom_RMSE: 112462\n",
      "[400]\ttraining's l2: 0.00967657\ttraining's custom_RMSE: 57041.8\tvalid_1's l2: 0.0260506\tvalid_1's custom_RMSE: 113051\n",
      "\n",
      " score가 악화되었습니다!  기존 RMSE 99773.92139572458 에서 113051.3488176749 로 증가했습니다. 이전 DataFrame으로 복구합니다. \n",
      "\n"
     ]
    }
   ],
   "source": [
    "model.drop_rows(outlier)\n",
    "model.compare_baseline()"
   ]
  },
  {
   "cell_type": "code",
   "execution_count": 57,
   "id": "common-projection",
   "metadata": {},
   "outputs": [
    {
     "name": "stdout",
     "output_type": "stream",
     "text": [
      "[100]\ttraining's l2: 0.0188903\ttraining's custom_RMSE: 89357\tvalid_1's l2: 0.025927\tvalid_1's custom_RMSE: 99497.1\n",
      "[200]\ttraining's l2: 0.0145176\ttraining's custom_RMSE: 74721.6\tvalid_1's l2: 0.0255064\tvalid_1's custom_RMSE: 98951.6\n",
      "[300]\ttraining's l2: 0.0117733\ttraining's custom_RMSE: 66431.2\tvalid_1's l2: 0.0253975\tvalid_1's custom_RMSE: 99720.4\n",
      "[400]\ttraining's l2: 0.00977215\ttraining's custom_RMSE: 59981.1\tvalid_1's l2: 0.0254669\tvalid_1's custom_RMSE: 99774.2\n",
      "\n",
      " score가 악화되었습니다!  기존 RMSE 99773.92139572458 에서 99774.23400778674 로 증가했습니다. 이전 DataFrame으로 복구합니다. \n",
      "\n"
     ]
    }
   ],
   "source": [
    "model.df['sqft_living'] = np.log(model.df['sqft_living']+1)\n",
    "model.compare_baseline()"
   ]
  },
  {
   "cell_type": "markdown",
   "id": "plain-divorce",
   "metadata": {},
   "source": [
    "## 7. sqft_lot : 부지의 평방 피트(면적)\n"
   ]
  },
  {
   "cell_type": "code",
   "execution_count": 58,
   "id": "violent-floor",
   "metadata": {},
   "outputs": [],
   "source": [
    "model.make_graph('sqft_lot', Type='continuous')"
   ]
  },
  {
   "cell_type": "markdown",
   "id": "outer-indicator",
   "metadata": {},
   "source": [
    "<img src=https://i.ibb.co/kB6XXW0/2021-10-18-02-03-49.png width=600></img>"
   ]
  },
  {
   "cell_type": "code",
   "execution_count": 59,
   "id": "fatty-riding",
   "metadata": {},
   "outputs": [
    {
     "data": {
      "text/html": [
       "<div>\n",
       "<style scoped>\n",
       "    .dataframe tbody tr th:only-of-type {\n",
       "        vertical-align: middle;\n",
       "    }\n",
       "\n",
       "    .dataframe tbody tr th {\n",
       "        vertical-align: top;\n",
       "    }\n",
       "\n",
       "    .dataframe thead th {\n",
       "        text-align: right;\n",
       "    }\n",
       "</style>\n",
       "<table border=\"1\" class=\"dataframe\">\n",
       "  <thead>\n",
       "    <tr style=\"text-align: right;\">\n",
       "      <th></th>\n",
       "      <th>date</th>\n",
       "      <th>bedrooms</th>\n",
       "      <th>bathrooms</th>\n",
       "      <th>sqft_living</th>\n",
       "      <th>sqft_lot</th>\n",
       "      <th>floors</th>\n",
       "      <th>waterfront</th>\n",
       "      <th>view</th>\n",
       "      <th>condition</th>\n",
       "      <th>grade</th>\n",
       "      <th>sqft_above</th>\n",
       "      <th>sqft_basement</th>\n",
       "      <th>yr_built</th>\n",
       "      <th>yr_renovated</th>\n",
       "      <th>zipcode</th>\n",
       "      <th>lat</th>\n",
       "      <th>long</th>\n",
       "      <th>sqft_living15</th>\n",
       "      <th>sqft_lot15</th>\n",
       "      <th>target</th>\n",
       "    </tr>\n",
       "  </thead>\n",
       "  <tbody>\n",
       "    <tr>\n",
       "      <th>1231</th>\n",
       "      <td>20150327T000000</td>\n",
       "      <td>4</td>\n",
       "      <td>1.0</td>\n",
       "      <td>1300</td>\n",
       "      <td>1651359</td>\n",
       "      <td>1.0</td>\n",
       "      <td>0</td>\n",
       "      <td>3</td>\n",
       "      <td>4</td>\n",
       "      <td>6</td>\n",
       "      <td>1300</td>\n",
       "      <td>0</td>\n",
       "      <td>1920</td>\n",
       "      <td>0</td>\n",
       "      <td>98022</td>\n",
       "      <td>47.2313</td>\n",
       "      <td>-122.023</td>\n",
       "      <td>2560</td>\n",
       "      <td>425581</td>\n",
       "      <td>13.458836</td>\n",
       "    </tr>\n",
       "  </tbody>\n",
       "</table>\n",
       "</div>"
      ],
      "text/plain": [
       "                 date  bedrooms  bathrooms  sqft_living  sqft_lot  floors  \\\n",
       "1231  20150327T000000         4        1.0         1300   1651359     1.0   \n",
       "\n",
       "      waterfront  view  condition  grade  sqft_above  sqft_basement  yr_built  \\\n",
       "1231           0     3          4      6        1300              0      1920   \n",
       "\n",
       "      yr_renovated  zipcode      lat     long  sqft_living15  sqft_lot15  \\\n",
       "1231             0    98022  47.2313 -122.023           2560      425581   \n",
       "\n",
       "         target  \n",
       "1231  13.458836  "
      ]
     },
     "execution_count": 59,
     "metadata": {},
     "output_type": "execute_result"
    }
   ],
   "source": [
    "outlier = model.train_df[(model.train_df['sqft_lot'] > 1.5e6 ) & (model.train_df['target'] > 13)]\n",
    "outlier"
   ]
  },
  {
   "cell_type": "code",
   "execution_count": 60,
   "id": "diagnostic-scout",
   "metadata": {},
   "outputs": [
    {
     "name": "stdout",
     "output_type": "stream",
     "text": [
      "[100]\ttraining's l2: 0.0188723\ttraining's custom_RMSE: 88555.2\tvalid_1's l2: 0.026458\tvalid_1's custom_RMSE: 106779\n",
      "[200]\ttraining's l2: 0.0143527\ttraining's custom_RMSE: 73615.1\tvalid_1's l2: 0.0258275\tvalid_1's custom_RMSE: 104819\n",
      "[300]\ttraining's l2: 0.0115715\ttraining's custom_RMSE: 64149.1\tvalid_1's l2: 0.0258331\tvalid_1's custom_RMSE: 104707\n",
      "[400]\ttraining's l2: 0.00953633\ttraining's custom_RMSE: 57529.3\tvalid_1's l2: 0.0258735\tvalid_1's custom_RMSE: 104023\n",
      "\n",
      " score가 악화되었습니다!  기존 RMSE 99773.92139572458 에서 104022.70508000544 로 증가했습니다. 이전 DataFrame으로 복구합니다. \n",
      "\n"
     ]
    }
   ],
   "source": [
    "model.drop_rows(outlier)\n",
    "model.compare_baseline()"
   ]
  },
  {
   "cell_type": "code",
   "execution_count": 61,
   "id": "stunning-flesh",
   "metadata": {},
   "outputs": [
    {
     "name": "stdout",
     "output_type": "stream",
     "text": [
      "[100]\ttraining's l2: 0.0188903\ttraining's custom_RMSE: 89357\tvalid_1's l2: 0.0259268\tvalid_1's custom_RMSE: 99497\n",
      "[200]\ttraining's l2: 0.0145176\ttraining's custom_RMSE: 74721.6\tvalid_1's l2: 0.0255062\tvalid_1's custom_RMSE: 98951.5\n",
      "[300]\ttraining's l2: 0.0117733\ttraining's custom_RMSE: 66431.2\tvalid_1's l2: 0.0253946\tvalid_1's custom_RMSE: 99718.1\n",
      "[400]\ttraining's l2: 0.00977215\ttraining's custom_RMSE: 59981.1\tvalid_1's l2: 0.0254664\tvalid_1's custom_RMSE: 99773.8\n",
      "\n",
      " score가 개선되었습니다!  기존 RMSE 99773.92139572458 에서 99773.81798457142 로 줄었습니다. \n",
      "\n"
     ]
    }
   ],
   "source": [
    "model.df['sqft_lot'] = np.log(model.df['sqft_lot']+1)\n",
    "model.compare_baseline()"
   ]
  },
  {
   "cell_type": "markdown",
   "id": "isolated-accuracy",
   "metadata": {},
   "source": [
    "## 13. sqft_above : 지하실을 제외한 평방 피트(면적)\n"
   ]
  },
  {
   "cell_type": "code",
   "execution_count": 62,
   "id": "upper-picking",
   "metadata": {},
   "outputs": [],
   "source": [
    "model.make_graph('sqft_above', Type='continuous')"
   ]
  },
  {
   "cell_type": "markdown",
   "id": "smart-baghdad",
   "metadata": {},
   "source": [
    "<img src=https://i.ibb.co/rc3XZwp/2021-10-18-02-03-56.png width=600></img>"
   ]
  },
  {
   "cell_type": "code",
   "execution_count": 63,
   "id": "aging-vitamin",
   "metadata": {},
   "outputs": [
    {
     "name": "stdout",
     "output_type": "stream",
     "text": [
      "[100]\ttraining's l2: 0.0188903\ttraining's custom_RMSE: 89357\tvalid_1's l2: 0.0259268\tvalid_1's custom_RMSE: 99497\n",
      "[200]\ttraining's l2: 0.0145176\ttraining's custom_RMSE: 74721.6\tvalid_1's l2: 0.0255062\tvalid_1's custom_RMSE: 98951.5\n",
      "[300]\ttraining's l2: 0.0117733\ttraining's custom_RMSE: 66431.2\tvalid_1's l2: 0.0253946\tvalid_1's custom_RMSE: 99718.1\n",
      "[400]\ttraining's l2: 0.00977215\ttraining's custom_RMSE: 59981.1\tvalid_1's l2: 0.0254664\tvalid_1's custom_RMSE: 99773.8\n",
      "\n",
      " score가 악화되었습니다!  기존 RMSE 99773.81798457142 에서 99773.81798457142 로 증가했습니다. 이전 DataFrame으로 복구합니다. \n",
      "\n"
     ]
    }
   ],
   "source": [
    "model.df['sqft_above'] = np.log(model.df['sqft_above']+1)\n",
    "model.compare_baseline()"
   ]
  },
  {
   "cell_type": "markdown",
   "id": "painted-pasta",
   "metadata": {},
   "source": [
    "## 14. sqft_basement : 지하실의 평방 피트(면적)\n"
   ]
  },
  {
   "cell_type": "code",
   "execution_count": 64,
   "id": "periodic-farmer",
   "metadata": {},
   "outputs": [],
   "source": [
    "model.make_graph('sqft_basement', Type='continuous')"
   ]
  },
  {
   "cell_type": "markdown",
   "id": "included-portland",
   "metadata": {},
   "source": [
    "<img src=https://i.ibb.co/mbqcVcJ/2021-10-18-02-04-02.png width=600></img>"
   ]
  },
  {
   "cell_type": "code",
   "execution_count": 65,
   "id": "precise-drama",
   "metadata": {},
   "outputs": [
    {
     "name": "stdout",
     "output_type": "stream",
     "text": [
      "[100]\ttraining's l2: 0.0188903\ttraining's custom_RMSE: 89357\tvalid_1's l2: 0.0259268\tvalid_1's custom_RMSE: 99497\n",
      "[200]\ttraining's l2: 0.0145176\ttraining's custom_RMSE: 74721.6\tvalid_1's l2: 0.0255062\tvalid_1's custom_RMSE: 98951.5\n",
      "[300]\ttraining's l2: 0.0117733\ttraining's custom_RMSE: 66431.2\tvalid_1's l2: 0.0253946\tvalid_1's custom_RMSE: 99718.1\n",
      "[400]\ttraining's l2: 0.00977215\ttraining's custom_RMSE: 59981.1\tvalid_1's l2: 0.0254664\tvalid_1's custom_RMSE: 99773.8\n",
      "\n",
      " score가 악화되었습니다!  기존 RMSE 99773.81798457142 에서 99773.81798457142 로 증가했습니다. 이전 DataFrame으로 복구합니다. \n",
      "\n"
     ]
    }
   ],
   "source": [
    "model.df['sqft_basement'] = np.log(model.df['sqft_basement']+1)\n",
    "model.compare_baseline()"
   ]
  },
  {
   "cell_type": "markdown",
   "id": "pregnant-blake",
   "metadata": {},
   "source": [
    "## 18. lat : 위도\n"
   ]
  },
  {
   "cell_type": "code",
   "execution_count": 66,
   "id": "meaningful-frequency",
   "metadata": {},
   "outputs": [],
   "source": [
    "model.make_graph('lat', Type='continuous')"
   ]
  },
  {
   "cell_type": "markdown",
   "id": "grave-finland",
   "metadata": {},
   "source": [
    "<img src=https://i.ibb.co/JHNRX2X/2021-10-18-02-04-08.png width=600></img>"
   ]
  },
  {
   "cell_type": "markdown",
   "id": "responsible-compiler",
   "metadata": {},
   "source": [
    "## 19. long : 경도\n"
   ]
  },
  {
   "cell_type": "code",
   "execution_count": 67,
   "id": "medium-translation",
   "metadata": {},
   "outputs": [],
   "source": [
    "model.make_graph('long', Type='continuous')"
   ]
  },
  {
   "cell_type": "markdown",
   "id": "furnished-triangle",
   "metadata": {},
   "source": [
    "<img src=https://i.ibb.co/4gD61vg/2021-10-18-02-04-20.png width=600></img>"
   ]
  },
  {
   "cell_type": "markdown",
   "id": "unsigned-billion",
   "metadata": {},
   "source": [
    "## 20. sqft_living15\n",
    ": 2015년 기준 주거 공간의 평방 피트(면적, 집을 재건축했다면, 변화가 있을 수 있음)\n"
   ]
  },
  {
   "cell_type": "code",
   "execution_count": 68,
   "id": "technical-webcam",
   "metadata": {},
   "outputs": [],
   "source": [
    "model.make_graph('sqft_living15', Type='continuous')"
   ]
  },
  {
   "cell_type": "markdown",
   "id": "developmental-willow",
   "metadata": {},
   "source": [
    "<img src=https://i.ibb.co/t4NdjXh/2021-10-18-02-04-26.png width=600></img>"
   ]
  },
  {
   "cell_type": "code",
   "execution_count": 69,
   "id": "vanilla-maker",
   "metadata": {},
   "outputs": [
    {
     "data": {
      "text/html": [
       "<div>\n",
       "<style scoped>\n",
       "    .dataframe tbody tr th:only-of-type {\n",
       "        vertical-align: middle;\n",
       "    }\n",
       "\n",
       "    .dataframe tbody tr th {\n",
       "        vertical-align: top;\n",
       "    }\n",
       "\n",
       "    .dataframe thead th {\n",
       "        text-align: right;\n",
       "    }\n",
       "</style>\n",
       "<table border=\"1\" class=\"dataframe\">\n",
       "  <thead>\n",
       "    <tr style=\"text-align: right;\">\n",
       "      <th></th>\n",
       "      <th>date</th>\n",
       "      <th>bedrooms</th>\n",
       "      <th>bathrooms</th>\n",
       "      <th>sqft_living</th>\n",
       "      <th>sqft_lot</th>\n",
       "      <th>floors</th>\n",
       "      <th>waterfront</th>\n",
       "      <th>view</th>\n",
       "      <th>condition</th>\n",
       "      <th>grade</th>\n",
       "      <th>sqft_above</th>\n",
       "      <th>sqft_basement</th>\n",
       "      <th>yr_built</th>\n",
       "      <th>yr_renovated</th>\n",
       "      <th>zipcode</th>\n",
       "      <th>lat</th>\n",
       "      <th>long</th>\n",
       "      <th>sqft_living15</th>\n",
       "      <th>sqft_lot15</th>\n",
       "      <th>target</th>\n",
       "    </tr>\n",
       "  </thead>\n",
       "  <tbody>\n",
       "    <tr>\n",
       "      <th>9372</th>\n",
       "      <td>20150512T000000</td>\n",
       "      <td>3</td>\n",
       "      <td>2.75</td>\n",
       "      <td>2290</td>\n",
       "      <td>34548</td>\n",
       "      <td>2.0</td>\n",
       "      <td>0</td>\n",
       "      <td>3</td>\n",
       "      <td>4</td>\n",
       "      <td>7</td>\n",
       "      <td>2290</td>\n",
       "      <td>0</td>\n",
       "      <td>1984</td>\n",
       "      <td>0</td>\n",
       "      <td>98042</td>\n",
       "      <td>47.3691</td>\n",
       "      <td>-122.163</td>\n",
       "      <td>399</td>\n",
       "      <td>275299</td>\n",
       "      <td>13.191889</td>\n",
       "    </tr>\n",
       "    <tr>\n",
       "      <th>12007</th>\n",
       "      <td>20140616T000000</td>\n",
       "      <td>5</td>\n",
       "      <td>2.50</td>\n",
       "      <td>2760</td>\n",
       "      <td>8015</td>\n",
       "      <td>1.0</td>\n",
       "      <td>0</td>\n",
       "      <td>0</td>\n",
       "      <td>4</td>\n",
       "      <td>8</td>\n",
       "      <td>1600</td>\n",
       "      <td>1160</td>\n",
       "      <td>1960</td>\n",
       "      <td>0</td>\n",
       "      <td>98125</td>\n",
       "      <td>47.7255</td>\n",
       "      <td>-122.297</td>\n",
       "      <td>460</td>\n",
       "      <td>18000</td>\n",
       "      <td>12.842649</td>\n",
       "    </tr>\n",
       "  </tbody>\n",
       "</table>\n",
       "</div>"
      ],
      "text/plain": [
       "                  date  bedrooms  bathrooms  sqft_living  sqft_lot  floors  \\\n",
       "9372   20150512T000000         3       2.75         2290     34548     2.0   \n",
       "12007  20140616T000000         5       2.50         2760      8015     1.0   \n",
       "\n",
       "       waterfront  view  condition  grade  sqft_above  sqft_basement  \\\n",
       "9372            0     3          4      7        2290              0   \n",
       "12007           0     0          4      8        1600           1160   \n",
       "\n",
       "       yr_built  yr_renovated  zipcode      lat     long  sqft_living15  \\\n",
       "9372       1984             0    98042  47.3691 -122.163            399   \n",
       "12007      1960             0    98125  47.7255 -122.297            460   \n",
       "\n",
       "       sqft_lot15     target  \n",
       "9372       275299  13.191889  \n",
       "12007       18000  12.842649  "
      ]
     },
     "execution_count": 69,
     "metadata": {},
     "output_type": "execute_result"
    }
   ],
   "source": [
    "outlier = model.train_df[(model.train_df['sqft_living15'] < 500) & (model.train_df['target'] < 14)]\n",
    "outlier"
   ]
  },
  {
   "cell_type": "code",
   "execution_count": 70,
   "id": "opening-sending",
   "metadata": {},
   "outputs": [
    {
     "name": "stdout",
     "output_type": "stream",
     "text": [
      "[100]\ttraining's l2: 0.0188908\ttraining's custom_RMSE: 87215.2\tvalid_1's l2: 0.027266\tvalid_1's custom_RMSE: 107448\n",
      "[200]\ttraining's l2: 0.0144062\ttraining's custom_RMSE: 73399.8\tvalid_1's l2: 0.0265237\tvalid_1's custom_RMSE: 103027\n",
      "[300]\ttraining's l2: 0.0116511\ttraining's custom_RMSE: 64688.1\tvalid_1's l2: 0.0264249\tvalid_1's custom_RMSE: 102521\n",
      "[400]\ttraining's l2: 0.0096363\ttraining's custom_RMSE: 57779.3\tvalid_1's l2: 0.0264173\tvalid_1's custom_RMSE: 101928\n",
      "\n",
      " score가 악화되었습니다!  기존 RMSE 99773.81798457142 에서 101928.18393308033 로 증가했습니다. 이전 DataFrame으로 복구합니다. \n",
      "\n"
     ]
    }
   ],
   "source": [
    "model.drop_rows(outlier)\n",
    "model.compare_baseline()"
   ]
  },
  {
   "cell_type": "code",
   "execution_count": 71,
   "id": "wicked-variety",
   "metadata": {},
   "outputs": [
    {
     "name": "stdout",
     "output_type": "stream",
     "text": [
      "[100]\ttraining's l2: 0.0188903\ttraining's custom_RMSE: 89357\tvalid_1's l2: 0.0259268\tvalid_1's custom_RMSE: 99497\n",
      "[200]\ttraining's l2: 0.0145176\ttraining's custom_RMSE: 74721.6\tvalid_1's l2: 0.0255062\tvalid_1's custom_RMSE: 98951.5\n",
      "[300]\ttraining's l2: 0.0117733\ttraining's custom_RMSE: 66431.2\tvalid_1's l2: 0.0253946\tvalid_1's custom_RMSE: 99718.1\n",
      "[400]\ttraining's l2: 0.00977215\ttraining's custom_RMSE: 59981.1\tvalid_1's l2: 0.0254664\tvalid_1's custom_RMSE: 99773.8\n",
      "\n",
      " score가 악화되었습니다!  기존 RMSE 99773.81798457142 에서 99773.81798457142 로 증가했습니다. 이전 DataFrame으로 복구합니다. \n",
      "\n"
     ]
    }
   ],
   "source": [
    "model.df['sqft_living15'] = np.log(model.df['sqft_living15']+1)\n",
    "model.compare_baseline()"
   ]
  },
  {
   "cell_type": "markdown",
   "id": "closing-fifteen",
   "metadata": {},
   "source": [
    "## 21. sqft_lot15\n",
    ": 2015년 기준 부지의 평방 피트(면적, 집을 재건축했다면, 변화가 있을 수 있음)\n",
    "\n"
   ]
  },
  {
   "cell_type": "code",
   "execution_count": 72,
   "id": "medical-prison",
   "metadata": {},
   "outputs": [],
   "source": [
    "model.make_graph('sqft_lot15', Type='continuous')"
   ]
  },
  {
   "cell_type": "markdown",
   "id": "quick-threat",
   "metadata": {},
   "source": [
    "<img src=https://i.ibb.co/51s5CB8/2021-10-18-02-04-32.png width=600></img>"
   ]
  },
  {
   "cell_type": "code",
   "execution_count": 73,
   "id": "persistent-tournament",
   "metadata": {},
   "outputs": [
    {
     "data": {
      "text/html": [
       "<div>\n",
       "<style scoped>\n",
       "    .dataframe tbody tr th:only-of-type {\n",
       "        vertical-align: middle;\n",
       "    }\n",
       "\n",
       "    .dataframe tbody tr th {\n",
       "        vertical-align: top;\n",
       "    }\n",
       "\n",
       "    .dataframe thead th {\n",
       "        text-align: right;\n",
       "    }\n",
       "</style>\n",
       "<table border=\"1\" class=\"dataframe\">\n",
       "  <thead>\n",
       "    <tr style=\"text-align: right;\">\n",
       "      <th></th>\n",
       "      <th>date</th>\n",
       "      <th>bedrooms</th>\n",
       "      <th>bathrooms</th>\n",
       "      <th>sqft_living</th>\n",
       "      <th>sqft_lot</th>\n",
       "      <th>floors</th>\n",
       "      <th>waterfront</th>\n",
       "      <th>view</th>\n",
       "      <th>condition</th>\n",
       "      <th>grade</th>\n",
       "      <th>sqft_above</th>\n",
       "      <th>sqft_basement</th>\n",
       "      <th>yr_built</th>\n",
       "      <th>yr_renovated</th>\n",
       "      <th>zipcode</th>\n",
       "      <th>lat</th>\n",
       "      <th>long</th>\n",
       "      <th>sqft_living15</th>\n",
       "      <th>sqft_lot15</th>\n",
       "      <th>target</th>\n",
       "    </tr>\n",
       "  </thead>\n",
       "  <tbody>\n",
       "    <tr>\n",
       "      <th>6779</th>\n",
       "      <td>20150107T000000</td>\n",
       "      <td>4</td>\n",
       "      <td>4.0</td>\n",
       "      <td>5545</td>\n",
       "      <td>871200</td>\n",
       "      <td>2.0</td>\n",
       "      <td>0</td>\n",
       "      <td>0</td>\n",
       "      <td>3</td>\n",
       "      <td>11</td>\n",
       "      <td>3605</td>\n",
       "      <td>1940</td>\n",
       "      <td>2003</td>\n",
       "      <td>0</td>\n",
       "      <td>98014</td>\n",
       "      <td>47.676</td>\n",
       "      <td>-121.882</td>\n",
       "      <td>3420</td>\n",
       "      <td>871200</td>\n",
       "      <td>13.750972</td>\n",
       "    </tr>\n",
       "    <tr>\n",
       "      <th>14225</th>\n",
       "      <td>20150415T000000</td>\n",
       "      <td>4</td>\n",
       "      <td>5.5</td>\n",
       "      <td>6530</td>\n",
       "      <td>871200</td>\n",
       "      <td>2.0</td>\n",
       "      <td>0</td>\n",
       "      <td>2</td>\n",
       "      <td>3</td>\n",
       "      <td>11</td>\n",
       "      <td>6530</td>\n",
       "      <td>0</td>\n",
       "      <td>2008</td>\n",
       "      <td>0</td>\n",
       "      <td>98014</td>\n",
       "      <td>47.664</td>\n",
       "      <td>-121.878</td>\n",
       "      <td>1280</td>\n",
       "      <td>858132</td>\n",
       "      <td>14.285514</td>\n",
       "    </tr>\n",
       "  </tbody>\n",
       "</table>\n",
       "</div>"
      ],
      "text/plain": [
       "                  date  bedrooms  bathrooms  sqft_living  sqft_lot  floors  \\\n",
       "6779   20150107T000000         4        4.0         5545    871200     2.0   \n",
       "14225  20150415T000000         4        5.5         6530    871200     2.0   \n",
       "\n",
       "       waterfront  view  condition  grade  sqft_above  sqft_basement  \\\n",
       "6779            0     0          3     11        3605           1940   \n",
       "14225           0     2          3     11        6530              0   \n",
       "\n",
       "       yr_built  yr_renovated  zipcode     lat     long  sqft_living15  \\\n",
       "6779       2003             0    98014  47.676 -121.882           3420   \n",
       "14225      2008             0    98014  47.664 -121.878           1280   \n",
       "\n",
       "       sqft_lot15     target  \n",
       "6779       871200  13.750972  \n",
       "14225      858132  14.285514  "
      ]
     },
     "execution_count": 73,
     "metadata": {},
     "output_type": "execute_result"
    }
   ],
   "source": [
    "outlier = model.train_df[(model.train_df['sqft_lot15'] > 8e5)]\n",
    "outlier"
   ]
  },
  {
   "cell_type": "code",
   "execution_count": 74,
   "id": "supposed-substitute",
   "metadata": {},
   "outputs": [
    {
     "name": "stdout",
     "output_type": "stream",
     "text": [
      "[100]\ttraining's l2: 0.0191398\ttraining's custom_RMSE: 88948.7\tvalid_1's l2: 0.0255405\tvalid_1's custom_RMSE: 104970\n",
      "[200]\ttraining's l2: 0.0145095\ttraining's custom_RMSE: 74801.9\tvalid_1's l2: 0.025102\tvalid_1's custom_RMSE: 100923\n",
      "[300]\ttraining's l2: 0.0116175\ttraining's custom_RMSE: 66544.2\tvalid_1's l2: 0.0250605\tvalid_1's custom_RMSE: 100805\n",
      "[400]\ttraining's l2: 0.00947919\ttraining's custom_RMSE: 59168.2\tvalid_1's l2: 0.0250894\tvalid_1's custom_RMSE: 100378\n",
      "\n",
      " score가 악화되었습니다!  기존 RMSE 99773.81798457142 에서 100378.4913862586 로 증가했습니다. 이전 DataFrame으로 복구합니다. \n",
      "\n"
     ]
    }
   ],
   "source": [
    "model.drop_rows(outlier)\n",
    "model.compare_baseline()"
   ]
  },
  {
   "cell_type": "code",
   "execution_count": 75,
   "id": "sought-gabriel",
   "metadata": {},
   "outputs": [
    {
     "name": "stdout",
     "output_type": "stream",
     "text": [
      "[100]\ttraining's l2: 0.0188903\ttraining's custom_RMSE: 89357\tvalid_1's l2: 0.0259268\tvalid_1's custom_RMSE: 99497\n",
      "[200]\ttraining's l2: 0.0145176\ttraining's custom_RMSE: 74721.6\tvalid_1's l2: 0.0255062\tvalid_1's custom_RMSE: 98951.5\n",
      "[300]\ttraining's l2: 0.0117733\ttraining's custom_RMSE: 66431.2\tvalid_1's l2: 0.0253946\tvalid_1's custom_RMSE: 99718.1\n",
      "[400]\ttraining's l2: 0.00977215\ttraining's custom_RMSE: 59981.1\tvalid_1's l2: 0.0254664\tvalid_1's custom_RMSE: 99773.8\n",
      "\n",
      " score가 악화되었습니다!  기존 RMSE 99773.81798457142 에서 99773.81798457142 로 증가했습니다. 이전 DataFrame으로 복구합니다. \n",
      "\n"
     ]
    }
   ],
   "source": [
    "model.df['sqft_lot15'] = np.log(model.df['sqft_lot15']+1)\n",
    "model.compare_baseline()"
   ]
  },
  {
   "cell_type": "markdown",
   "id": "cheap-junior",
   "metadata": {},
   "source": [
    "# 이상치 제거 후, test set 평가"
   ]
  },
  {
   "cell_type": "code",
   "execution_count": 76,
   "id": "civilian-agreement",
   "metadata": {
    "scrolled": true
   },
   "outputs": [],
   "source": [
    "pred = model.make_prediction()\n",
    "submission['price'] = pred\n",
    "submission.to_csv('submission.csv', index=False)\n",
    "!kaggle competitions submit -c 2019-2nd-ml-month-with-kakr -f submission.csv -m \"target값 로그 적용, 아웃라이어 제거\""
   ]
  },
  {
   "cell_type": "markdown",
   "id": "presidential-brief",
   "metadata": {},
   "source": [
    "<img src=https://i.ibb.co/zFZ6XcJ/2021-10-18-10-02-56.png width=768></img>"
   ]
  },
  {
   "cell_type": "markdown",
   "id": "extra-justice",
   "metadata": {},
   "source": [
    "# Feature Engineering"
   ]
  },
  {
   "cell_type": "code",
   "execution_count": 77,
   "id": "freelance-preliminary",
   "metadata": {},
   "outputs": [
    {
     "name": "stdout",
     "output_type": "stream",
     "text": [
      "[100]\ttraining's l2: 0.0190085\ttraining's custom_RMSE: 88736.8\tvalid_1's l2: 0.0262718\tvalid_1's custom_RMSE: 100817\n",
      "[200]\ttraining's l2: 0.0145556\ttraining's custom_RMSE: 75064.7\tvalid_1's l2: 0.0257571\tvalid_1's custom_RMSE: 100103\n",
      "[300]\ttraining's l2: 0.0117735\ttraining's custom_RMSE: 66256.9\tvalid_1's l2: 0.0255424\tvalid_1's custom_RMSE: 100120\n",
      "[400]\ttraining's l2: 0.00961879\ttraining's custom_RMSE: 60065.7\tvalid_1's l2: 0.0255119\tvalid_1's custom_RMSE: 100381\n",
      "\n",
      " 현재 수동모드입니다. rmse가 악화되도 이전 DataFrame으로 복구 하지 않습니다. 기존 RMSE 99773.81798457142 에서 100380.591919148 로 변했습니다. \n",
      "\n"
     ]
    }
   ],
   "source": [
    "model.df['allrooms'] = model.df['bedrooms'] + model.df['bathrooms']\n",
    "model.compare_baseline(True)"
   ]
  },
  {
   "cell_type": "code",
   "execution_count": 78,
   "id": "distributed-tucson",
   "metadata": {},
   "outputs": [
    {
     "name": "stdout",
     "output_type": "stream",
     "text": [
      "[100]\ttraining's l2: 0.0190312\ttraining's custom_RMSE: 89126\tvalid_1's l2: 0.0264592\tvalid_1's custom_RMSE: 100695\n",
      "[200]\ttraining's l2: 0.0146045\ttraining's custom_RMSE: 74785.1\tvalid_1's l2: 0.0257505\tvalid_1's custom_RMSE: 100816\n",
      "[300]\ttraining's l2: 0.0117504\ttraining's custom_RMSE: 66035.1\tvalid_1's l2: 0.0256176\tvalid_1's custom_RMSE: 100790\n",
      "[400]\ttraining's l2: 0.00956293\ttraining's custom_RMSE: 58318.5\tvalid_1's l2: 0.0254657\tvalid_1's custom_RMSE: 100804\n",
      "\n",
      " 현재 수동모드입니다. rmse가 악화되도 이전 DataFrame으로 복구 하지 않습니다. 기존 RMSE 99773.81798457142 에서 100803.65338876084 로 변했습니다. \n",
      "\n"
     ]
    }
   ],
   "source": [
    "model.df['diff_rooms'] = model.df['bedrooms'] - model.df['bathrooms']\n",
    "model.compare_baseline(True)"
   ]
  },
  {
   "cell_type": "code",
   "execution_count": 79,
   "id": "entertaining-credits",
   "metadata": {},
   "outputs": [
    {
     "name": "stdout",
     "output_type": "stream",
     "text": [
      "[100]\ttraining's l2: 0.0189904\ttraining's custom_RMSE: 87888.8\tvalid_1's l2: 0.0260372\tvalid_1's custom_RMSE: 99100.2\n",
      "[200]\ttraining's l2: 0.0144344\ttraining's custom_RMSE: 73993\tvalid_1's l2: 0.0252778\tvalid_1's custom_RMSE: 99362.8\n",
      "[300]\ttraining's l2: 0.0116527\ttraining's custom_RMSE: 65031.4\tvalid_1's l2: 0.0249746\tvalid_1's custom_RMSE: 99143.3\n",
      "[400]\ttraining's l2: 0.00958953\ttraining's custom_RMSE: 58445.5\tvalid_1's l2: 0.025071\tvalid_1's custom_RMSE: 98919.6\n",
      "\n",
      " score가 개선되었습니다!  기존 RMSE 99773.81798457142 에서 98919.64985349694 로 줄었습니다. \n",
      "\n"
     ]
    }
   ],
   "source": [
    "model.df['ratio_rooms'] =  model.df['bathrooms'] / model.df['bedrooms']\n",
    "model.compare_baseline(True)"
   ]
  },
  {
   "cell_type": "code",
   "execution_count": 80,
   "id": "crucial-vatican",
   "metadata": {
    "scrolled": true
   },
   "outputs": [
    {
     "name": "stdout",
     "output_type": "stream",
     "text": [
      "[100]\ttraining's l2: 0.0188548\ttraining's custom_RMSE: 87672.4\tvalid_1's l2: 0.0258355\tvalid_1's custom_RMSE: 97664\n",
      "[200]\ttraining's l2: 0.0143701\ttraining's custom_RMSE: 73412\tvalid_1's l2: 0.0254699\tvalid_1's custom_RMSE: 96779.1\n",
      "[300]\ttraining's l2: 0.0115105\ttraining's custom_RMSE: 64099.7\tvalid_1's l2: 0.0252538\tvalid_1's custom_RMSE: 96279.1\n",
      "[400]\ttraining's l2: 0.00935684\ttraining's custom_RMSE: 57034.2\tvalid_1's l2: 0.0252766\tvalid_1's custom_RMSE: 96031.7\n",
      "\n",
      " score가 개선되었습니다!  기존 RMSE 98919.64985349694 에서 96031.70697994315 로 줄었습니다. \n",
      "\n"
     ]
    }
   ],
   "source": [
    "model.df['grade2'] = model.df['condition'] + model.df['grade']\n",
    "model.compare_baseline(True)"
   ]
  },
  {
   "cell_type": "code",
   "execution_count": 81,
   "id": "internal-scene",
   "metadata": {},
   "outputs": [
    {
     "name": "stdout",
     "output_type": "stream",
     "text": [
      "[100]\ttraining's l2: 0.0188143\ttraining's custom_RMSE: 89212.3\tvalid_1's l2: 0.0259439\tvalid_1's custom_RMSE: 100389\n",
      "[200]\ttraining's l2: 0.0141617\ttraining's custom_RMSE: 74510.3\tvalid_1's l2: 0.0253241\tvalid_1's custom_RMSE: 99955\n",
      "[300]\ttraining's l2: 0.0114483\ttraining's custom_RMSE: 65300.5\tvalid_1's l2: 0.0252268\tvalid_1's custom_RMSE: 100375\n",
      "[400]\ttraining's l2: 0.00927019\ttraining's custom_RMSE: 58127.3\tvalid_1's l2: 0.0252124\tvalid_1's custom_RMSE: 99895.3\n",
      "\n",
      " 현재 수동모드입니다. rmse가 악화되도 이전 DataFrame으로 복구 하지 않습니다. 기존 RMSE 96031.70697994315 에서 99895.28613897813 로 변했습니다. \n",
      "\n"
     ]
    }
   ],
   "source": [
    "model.df['grade3'] = model.df['condition'] - model.df['grade']\n",
    "model.compare_baseline(True)"
   ]
  },
  {
   "cell_type": "code",
   "execution_count": 82,
   "id": "incomplete-jones",
   "metadata": {},
   "outputs": [
    {
     "name": "stdout",
     "output_type": "stream",
     "text": [
      "[100]\ttraining's l2: 0.0189774\ttraining's custom_RMSE: 88119.7\tvalid_1's l2: 0.025953\tvalid_1's custom_RMSE: 100459\n",
      "[200]\ttraining's l2: 0.0143716\ttraining's custom_RMSE: 74317.2\tvalid_1's l2: 0.0251713\tvalid_1's custom_RMSE: 99756.9\n",
      "[300]\ttraining's l2: 0.0115783\ttraining's custom_RMSE: 65534.4\tvalid_1's l2: 0.0250213\tvalid_1's custom_RMSE: 100436\n",
      "[400]\ttraining's l2: 0.00943431\ttraining's custom_RMSE: 58545.2\tvalid_1's l2: 0.0250556\tvalid_1's custom_RMSE: 101186\n",
      "\n",
      " 현재 수동모드입니다. rmse가 악화되도 이전 DataFrame으로 복구 하지 않습니다. 기존 RMSE 96031.70697994315 에서 101185.7266306191 로 변했습니다. \n",
      "\n"
     ]
    }
   ],
   "source": [
    "model.df['grade4'] = model.df['view'] + model.df['grade']\n",
    "model.compare_baseline(True)"
   ]
  },
  {
   "cell_type": "code",
   "execution_count": 83,
   "id": "advised-deviation",
   "metadata": {},
   "outputs": [
    {
     "name": "stdout",
     "output_type": "stream",
     "text": [
      "[100]\ttraining's l2: 0.0190011\ttraining's custom_RMSE: 88567.4\tvalid_1's l2: 0.0260692\tvalid_1's custom_RMSE: 99844.5\n",
      "[200]\ttraining's l2: 0.0144634\ttraining's custom_RMSE: 73775.1\tvalid_1's l2: 0.02538\tvalid_1's custom_RMSE: 98879.2\n",
      "[300]\ttraining's l2: 0.0116192\ttraining's custom_RMSE: 64875.3\tvalid_1's l2: 0.0251906\tvalid_1's custom_RMSE: 99307.2\n",
      "[400]\ttraining's l2: 0.00946608\ttraining's custom_RMSE: 58379.6\tvalid_1's l2: 0.025092\tvalid_1's custom_RMSE: 99137.4\n",
      "\n",
      " 현재 수동모드입니다. rmse가 악화되도 이전 DataFrame으로 복구 하지 않습니다. 기존 RMSE 96031.70697994315 에서 99137.4402581968 로 변했습니다. \n",
      "\n"
     ]
    }
   ],
   "source": [
    "model.df['grade5'] = model.df['view'] - model.df['grade']\n",
    "model.compare_baseline(True)"
   ]
  },
  {
   "cell_type": "code",
   "execution_count": 84,
   "id": "religious-favorite",
   "metadata": {},
   "outputs": [
    {
     "name": "stdout",
     "output_type": "stream",
     "text": [
      "[100]\ttraining's l2: 0.0189032\ttraining's custom_RMSE: 88498.9\tvalid_1's l2: 0.0261719\tvalid_1's custom_RMSE: 100640\n",
      "[200]\ttraining's l2: 0.0143456\ttraining's custom_RMSE: 74027.3\tvalid_1's l2: 0.0255895\tvalid_1's custom_RMSE: 101386\n",
      "[300]\ttraining's l2: 0.0116264\ttraining's custom_RMSE: 65086.4\tvalid_1's l2: 0.0253128\tvalid_1's custom_RMSE: 102026\n",
      "[400]\ttraining's l2: 0.00943575\ttraining's custom_RMSE: 57699.6\tvalid_1's l2: 0.0252523\tvalid_1's custom_RMSE: 102126\n",
      "\n",
      " 현재 수동모드입니다. rmse가 악화되도 이전 DataFrame으로 복구 하지 않습니다. 기존 RMSE 96031.70697994315 에서 102126.40531861404 로 변했습니다. \n",
      "\n"
     ]
    }
   ],
   "source": [
    "model.df['grade6'] = model.df['view'] + model.df['condition']\n",
    "model.compare_baseline(True)"
   ]
  },
  {
   "cell_type": "code",
   "execution_count": 85,
   "id": "based-assault",
   "metadata": {
    "scrolled": true
   },
   "outputs": [
    {
     "name": "stdout",
     "output_type": "stream",
     "text": [
      "[100]\ttraining's l2: 0.0187681\ttraining's custom_RMSE: 88505.6\tvalid_1's l2: 0.0260449\tvalid_1's custom_RMSE: 100020\n",
      "[200]\ttraining's l2: 0.0142909\ttraining's custom_RMSE: 74592.9\tvalid_1's l2: 0.0252666\tvalid_1's custom_RMSE: 99287.2\n",
      "[300]\ttraining's l2: 0.0115298\ttraining's custom_RMSE: 64722.6\tvalid_1's l2: 0.0252168\tvalid_1's custom_RMSE: 99923.4\n",
      "[400]\ttraining's l2: 0.00948072\ttraining's custom_RMSE: 58199.5\tvalid_1's l2: 0.0252918\tvalid_1's custom_RMSE: 100641\n",
      "\n",
      " 현재 수동모드입니다. rmse가 악화되도 이전 DataFrame으로 복구 하지 않습니다. 기존 RMSE 96031.70697994315 에서 100641.10177101255 로 변했습니다. \n",
      "\n"
     ]
    }
   ],
   "source": [
    "model.df['grade7'] = model.df['view'] - model.df['condition']\n",
    "model.compare_baseline(True)"
   ]
  },
  {
   "cell_type": "code",
   "execution_count": 86,
   "id": "diverse-basics",
   "metadata": {},
   "outputs": [
    {
     "name": "stdout",
     "output_type": "stream",
     "text": [
      "[100]\ttraining's l2: 0.0189291\ttraining's custom_RMSE: 87904.3\tvalid_1's l2: 0.025793\tvalid_1's custom_RMSE: 98955.1\n",
      "[200]\ttraining's l2: 0.0142695\ttraining's custom_RMSE: 73556\tvalid_1's l2: 0.0251527\tvalid_1's custom_RMSE: 99169.4\n",
      "[300]\ttraining's l2: 0.0114606\ttraining's custom_RMSE: 65139.4\tvalid_1's l2: 0.0249198\tvalid_1's custom_RMSE: 99015.4\n",
      "[400]\ttraining's l2: 0.0093293\ttraining's custom_RMSE: 57864.6\tvalid_1's l2: 0.0249174\tvalid_1's custom_RMSE: 99580.4\n",
      "\n",
      " 현재 수동모드입니다. rmse가 악화되도 이전 DataFrame으로 복구 하지 않습니다. 기존 RMSE 96031.70697994315 에서 99580.37506620395 로 변했습니다. \n",
      "\n"
     ]
    }
   ],
   "source": [
    "model.df['diff_sqft'] = model.df['sqft_lot'] - model.df['sqft_living']\n",
    "model.compare_baseline(True)"
   ]
  },
  {
   "cell_type": "code",
   "execution_count": 87,
   "id": "advance-pillow",
   "metadata": {},
   "outputs": [
    {
     "name": "stdout",
     "output_type": "stream",
     "text": [
      "[100]\ttraining's l2: 0.0188397\ttraining's custom_RMSE: 88293.2\tvalid_1's l2: 0.0258996\tvalid_1's custom_RMSE: 100698\n",
      "[200]\ttraining's l2: 0.0142397\ttraining's custom_RMSE: 74290.7\tvalid_1's l2: 0.0252817\tvalid_1's custom_RMSE: 100970\n",
      "[300]\ttraining's l2: 0.0114327\ttraining's custom_RMSE: 65599.7\tvalid_1's l2: 0.0252224\tvalid_1's custom_RMSE: 101383\n",
      "[400]\ttraining's l2: 0.00941357\ttraining's custom_RMSE: 58546.7\tvalid_1's l2: 0.0252256\tvalid_1's custom_RMSE: 101779\n",
      "\n",
      " 현재 수동모드입니다. rmse가 악화되도 이전 DataFrame으로 복구 하지 않습니다. 기존 RMSE 96031.70697994315 에서 101779.22404406714 로 변했습니다. \n",
      "\n"
     ]
    }
   ],
   "source": [
    "model.df['ratio_sqft'] = model.df['sqft_living'] / model.df['sqft_lot']\n",
    "model.compare_baseline(True)"
   ]
  },
  {
   "cell_type": "code",
   "execution_count": 88,
   "id": "coupled-collect",
   "metadata": {},
   "outputs": [
    {
     "name": "stdout",
     "output_type": "stream",
     "text": [
      "[100]\ttraining's l2: 0.0187488\ttraining's custom_RMSE: 87601.6\tvalid_1's l2: 0.0260943\tvalid_1's custom_RMSE: 100962\n",
      "[200]\ttraining's l2: 0.0140329\ttraining's custom_RMSE: 74475.1\tvalid_1's l2: 0.0250963\tvalid_1's custom_RMSE: 99450.8\n",
      "[300]\ttraining's l2: 0.0111227\ttraining's custom_RMSE: 65047.4\tvalid_1's l2: 0.0250674\tvalid_1's custom_RMSE: 99979.7\n",
      "[400]\ttraining's l2: 0.00905455\ttraining's custom_RMSE: 56308.8\tvalid_1's l2: 0.0250201\tvalid_1's custom_RMSE: 101053\n",
      "\n",
      " 현재 수동모드입니다. rmse가 악화되도 이전 DataFrame으로 복구 하지 않습니다. 기존 RMSE 96031.70697994315 에서 101053.34631561565 로 변했습니다. \n",
      "\n"
     ]
    }
   ],
   "source": [
    "model.df['sqft_living152'] = model.df['sqft_living15'] - model.df['sqft_living']\n",
    "model.compare_baseline(True)"
   ]
  },
  {
   "cell_type": "code",
   "execution_count": 89,
   "id": "convinced-trinity",
   "metadata": {},
   "outputs": [
    {
     "name": "stdout",
     "output_type": "stream",
     "text": [
      "[100]\ttraining's l2: 0.0186522\ttraining's custom_RMSE: 88307.1\tvalid_1's l2: 0.0258376\tvalid_1's custom_RMSE: 98771.5\n",
      "[200]\ttraining's l2: 0.0140869\ttraining's custom_RMSE: 73891.4\tvalid_1's l2: 0.0251918\tvalid_1's custom_RMSE: 98543.2\n",
      "[300]\ttraining's l2: 0.0110959\ttraining's custom_RMSE: 64410.8\tvalid_1's l2: 0.0250145\tvalid_1's custom_RMSE: 98664.4\n",
      "[400]\ttraining's l2: 0.00909193\ttraining's custom_RMSE: 56716.2\tvalid_1's l2: 0.0251238\tvalid_1's custom_RMSE: 99318.2\n",
      "\n",
      " 현재 수동모드입니다. rmse가 악화되도 이전 DataFrame으로 복구 하지 않습니다. 기존 RMSE 96031.70697994315 에서 99318.2074353779 로 변했습니다. \n",
      "\n"
     ]
    }
   ],
   "source": [
    "model.df['sqft_lot152'] = model.df['sqft_lot15'] - model.df['sqft_lot']\n",
    "model.compare_baseline(True)"
   ]
  },
  {
   "cell_type": "code",
   "execution_count": 90,
   "id": "usual-vegetarian",
   "metadata": {},
   "outputs": [
    {
     "name": "stdout",
     "output_type": "stream",
     "text": [
      "[100]\ttraining's l2: 0.0186351\ttraining's custom_RMSE: 87741.2\tvalid_1's l2: 0.026089\tvalid_1's custom_RMSE: 100624\n",
      "[200]\ttraining's l2: 0.0138856\ttraining's custom_RMSE: 73416\tvalid_1's l2: 0.0256074\tvalid_1's custom_RMSE: 100928\n",
      "[300]\ttraining's l2: 0.0108384\ttraining's custom_RMSE: 62497.2\tvalid_1's l2: 0.0253527\tvalid_1's custom_RMSE: 100871\n",
      "[400]\ttraining's l2: 0.00870006\ttraining's custom_RMSE: 56482.4\tvalid_1's l2: 0.0254798\tvalid_1's custom_RMSE: 101010\n",
      "\n",
      " 현재 수동모드입니다. rmse가 악화되도 이전 DataFrame으로 복구 하지 않습니다. 기존 RMSE 96031.70697994315 에서 101009.71937814305 로 변했습니다. \n",
      "\n"
     ]
    }
   ],
   "source": [
    "model.df['ratio_sqft2'] = model.df['sqft_living15'] / model.df['sqft_lot15']\n",
    "model.compare_baseline(True)"
   ]
  },
  {
   "cell_type": "code",
   "execution_count": 91,
   "id": "engaged-frost",
   "metadata": {},
   "outputs": [
    {
     "name": "stdout",
     "output_type": "stream",
     "text": [
      "[100]\ttraining's l2: 0.0185989\ttraining's custom_RMSE: 87254\tvalid_1's l2: 0.0259901\tvalid_1's custom_RMSE: 99475.4\n",
      "[200]\ttraining's l2: 0.013939\ttraining's custom_RMSE: 73302.7\tvalid_1's l2: 0.0253683\tvalid_1's custom_RMSE: 99531.1\n",
      "[300]\ttraining's l2: 0.0109365\ttraining's custom_RMSE: 64413.5\tvalid_1's l2: 0.0253427\tvalid_1's custom_RMSE: 99551\n",
      "[400]\ttraining's l2: 0.00886333\ttraining's custom_RMSE: 56936.3\tvalid_1's l2: 0.0253413\tvalid_1's custom_RMSE: 99725\n",
      "\n",
      " 현재 수동모드입니다. rmse가 악화되도 이전 DataFrame으로 복구 하지 않습니다. 기존 RMSE 96031.70697994315 에서 99725.04375707183 로 변했습니다. \n",
      "\n"
     ]
    }
   ],
   "source": [
    "model.df['ratio_lot'] = model.df['sqft_lot'] / model.df['sqft_lot15']\n",
    "model.compare_baseline(True)"
   ]
  },
  {
   "cell_type": "code",
   "execution_count": 92,
   "id": "through-addiction",
   "metadata": {},
   "outputs": [
    {
     "name": "stdout",
     "output_type": "stream",
     "text": [
      "[100]\ttraining's l2: 0.0184458\ttraining's custom_RMSE: 88072.8\tvalid_1's l2: 0.0260413\tvalid_1's custom_RMSE: 100786\n",
      "[200]\ttraining's l2: 0.0136688\ttraining's custom_RMSE: 72401.7\tvalid_1's l2: 0.0253819\tvalid_1's custom_RMSE: 101348\n",
      "[300]\ttraining's l2: 0.0106439\ttraining's custom_RMSE: 62461.6\tvalid_1's l2: 0.0252666\tvalid_1's custom_RMSE: 101921\n",
      "[400]\ttraining's l2: 0.00858181\ttraining's custom_RMSE: 55224.2\tvalid_1's l2: 0.025314\tvalid_1's custom_RMSE: 101151\n",
      "\n",
      " 현재 수동모드입니다. rmse가 악화되도 이전 DataFrame으로 복구 하지 않습니다. 기존 RMSE 96031.70697994315 에서 101150.56774465233 로 변했습니다. \n",
      "\n"
     ]
    }
   ],
   "source": [
    "model.df['ratio_living'] = model.df['sqft_living'] / model.df['sqft_living15']\n",
    "model.compare_baseline(True)"
   ]
  },
  {
   "cell_type": "code",
   "execution_count": 93,
   "id": "agreed-component",
   "metadata": {},
   "outputs": [
    {
     "name": "stdout",
     "output_type": "stream",
     "text": [
      "[100]\ttraining's l2: 0.0181496\ttraining's custom_RMSE: 87242.1\tvalid_1's l2: 0.0256777\tvalid_1's custom_RMSE: 99136.6\n",
      "[200]\ttraining's l2: 0.0133553\ttraining's custom_RMSE: 72404.7\tvalid_1's l2: 0.0250647\tvalid_1's custom_RMSE: 98794.6\n",
      "[300]\ttraining's l2: 0.0104415\ttraining's custom_RMSE: 62637.1\tvalid_1's l2: 0.0249765\tvalid_1's custom_RMSE: 100111\n",
      "[400]\ttraining's l2: 0.00831358\ttraining's custom_RMSE: 54912.7\tvalid_1's l2: 0.0248414\tvalid_1's custom_RMSE: 99814.4\n",
      "\n",
      " 현재 수동모드입니다. rmse가 악화되도 이전 DataFrame으로 복구 하지 않습니다. 기존 RMSE 96031.70697994315 에서 99814.39490548367 로 변했습니다. \n",
      "\n"
     ]
    }
   ],
   "source": [
    "model.df['year'] = pd.to_datetime(model.df['date']).dt.year\n",
    "model.compare_baseline(True)"
   ]
  },
  {
   "cell_type": "code",
   "execution_count": 94,
   "id": "stable-memorial",
   "metadata": {
    "scrolled": true
   },
   "outputs": [
    {
     "name": "stdout",
     "output_type": "stream",
     "text": [
      "[100]\ttraining's l2: 0.0186716\ttraining's custom_RMSE: 87823.3\tvalid_1's l2: 0.0262075\tvalid_1's custom_RMSE: 100033\n",
      "[200]\ttraining's l2: 0.0138376\ttraining's custom_RMSE: 72618.3\tvalid_1's l2: 0.0256112\tvalid_1's custom_RMSE: 99156.8\n",
      "[300]\ttraining's l2: 0.0108216\ttraining's custom_RMSE: 63215.6\tvalid_1's l2: 0.0253616\tvalid_1's custom_RMSE: 98299.8\n",
      "[400]\ttraining's l2: 0.00872182\ttraining's custom_RMSE: 56052.1\tvalid_1's l2: 0.0252014\tvalid_1's custom_RMSE: 98744.6\n",
      "\n",
      " 현재 수동모드입니다. rmse가 악화되도 이전 DataFrame으로 복구 하지 않습니다. 기존 RMSE 96031.70697994315 에서 98744.61201979798 로 변했습니다. \n",
      "\n"
     ]
    }
   ],
   "source": [
    "model.df['year'] = pd.to_datetime(model.df['date']).dt.year\n",
    "model.df['age'] = model.df['yr_built'] - model.df['year']\n",
    "del model.df['year']\n",
    "model.compare_baseline(True)"
   ]
  },
  {
   "cell_type": "code",
   "execution_count": 95,
   "id": "cordless-princeton",
   "metadata": {},
   "outputs": [
    {
     "name": "stdout",
     "output_type": "stream",
     "text": [
      "[100]\ttraining's l2: 0.0180971\ttraining's custom_RMSE: 87400.3\tvalid_1's l2: 0.0255421\tvalid_1's custom_RMSE: 99118.7\n",
      "[200]\ttraining's l2: 0.0131451\ttraining's custom_RMSE: 71069.2\tvalid_1's l2: 0.0248242\tvalid_1's custom_RMSE: 98311.7\n",
      "[300]\ttraining's l2: 0.0102922\ttraining's custom_RMSE: 61199.1\tvalid_1's l2: 0.0247152\tvalid_1's custom_RMSE: 98031.3\n",
      "[400]\ttraining's l2: 0.00817613\ttraining's custom_RMSE: 54619.9\tvalid_1's l2: 0.0248691\tvalid_1's custom_RMSE: 98240.1\n",
      "\n",
      " 현재 수동모드입니다. rmse가 악화되도 이전 DataFrame으로 복구 하지 않습니다. 기존 RMSE 96031.70697994315 에서 98240.0737162504 로 변했습니다. \n",
      "\n"
     ]
    }
   ],
   "source": [
    "model.df['year'] = pd.to_datetime(model.df['date']).dt.year\n",
    "model.df['age2'] = model.df['yr_renovated'] - model.df['year']\n",
    "del model.df['year']\n",
    "model.compare_baseline(True)"
   ]
  },
  {
   "cell_type": "code",
   "execution_count": 96,
   "id": "false-acoustic",
   "metadata": {},
   "outputs": [
    {
     "name": "stdout",
     "output_type": "stream",
     "text": [
      "[100]\ttraining's l2: 0.0176571\ttraining's custom_RMSE: 86165.6\tvalid_1's l2: 0.0257459\tvalid_1's custom_RMSE: 102072\n",
      "[200]\ttraining's l2: 0.012707\ttraining's custom_RMSE: 71836.6\tvalid_1's l2: 0.0249707\tvalid_1's custom_RMSE: 100419\n",
      "[300]\ttraining's l2: 0.00991859\ttraining's custom_RMSE: 62448.7\tvalid_1's l2: 0.0248749\tvalid_1's custom_RMSE: 100400\n",
      "[400]\ttraining's l2: 0.00787838\ttraining's custom_RMSE: 54302.2\tvalid_1's l2: 0.0249306\tvalid_1's custom_RMSE: 100574\n",
      "\n",
      " 현재 수동모드입니다. rmse가 악화되도 이전 DataFrame으로 복구 하지 않습니다. 기존 RMSE 96031.70697994315 에서 100574.11696673663 로 변했습니다. \n",
      "\n"
     ]
    }
   ],
   "source": [
    "model.df['latlong1'] = model.df['lat'] + model.df['long']\n",
    "model.df['latlong2'] = model.df['lat'] - model.df['long']\n",
    "model.compare_baseline(True)"
   ]
  },
  {
   "cell_type": "code",
   "execution_count": 103,
   "id": "prostate-memory",
   "metadata": {
    "scrolled": true
   },
   "outputs": [],
   "source": [
    "pred = model.make_prediction()\n",
    "submission['price'] = pred\n",
    "submission.to_csv('submission.csv', index=False)\n",
    "!kaggle competitions submit -c 2019-2nd-ml-month-with-kakr -f submission.csv -m \"아웃라이어 제거, 로그스케일링, 피쳐엔지니어링\""
   ]
  },
  {
   "cell_type": "markdown",
   "id": "speaking-confusion",
   "metadata": {},
   "source": [
    "<img src=https://i.ibb.co/HnNgPSK/2021-10-18-10-09-04.png width=768></img>"
   ]
  },
  {
   "cell_type": "markdown",
   "id": "virgin-burlington",
   "metadata": {},
   "source": [
    "# Ensemble"
   ]
  },
  {
   "cell_type": "code",
   "execution_count": 98,
   "id": "mediterranean-klein",
   "metadata": {
    "scrolled": true
   },
   "outputs": [
    {
     "data": {
      "text/plain": [
       "<catboost.core.CatBoostRegressor at 0x7f54f14fc210>"
      ]
     },
     "execution_count": 98,
     "metadata": {},
     "output_type": "execute_result"
    }
   ],
   "source": [
    "from catboost import CatBoostRegressor\n",
    "\n",
    "cb = CatBoostRegressor(task_type='GPU')\n",
    "x = model.df[:-model.test_size].copy()\n",
    "y = x['target']\n",
    "\n",
    "for col in ['id', 'target', 'date']:\n",
    "    if col in x.columns:\n",
    "        x = x.drop(col, axis=1)\n",
    "\n",
    "train_x, val_x, train_y, val_y = train_test_split(x, y, test_size=0.2, random_state=32) \n",
    "cb.fit(train_x, train_y, eval_set=(val_x, val_y), early_stopping_rounds=20, verbose=False)"
   ]
  },
  {
   "cell_type": "code",
   "execution_count": 99,
   "id": "floral-paragraph",
   "metadata": {
    "scrolled": true
   },
   "outputs": [
    {
     "data": {
      "text/plain": [
       "XGBRegressor(base_score=0.5, booster='gbtree', colsample_bylevel=1,\n",
       "             colsample_bynode=1, colsample_bytree=1, gamma=0, gpu_id=-1,\n",
       "             importance_type='gain', interaction_constraints='',\n",
       "             learning_rate=0.08, max_delta_step=0, max_depth=6,\n",
       "             min_child_weight=1, missing=nan, monotone_constraints='()',\n",
       "             n_estimators=600, n_jobs=4, num_parallel_tree=1, random_state=0,\n",
       "             reg_alpha=0, reg_lambda=1, scale_pos_weight=1, subsample=1,\n",
       "             tree_method='exact', validate_parameters=1, verbosity=None)"
      ]
     },
     "execution_count": 99,
     "metadata": {},
     "output_type": "execute_result"
    }
   ],
   "source": [
    "from xgboost import XGBRegressor\n",
    "\n",
    "xgb = XGBRegressor(n_estimators=600, learning_rate=0.08)\n",
    "\n",
    "x = model.df[:-model.test_size].copy()\n",
    "y = x['target']\n",
    "\n",
    "for col in ['id', 'target', 'date']:\n",
    "    if col in x.columns:\n",
    "        x = x.drop(col, axis=1)\n",
    "\n",
    "train_x, val_x, train_y, val_y = train_test_split(x, y, test_size=0.2, random_state=32) \n",
    "xgb.fit(train_x, train_y)"
   ]
  },
  {
   "cell_type": "code",
   "execution_count": 100,
   "id": "trying-temple",
   "metadata": {},
   "outputs": [],
   "source": [
    "test_df = model.df[-model.test_size:]\n",
    "for col in ['id', 'target', 'date']:\n",
    "    if col in test_df.columns:\n",
    "        test_df = test_df.drop(col, axis=1)"
   ]
  },
  {
   "cell_type": "code",
   "execution_count": 101,
   "id": "satisfactory-grenada",
   "metadata": {},
   "outputs": [],
   "source": [
    "pred = model.make_prediction()\n",
    "pred1 = np.exp(cb.predict(test_df))\n",
    "pred2 = np.exp(xgb.predict(test_df))"
   ]
  },
  {
   "cell_type": "code",
   "execution_count": 102,
   "id": "threaded-characteristic",
   "metadata": {},
   "outputs": [],
   "source": [
    "submission['price'] = pred*0.5+ pred1*0.1+pred2*0.4\n",
    "submission.to_csv('submission.csv', index=False)\n",
    "!kaggle competitions submit -c 2019-2nd-ml-month-with-kakr -f submission.csv -m \"아웃라이어 제거, 로그스케일링, 피쳐엔지니어링, ensemble\""
   ]
  },
  {
   "cell_type": "markdown",
   "id": "exact-appearance",
   "metadata": {},
   "source": [
    "<img src=https://i.ibb.co/zbSCDqZ/2021-10-18-10-16-38.png width=700></img>"
   ]
  },
  {
   "cell_type": "markdown",
   "id": "4b271625",
   "metadata": {},
   "source": [
    "# 정리\n",
    "RMSE 변화\n",
    "- 121652.13575 제공된 데이터 그대로 모델 훈련\n",
    "- 118597.82522 타겟값에 로그 스케일링\n",
    "- 114092.00781 아웃라이어 제거\n",
    "- 110848.56801 피처엔지니어링 적용\n",
    "- 109364.00681 LGBM, XGBoost, CatBoost 앙상블"
   ]
  }
 ],
 "metadata": {
  "kernelspec": {
   "display_name": "Python 3",
   "language": "python",
   "name": "python3"
  },
  "language_info": {
   "codemirror_mode": {
    "name": "ipython",
    "version": 3
   },
   "file_extension": ".py",
   "mimetype": "text/x-python",
   "name": "python",
   "nbconvert_exporter": "python",
   "pygments_lexer": "ipython3",
   "version": "3.6.9"
  },
  "toc": {
   "base_numbering": 1,
   "nav_menu": {},
   "number_sections": true,
   "sideBar": true,
   "skip_h1_title": false,
   "title_cell": "목차",
   "title_sidebar": "Contents",
   "toc_cell": true,
   "toc_position": {},
   "toc_section_display": true,
   "toc_window_display": true
  }
 },
 "nbformat": 4,
 "nbformat_minor": 5
}
