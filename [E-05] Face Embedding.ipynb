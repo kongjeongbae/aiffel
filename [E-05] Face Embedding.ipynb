{
 "cells": [
  {
   "cell_type": "markdown",
   "id": "07890bf8",
   "metadata": {
    "toc": true
   },
   "source": [
    "<h1>Table of Contents<span class=\"tocSkip\"></span></h1>\n",
    "<div class=\"toc\"><ul class=\"toc-item\"><li><span><a href=\"#라이브러리-로드\" data-toc-modified-id=\"라이브러리-로드-1\"><span class=\"toc-item-num\">1&nbsp;&nbsp;</span>라이브러리 로드</a></span></li><li><span><a href=\"#데이터-준비\" data-toc-modified-id=\"데이터-준비-2\"><span class=\"toc-item-num\">2&nbsp;&nbsp;</span>데이터 준비</a></span></li><li><span><a href=\"#대상-이미지-확인\" data-toc-modified-id=\"대상-이미지-확인-3\"><span class=\"toc-item-num\">3&nbsp;&nbsp;</span>대상 이미지 확인</a></span></li><li><span><a href=\"#사진에서-얼굴-인식하는-함수-정의\" data-toc-modified-id=\"사진에서-얼굴-인식하는-함수-정의-4\"><span class=\"toc-item-num\">4&nbsp;&nbsp;</span>사진에서 얼굴 인식하는 함수 정의</a></span></li><li><span><a href=\"#인식된-얼굴-영역을-잘라내고,-저장하는-함수-정의\" data-toc-modified-id=\"인식된-얼굴-영역을-잘라내고,-저장하는-함수-정의-5\"><span class=\"toc-item-num\">5&nbsp;&nbsp;</span>인식된 얼굴 영역을 잘라내고, 저장하는 함수 정의</a></span><ul class=\"toc-item\"><li><span><a href=\"#위-함수-실행\" data-toc-modified-id=\"위-함수-실행-5.1\"><span class=\"toc-item-num\">5.1&nbsp;&nbsp;</span>위 함수 실행</a></span></li></ul></li><li><span><a href=\"#얼굴영역에서-임베딩-벡터를-추출하고,-값들들-딕셔너리에-담는-함수-정의\" data-toc-modified-id=\"얼굴영역에서-임베딩-벡터를-추출하고,-값들들-딕셔너리에-담는-함수-정의-6\"><span class=\"toc-item-num\">6&nbsp;&nbsp;</span>얼굴영역에서 임베딩 벡터를 추출하고, 값들들 딕셔너리에 담는 함수 정의</a></span><ul class=\"toc-item\"><li><span><a href=\"#위-함수-실행\" data-toc-modified-id=\"위-함수-실행-6.1\"><span class=\"toc-item-num\">6.1&nbsp;&nbsp;</span>위 함수 실행</a></span></li></ul></li><li><span><a href=\"#임베딩-벡터-거리-계산-함수-정의\" data-toc-modified-id=\"임베딩-벡터-거리-계산-함수-정의-7\"><span class=\"toc-item-num\">7&nbsp;&nbsp;</span>임베딩 벡터 거리 계산 함수 정의</a></span><ul class=\"toc-item\"><li><span><a href=\"#위-함수-실행\" data-toc-modified-id=\"위-함수-실행-7.1\"><span class=\"toc-item-num\">7.1&nbsp;&nbsp;</span>위 함수 실행</a></span></li></ul></li><li><span><a href=\"#자신과-비슷한-연예인-사진-보여주는-함수-정의\" data-toc-modified-id=\"자신과-비슷한-연예인-사진-보여주는-함수-정의-8\"><span class=\"toc-item-num\">8&nbsp;&nbsp;</span>자신과 비슷한 연예인 사진 보여주는 함수 정의</a></span><ul class=\"toc-item\"><li><span><a href=\"#위-함수-실행\" data-toc-modified-id=\"위-함수-실행-8.1\"><span class=\"toc-item-num\">8.1&nbsp;&nbsp;</span>위 함수 실행</a></span></li></ul></li><li><span><a href=\"#3차원-공간에-이미지-투영\" data-toc-modified-id=\"3차원-공간에-이미지-투영-9\"><span class=\"toc-item-num\">9&nbsp;&nbsp;</span>3차원 공간에 이미지 투영</a></span><ul class=\"toc-item\"><li><span><a href=\"#만드는-방법\" data-toc-modified-id=\"만드는-방법-9.1\"><span class=\"toc-item-num\">9.1&nbsp;&nbsp;</span>만드는 방법</a></span></li></ul></li></ul></div>"
   ]
  },
  {
   "cell_type": "markdown",
   "id": "0970cbf1",
   "metadata": {},
   "source": [
    "시각화 예시를 직접 확인하려면 아래 링크를 통해 확인 부탁드립니다!\n",
    "  \n",
    "https://nbviewer.org/github/kongjeongbae/aiffel/blob/master/%5BE-05%5D%20Face%20Embedding.ipynb"
   ]
  },
  {
   "cell_type": "markdown",
   "id": "selected-adult",
   "metadata": {},
   "source": [
    "## 라이브러리 로드"
   ]
  },
  {
   "cell_type": "code",
   "execution_count": 1,
   "id": "heard-retreat",
   "metadata": {},
   "outputs": [],
   "source": [
    "import os\n",
    "\n",
    "import numpy as np\n",
    "import face_recognition\n",
    "from PIL import Image\n",
    "import matplotlib.pyplot as plt\n",
    "from matplotlib import font_manager, rc\n",
    "from sklearn.decomposition import PCA\n",
    "\n",
    "from tensorboard.plugins import projector\n",
    "import IPython\n",
    "\n",
    "font_path = \"/usr/share/fonts/truetype/nanum/NanumBarunGothic.ttf\"\n",
    "font = font_manager.FontProperties(fname=font_path).get_name()\n",
    "rc('font', family=font)\n",
    "\n"
   ]
  },
  {
   "cell_type": "markdown",
   "id": "going-rhythm",
   "metadata": {},
   "source": [
    "## 데이터 준비"
   ]
  },
  {
   "cell_type": "code",
   "execution_count": 2,
   "id": "accepted-ground",
   "metadata": {},
   "outputs": [],
   "source": [
    "dir_path = 'face_embedding/entertainer_images'\n",
    "file_list = os.listdir(dir_path)\n",
    "files = {''.join(x.split('.')[:-1]): x.split('.')[-1] for x in file_list}"
   ]
  },
  {
   "cell_type": "code",
   "execution_count": 3,
   "id": "respected-inquiry",
   "metadata": {},
   "outputs": [
    {
     "name": "stdout",
     "output_type": "stream",
     "text": [
      "준비한 사진 개수: 2087 개\n"
     ]
    }
   ],
   "source": [
    "print(f'준비한 사진 개수: {len(files)} 개')"
   ]
  },
  {
   "cell_type": "markdown",
   "id": "sacred-adams",
   "metadata": {},
   "source": [
    "## 대상 이미지 확인"
   ]
  },
  {
   "cell_type": "code",
   "execution_count": 17,
   "id": "super-classics",
   "metadata": {
    "scrolled": true
   },
   "outputs": [],
   "source": [
    "# img = Image.open(dir_path + '/me.jpg')\n",
    "# img = np.asarray(img)\n",
    "# plt.imshow(img)\n",
    "# plt.title(f'연예인 사진들과 비교할 사진', fontsize=12)\n",
    "# plt.show()"
   ]
  },
  {
   "cell_type": "markdown",
   "id": "casual-computer",
   "metadata": {},
   "source": [
    "<img src=https://i.ibb.co/Kr2cbCM/2021-10-13-11-23-58.png width=350></img>"
   ]
  },
  {
   "cell_type": "markdown",
   "id": "professional-addiction",
   "metadata": {},
   "source": [
    "## 사진에서 얼굴 인식하는 함수 정의"
   ]
  },
  {
   "cell_type": "code",
   "execution_count": 5,
   "id": "peaceful-simon",
   "metadata": {},
   "outputs": [],
   "source": [
    "def get_cropped_face(image_file):\n",
    "    image = face_recognition.load_image_file(image_file)\n",
    "    \n",
    "    face_locations = face_recognition.face_locations(image)\n",
    "    if not face_locations:\n",
    "        return np.array([])\n",
    "    a, b, c, d = face_locations[0]\n",
    "    cropped_face = image[a:c,d:b,:]\n",
    "    return cropped_face\n"
   ]
  },
  {
   "cell_type": "markdown",
   "id": "mexican-clothing",
   "metadata": {},
   "source": [
    "## 인식된 얼굴 영역을 잘라내고, 저장하는 함수 정의"
   ]
  },
  {
   "cell_type": "code",
   "execution_count": 6,
   "id": "reverse-virgin",
   "metadata": {},
   "outputs": [],
   "source": [
    "def save_cropped_img(img_path, save_path):\n",
    "    file_list = os.listdir(dir_path)\n",
    "    for file in file_list:\n",
    "        img_path = os.path.join(dir_path, file)\n",
    "        face = get_cropped_face(img_path)\n",
    "        if not face.any():\n",
    "            continue\n",
    "        crop = Image.fromarray(face)\n",
    "        crop.save(os.path.join(save_path, file))"
   ]
  },
  {
   "cell_type": "markdown",
   "id": "plastic-victor",
   "metadata": {},
   "source": [
    "### 위 함수 실행"
   ]
  },
  {
   "cell_type": "code",
   "execution_count": 7,
   "id": "constitutional-advocate",
   "metadata": {},
   "outputs": [],
   "source": [
    "# save_cropped_img('face_embedding/entertainer_images', 'face_embedding/cropped')"
   ]
  },
  {
   "cell_type": "markdown",
   "id": "everyday-trademark",
   "metadata": {},
   "source": [
    "## 얼굴영역에서 임베딩 벡터를 추출하고, 값들들 딕셔너리에 담는 함수 정의"
   ]
  },
  {
   "cell_type": "code",
   "execution_count": 8,
   "id": "silver-sacramento",
   "metadata": {},
   "outputs": [],
   "source": [
    "def get_face_embedding_dict(dir_path):\n",
    "    file_list = os.listdir(dir_path)\n",
    "    embedding_dict = {}\n",
    "    \n",
    "    for file in file_list:\n",
    "        if file == '.ipynb_checkpoints':\n",
    "            continue\n",
    "        img_path = os.path.join(dir_path, file)\n",
    "        face = Image.open(img_path)\n",
    "        face = np.asarray(face).astype(np.uint8)\n",
    "        embedding = face_recognition.face_encodings(face)\n",
    "        if len(embedding) > 0:\n",
    "            embedding_dict[os.path.splitext(file)[0]] = embedding[0]\n",
    "        \n",
    "    return embedding_dict"
   ]
  },
  {
   "cell_type": "markdown",
   "id": "hairy-louisiana",
   "metadata": {},
   "source": [
    "### 위 함수 실행"
   ]
  },
  {
   "cell_type": "code",
   "execution_count": 9,
   "id": "aboriginal-liberty",
   "metadata": {
    "scrolled": false
   },
   "outputs": [],
   "source": [
    "embedding_dict = get_face_embedding_dict('face_embedding/cropped')"
   ]
  },
  {
   "cell_type": "markdown",
   "id": "shared-aquatic",
   "metadata": {},
   "source": [
    "## 임베딩 벡터 거리 계산 함수 정의"
   ]
  },
  {
   "cell_type": "code",
   "execution_count": 10,
   "id": "nearby-heath",
   "metadata": {},
   "outputs": [],
   "source": [
    "def get_distance(name1, name2):\n",
    "    return np.linalg.norm(embedding_dict[name1]-embedding_dict[name2], ord=2)"
   ]
  },
  {
   "cell_type": "code",
   "execution_count": 11,
   "id": "objective-malpractice",
   "metadata": {},
   "outputs": [],
   "source": [
    "def get_nearest_face(name1, embeddings):\n",
    "    distances = []\n",
    "    for name2, embedding in embeddings.items():\n",
    "        dist = get_distance(name1, name2)\n",
    "        distances.append((name2, dist))\n",
    "\n",
    "    return sorted(distances, key=lambda x: x[1])"
   ]
  },
  {
   "cell_type": "markdown",
   "id": "packed-keeping",
   "metadata": {},
   "source": [
    "### 위 함수 실행"
   ]
  },
  {
   "cell_type": "code",
   "execution_count": 12,
   "id": "under-tradition",
   "metadata": {},
   "outputs": [],
   "source": [
    "similar_me = get_nearest_face('me', embedding_dict)"
   ]
  },
  {
   "cell_type": "code",
   "execution_count": 13,
   "id": "sapphire-replacement",
   "metadata": {
    "scrolled": false
   },
   "outputs": [
    {
     "data": {
      "text/plain": [
       "[('me', 0.0),\n",
       " ('송재림', 0.4655352663038861),\n",
       " ('강기영', 0.5075935958370779),\n",
       " ('차승원', 0.5093302967734824),\n",
       " ('김선호', 0.5127612185914265),\n",
       " ('이태성', 0.513939193920251),\n",
       " ('이원근', 0.5162178496107247),\n",
       " ('모세', 0.5203525498530681),\n",
       " ('원빈', 0.5220094920778362),\n",
       " ('지세현', 0.5269769273723541),\n",
       " ('김무열', 0.5275479867763232),\n",
       " ('온주완', 0.5276608574704723),\n",
       " ('임호', 0.52869403531494),\n",
       " ('최원영', 0.5318976652363118),\n",
       " ('이승원', 0.5329650822308574),\n",
       " ('이루', 0.5337574436575673),\n",
       " ('김래원', 0.5363691180542004),\n",
       " ('손병호', 0.5381010496820169),\n",
       " ('강정우', 0.5386364494054393),\n",
       " ('에디 킴', 0.5400806153862558),\n",
       " ('홍종현', 0.5402897702994047),\n",
       " ('엄태웅', 0.5418142181578144),\n",
       " ('양동재', 0.5419513921489182),\n",
       " ('옥택연', 0.5450776786052589),\n",
       " ('유민규', 0.5455522570510913),\n",
       " ('탕준상', 0.5484097272850436),\n",
       " ('엄태구', 0.5491505476738925),\n",
       " ('이상우', 0.5492843055998068),\n",
       " ('임슬옹', 0.5503210667286782),\n",
       " ('박성웅', 0.5506532060863719),\n",
       " ('정경호', 0.5507792580641667),\n",
       " ('이학주', 0.5511639122106268),\n",
       " ('이상윤', 0.5524158259783892),\n",
       " ('박남정', 0.5525576342561953),\n",
       " ('브로', 0.5530078900960833),\n",
       " ('최민용', 0.5535179886317384),\n",
       " ('정호빈', 0.5537359439394866),\n",
       " ('오민석', 0.5537562232579766),\n",
       " ('김동완', 0.5540862530895729),\n",
       " ('정재원', 0.5550722431312819),\n",
       " ('홍경인', 0.5581797681858934),\n",
       " ('송재희', 0.5597678586379707),\n",
       " ('강태오', 0.5607658803818399),\n",
       " ('리치', 0.5614337991436114),\n",
       " ('유태웅', 0.5617577976287776),\n",
       " ('이태환', 0.5642211694608679),\n",
       " ('권동호', 0.5643109280744468),\n",
       " ('박지빈', 0.5645629900056954),\n",
       " ('곽동연', 0.5646590243728672),\n",
       " ('정운택', 0.564721828871764)]"
      ]
     },
     "execution_count": 13,
     "metadata": {},
     "output_type": "execute_result"
    }
   ],
   "source": [
    "similar_me[:50]"
   ]
  },
  {
   "cell_type": "markdown",
   "id": "fatal-charles",
   "metadata": {},
   "source": [
    "## 자신과 비슷한 연예인 사진 보여주는 함수 정의"
   ]
  },
  {
   "cell_type": "code",
   "execution_count": 14,
   "id": "considerable-terminal",
   "metadata": {},
   "outputs": [],
   "source": [
    "def show_similar_img(arr, files, nums):\n",
    "    for name, dist in arr[:nums+1]:\n",
    "        filename = name + '.' + files[name]\n",
    "        img = Image.open(dir_path + f'/{filename}')\n",
    "        img = np.asarray(img)\n",
    "        plt.title(f'{name} - 거리: {round(dist, 3)}', fontsize=15)\n",
    "        plt.imshow(img)\n",
    "        plt.show()\n"
   ]
  },
  {
   "cell_type": "markdown",
   "id": "listed-temple",
   "metadata": {},
   "source": [
    "### 위 함수 실행"
   ]
  },
  {
   "cell_type": "code",
   "execution_count": 16,
   "id": "south-boutique",
   "metadata": {
    "scrolled": false
   },
   "outputs": [],
   "source": [
    "# show_similar_img(similar_me, files, 5)"
   ]
  },
  {
   "cell_type": "markdown",
   "id": "detected-reservoir",
   "metadata": {},
   "source": [
    "<img src=https://i.ibb.co/wJ64bGh/2021-10-13-11-26-23.png width=350></img>"
   ]
  },
  {
   "cell_type": "markdown",
   "id": "shaped-settle",
   "metadata": {},
   "source": [
    "## 3차원 공간에 이미지 투영\n",
    "- PCA\n",
    "- UMAP\n",
    "- T-SNE  \n",
    "  \n",
    "위 방법을 통해 임베딩을 3차원 공간에 투영해봅시다."
   ]
  },
  {
   "cell_type": "code",
   "execution_count": 3,
   "id": "geographic-limit",
   "metadata": {
    "ExecuteTime": {
     "end_time": "2021-10-14T03:01:40.267388Z",
     "start_time": "2021-10-14T03:01:40.258048Z"
    },
    "scrolled": false
   },
   "outputs": [
    {
     "data": {
      "text/html": [
       "\n",
       "        <iframe\n",
       "            width=\"1333\"\n",
       "            height=\"900\"\n",
       "            src=\"https://projector.tensorflow.org/?config=https://gist.githubusercontent.com/kongjeongbae/68971ea600d7aa4ccf14a78ac5ed3334/raw/5c2eaf960d7fbba6bfa268b28588ad64e230514a/projector_config.json\"\n",
       "            frameborder=\"0\"\n",
       "            allowfullscreen\n",
       "        ></iframe>\n",
       "        "
      ],
      "text/plain": [
       "<IPython.lib.display.IFrame at 0x7f7ae01f14e0>"
      ]
     },
     "execution_count": 3,
     "metadata": {},
     "output_type": "execute_result"
    }
   ],
   "source": [
    "url = 'https://projector.tensorflow.org/?config=https://gist.githubusercontent.com/kongjeongbae/68971ea600d7aa4ccf14a78ac5ed3334/raw/5c2eaf960d7fbba6bfa268b28588ad64e230514a/projector_config.json'\n",
    "IPython.display.IFrame(url, width=1333, height=900)"
   ]
  },
  {
   "cell_type": "markdown",
   "id": "384fe795",
   "metadata": {},
   "source": [
    "<img src=https://i.ibb.co/HCZTC9F/2021-10-14-12-00-49.png width=600></img>"
   ]
  },
  {
   "cell_type": "markdown",
   "id": "polish-laser",
   "metadata": {},
   "source": [
    "조금 더 큰 화면에서 보고 싶으시면,\n",
    "  \n",
    "https://projector.tensorflow.org/?config=https://gist.githubusercontent.com/kongjeongbae/68971ea600d7aa4ccf14a78ac5ed3334/raw/5c2eaf960d7fbba6bfa268b28588ad64e230514a/projector_config.json 에서 직접 실행해보세요!"
   ]
  },
  {
   "cell_type": "markdown",
   "id": "dressed-defense",
   "metadata": {},
   "source": [
    "### 만드는 방법\n",
    "- https://projector.tensorflow.org/ 접속\n",
    "- 자신의 벡터 집합을 tsv 파일로 만든다.\n",
    "- 각 벡터의 label을 tsv 파일로 만든다.\n",
    "- 각 tsv파일을 gist 등을 통해 배포 다이렉트 링크를 만듭니다.\n",
    "- 위 사이트 좌상단 publish 버튼을 누른 후, 아래 내용대로 진행하면 됩니다."
   ]
  },
  {
   "cell_type": "markdown",
   "id": "italian-welding",
   "metadata": {},
   "source": [
    "<img src=https://i.ibb.co/vzgtrFG/2021-10-13-13-48-48.png width=500></img>"
   ]
  }
 ],
 "metadata": {
  "kernelspec": {
   "display_name": "Python 3",
   "language": "python",
   "name": "python3"
  },
  "language_info": {
   "codemirror_mode": {
    "name": "ipython",
    "version": 3
   },
   "file_extension": ".py",
   "mimetype": "text/x-python",
   "name": "python",
   "nbconvert_exporter": "python",
   "pygments_lexer": "ipython3",
   "version": "3.6.9"
  },
  "toc": {
   "base_numbering": 1,
   "nav_menu": {},
   "number_sections": true,
   "sideBar": true,
   "skip_h1_title": false,
   "title_cell": "Table of Contents",
   "title_sidebar": "Contents",
   "toc_cell": true,
   "toc_position": {},
   "toc_section_display": true,
   "toc_window_display": true
  }
 },
 "nbformat": 4,
 "nbformat_minor": 5
}
